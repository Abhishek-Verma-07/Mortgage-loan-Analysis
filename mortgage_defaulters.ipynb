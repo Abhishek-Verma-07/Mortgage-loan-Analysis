{
 "cells": [
  {
   "cell_type": "markdown",
   "metadata": {},
   "source": [
    "# Objective:\n",
    "1. We would like to predict, who are going to become as defaulter or deliquent customer\n",
    "2. Defination: any customers, who are not paying the bills contionously for 180 days those customers are called as deliquent customers\n",
    "3. data should have both acquistion file and performance file\n",
    "4. curate the data, explore the data, treat the data\n",
    "5. varaible creation,varaiable reduction \n",
    "6. model building and model validation\n",
    "7. providing the recommendations"
   ]
  },
  {
   "cell_type": "code",
   "execution_count": 1,
   "metadata": {},
   "outputs": [],
   "source": [
    "# import libraries into python\n",
    "import numpy as np\n",
    "import pandas as pd\n",
    "import matplotlib.pyplot as plt # visualization\n",
    "import seaborn as sns # visulalization\n",
    "from sklearn.model_selection import train_test_split # to split the data into training and validation\n",
    "%matplotlib inline"
   ]
  },
  {
   "cell_type": "code",
   "execution_count": 2,
   "metadata": {},
   "outputs": [],
   "source": [
    "col_acq = ['LoanID','Channel','SellerName','OrInterestRate','OrUnpaidPrinc','OrLoanTerm',\n",
    "         'OrDate','FirstPayment','OrLTV','OrCLTV','NumBorrow','DTIRat','CreditScore',\n",
    "        'FTHomeBuyer','LoanPurpose','PropertyType','NumUnits','OccStatus','PropertyState',\n",
    "        'Zip','MortInsPerc','ProductType','CoCreditScore','MortInsType','RelMortInd']\n",
    "\n",
    "col_per = ['LoanID','ReportingDate','Servicer','CurrInterestRate','CAUPB','LoanAge','MonthsToMaturity',\n",
    "          'AdMonthsToMaturity','MaturityDate','MSA','CurDelStatus','ModFlag','ZeroBalCode','ZeroBalEffDate',\n",
    "          'LastInstallDate','ForeclosureDate','DispositionDate','ForeclosureCost','RepairCost','AssetRecCost','MiscCostsPF',\n",
    "           'ATFHP','NetSaleProceeds','CreditEnhProceeds','RPMWP','OtherForePro','NonInterestUPB','PricipleForgiven','RMWPF',\n",
    "          'FPWA','ServicingIndicator']"
   ]
  },
  {
   "cell_type": "code",
   "execution_count": 3,
   "metadata": {},
   "outputs": [],
   "source": [
    "acq07Q4=pd.read_csv(\"C:\\\\Users\\\\HP\\\\Documents\\\\Data Science\\\\Data Set\\\\Acquisition_2007Q4.txt\",sep=\"|\",names=col_acq)\n",
    "\n",
    "per07Q4=pd.read_csv(\"C:\\\\Users\\\\HP\\\\Documents\\\\Data Science\\\\Data Set\\\\Performance_2007Q4.txt\",sep=\"|\",names=col_per, usecols=[0, 15])\n"
   ]
  },
  {
   "cell_type": "code",
   "execution_count": 4,
   "metadata": {},
   "outputs": [
    {
     "name": "stdout",
     "output_type": "stream",
     "text": [
      "(391209, 25) (20864257, 2)\n"
     ]
    }
   ],
   "source": [
    "print(acq07Q4.shape,per07Q4.shape)"
   ]
  },
  {
   "cell_type": "code",
   "execution_count": 5,
   "metadata": {},
   "outputs": [
    {
     "data": {
      "text/html": [
       "<div>\n",
       "<style scoped>\n",
       "    .dataframe tbody tr th:only-of-type {\n",
       "        vertical-align: middle;\n",
       "    }\n",
       "\n",
       "    .dataframe tbody tr th {\n",
       "        vertical-align: top;\n",
       "    }\n",
       "\n",
       "    .dataframe thead th {\n",
       "        text-align: right;\n",
       "    }\n",
       "</style>\n",
       "<table border=\"1\" class=\"dataframe\">\n",
       "  <thead>\n",
       "    <tr style=\"text-align: right;\">\n",
       "      <th></th>\n",
       "      <th>LoanID</th>\n",
       "      <th>ForeclosureDate</th>\n",
       "    </tr>\n",
       "  </thead>\n",
       "  <tbody>\n",
       "    <tr>\n",
       "      <th>20864252</th>\n",
       "      <td>999999565669</td>\n",
       "      <td>NaN</td>\n",
       "    </tr>\n",
       "    <tr>\n",
       "      <th>20864253</th>\n",
       "      <td>999999565669</td>\n",
       "      <td>NaN</td>\n",
       "    </tr>\n",
       "    <tr>\n",
       "      <th>20864254</th>\n",
       "      <td>999999565669</td>\n",
       "      <td>NaN</td>\n",
       "    </tr>\n",
       "    <tr>\n",
       "      <th>20864255</th>\n",
       "      <td>999999565669</td>\n",
       "      <td>NaN</td>\n",
       "    </tr>\n",
       "    <tr>\n",
       "      <th>20864256</th>\n",
       "      <td>999999565669</td>\n",
       "      <td>NaN</td>\n",
       "    </tr>\n",
       "  </tbody>\n",
       "</table>\n",
       "</div>"
      ],
      "text/plain": [
       "                LoanID ForeclosureDate\n",
       "20864252  999999565669             NaN\n",
       "20864253  999999565669             NaN\n",
       "20864254  999999565669             NaN\n",
       "20864255  999999565669             NaN\n",
       "20864256  999999565669             NaN"
      ]
     },
     "execution_count": 5,
     "metadata": {},
     "output_type": "execute_result"
    }
   ],
   "source": [
    "per07Q4.tail()"
   ]
  },
  {
   "cell_type": "code",
   "execution_count": 6,
   "metadata": {},
   "outputs": [],
   "source": [
    "per07Q4.drop_duplicates(subset='LoanID', keep='last', inplace=True)"
   ]
  },
  {
   "cell_type": "code",
   "execution_count": 7,
   "metadata": {},
   "outputs": [
    {
     "data": {
      "text/plain": [
       "(391209, 2)"
      ]
     },
     "execution_count": 7,
     "metadata": {},
     "output_type": "execute_result"
    }
   ],
   "source": [
    "per07Q4.shape"
   ]
  },
  {
   "cell_type": "code",
   "execution_count": 8,
   "metadata": {},
   "outputs": [],
   "source": [
    "acq_perf=pd.merge(acq07Q4,per07Q4,on='LoanID')"
   ]
  },
  {
   "cell_type": "code",
   "execution_count": 9,
   "metadata": {},
   "outputs": [
    {
     "data": {
      "text/plain": [
       "(391209, 26)"
      ]
     },
     "execution_count": 9,
     "metadata": {},
     "output_type": "execute_result"
    }
   ],
   "source": [
    "acq_perf.shape"
   ]
  },
  {
   "cell_type": "code",
   "execution_count": 10,
   "metadata": {},
   "outputs": [
    {
     "data": {
      "text/plain": [
       "['LoanID',\n",
       " 'Channel',\n",
       " 'SellerName',\n",
       " 'OrInterestRate',\n",
       " 'OrUnpaidPrinc',\n",
       " 'OrLoanTerm',\n",
       " 'OrDate',\n",
       " 'FirstPayment',\n",
       " 'OrLTV',\n",
       " 'OrCLTV',\n",
       " 'NumBorrow',\n",
       " 'DTIRat',\n",
       " 'CreditScore',\n",
       " 'FTHomeBuyer',\n",
       " 'LoanPurpose',\n",
       " 'PropertyType',\n",
       " 'NumUnits',\n",
       " 'OccStatus',\n",
       " 'PropertyState',\n",
       " 'Zip',\n",
       " 'MortInsPerc',\n",
       " 'ProductType',\n",
       " 'CoCreditScore',\n",
       " 'MortInsType',\n",
       " 'RelMortInd',\n",
       " 'ForeclosureDate']"
      ]
     },
     "execution_count": 10,
     "metadata": {},
     "output_type": "execute_result"
    }
   ],
   "source": [
    "list(acq_perf.columns)"
   ]
  },
  {
   "cell_type": "code",
   "execution_count": 11,
   "metadata": {},
   "outputs": [
    {
     "name": "stdout",
     "output_type": "stream",
     "text": [
      "<class 'pandas.core.frame.DataFrame'>\n",
      "Int64Index: 391209 entries, 0 to 391208\n",
      "Data columns (total 26 columns):\n",
      "LoanID             391209 non-null int64\n",
      "Channel            391209 non-null object\n",
      "SellerName         391209 non-null object\n",
      "OrInterestRate     391208 non-null float64\n",
      "OrUnpaidPrinc      391209 non-null int64\n",
      "OrLoanTerm         391209 non-null int64\n",
      "OrDate             391209 non-null object\n",
      "FirstPayment       391209 non-null object\n",
      "OrLTV              391209 non-null int64\n",
      "OrCLTV             391177 non-null float64\n",
      "NumBorrow          391203 non-null float64\n",
      "DTIRat             379728 non-null float64\n",
      "CreditScore        390583 non-null float64\n",
      "FTHomeBuyer        391209 non-null object\n",
      "LoanPurpose        391209 non-null object\n",
      "PropertyType       391209 non-null object\n",
      "NumUnits           391209 non-null int64\n",
      "OccStatus          391209 non-null object\n",
      "PropertyState      391209 non-null object\n",
      "Zip                391209 non-null int64\n",
      "MortInsPerc        84925 non-null float64\n",
      "ProductType        391209 non-null object\n",
      "CoCreditScore      156239 non-null float64\n",
      "MortInsType        84925 non-null float64\n",
      "RelMortInd         391209 non-null object\n",
      "ForeclosureDate    35224 non-null object\n",
      "dtypes: float64(8), int64(6), object(12)\n",
      "memory usage: 80.6+ MB\n"
     ]
    }
   ],
   "source": [
    "acq_perf.info()"
   ]
  },
  {
   "cell_type": "code",
   "execution_count": 12,
   "metadata": {},
   "outputs": [
    {
     "data": {
      "text/plain": [
       "datetime.datetime(2007, 10, 1, 0, 0)"
      ]
     },
     "execution_count": 12,
     "metadata": {},
     "output_type": "execute_result"
    }
   ],
   "source": [
    "from datetime import datetime\n",
    "datetime.strptime(\"10/2007\", '%m/%Y')"
   ]
  },
  {
   "cell_type": "code",
   "execution_count": 13,
   "metadata": {},
   "outputs": [
    {
     "data": {
      "text/html": [
       "<div>\n",
       "<style scoped>\n",
       "    .dataframe tbody tr th:only-of-type {\n",
       "        vertical-align: middle;\n",
       "    }\n",
       "\n",
       "    .dataframe tbody tr th {\n",
       "        vertical-align: top;\n",
       "    }\n",
       "\n",
       "    .dataframe thead th {\n",
       "        text-align: right;\n",
       "    }\n",
       "</style>\n",
       "<table border=\"1\" class=\"dataframe\">\n",
       "  <thead>\n",
       "    <tr style=\"text-align: right;\">\n",
       "      <th></th>\n",
       "      <th>LoanID</th>\n",
       "      <th>Channel</th>\n",
       "      <th>SellerName</th>\n",
       "      <th>OrInterestRate</th>\n",
       "      <th>OrUnpaidPrinc</th>\n",
       "      <th>OrLoanTerm</th>\n",
       "      <th>OrDate</th>\n",
       "      <th>FirstPayment</th>\n",
       "      <th>OrLTV</th>\n",
       "      <th>OrCLTV</th>\n",
       "      <th>...</th>\n",
       "      <th>NumUnits</th>\n",
       "      <th>OccStatus</th>\n",
       "      <th>PropertyState</th>\n",
       "      <th>Zip</th>\n",
       "      <th>MortInsPerc</th>\n",
       "      <th>ProductType</th>\n",
       "      <th>CoCreditScore</th>\n",
       "      <th>MortInsType</th>\n",
       "      <th>RelMortInd</th>\n",
       "      <th>ForeclosureDate</th>\n",
       "    </tr>\n",
       "  </thead>\n",
       "  <tbody>\n",
       "    <tr>\n",
       "      <th>0</th>\n",
       "      <td>100002296854</td>\n",
       "      <td>C</td>\n",
       "      <td>BANK OF AMERICA, N.A.</td>\n",
       "      <td>6.625</td>\n",
       "      <td>343000</td>\n",
       "      <td>360</td>\n",
       "      <td>10/2007</td>\n",
       "      <td>12/2007</td>\n",
       "      <td>86</td>\n",
       "      <td>86.0</td>\n",
       "      <td>...</td>\n",
       "      <td>1</td>\n",
       "      <td>P</td>\n",
       "      <td>CO</td>\n",
       "      <td>809</td>\n",
       "      <td>25.0</td>\n",
       "      <td>FRM</td>\n",
       "      <td>756.0</td>\n",
       "      <td>2.0</td>\n",
       "      <td>N</td>\n",
       "      <td>NaN</td>\n",
       "    </tr>\n",
       "    <tr>\n",
       "      <th>1</th>\n",
       "      <td>100006876815</td>\n",
       "      <td>C</td>\n",
       "      <td>BANK OF AMERICA, N.A.</td>\n",
       "      <td>6.250</td>\n",
       "      <td>400000</td>\n",
       "      <td>360</td>\n",
       "      <td>10/2007</td>\n",
       "      <td>12/2007</td>\n",
       "      <td>62</td>\n",
       "      <td>62.0</td>\n",
       "      <td>...</td>\n",
       "      <td>1</td>\n",
       "      <td>P</td>\n",
       "      <td>CA</td>\n",
       "      <td>920</td>\n",
       "      <td>NaN</td>\n",
       "      <td>FRM</td>\n",
       "      <td>790.0</td>\n",
       "      <td>NaN</td>\n",
       "      <td>N</td>\n",
       "      <td>NaN</td>\n",
       "    </tr>\n",
       "    <tr>\n",
       "      <th>2</th>\n",
       "      <td>100008184591</td>\n",
       "      <td>B</td>\n",
       "      <td>OTHER</td>\n",
       "      <td>6.625</td>\n",
       "      <td>81000</td>\n",
       "      <td>360</td>\n",
       "      <td>11/2007</td>\n",
       "      <td>01/2008</td>\n",
       "      <td>64</td>\n",
       "      <td>82.0</td>\n",
       "      <td>...</td>\n",
       "      <td>1</td>\n",
       "      <td>P</td>\n",
       "      <td>LA</td>\n",
       "      <td>708</td>\n",
       "      <td>NaN</td>\n",
       "      <td>FRM</td>\n",
       "      <td>NaN</td>\n",
       "      <td>NaN</td>\n",
       "      <td>N</td>\n",
       "      <td>NaN</td>\n",
       "    </tr>\n",
       "    <tr>\n",
       "      <th>3</th>\n",
       "      <td>100008870761</td>\n",
       "      <td>B</td>\n",
       "      <td>AMTRUST BANK</td>\n",
       "      <td>6.500</td>\n",
       "      <td>119000</td>\n",
       "      <td>360</td>\n",
       "      <td>11/2007</td>\n",
       "      <td>01/2008</td>\n",
       "      <td>71</td>\n",
       "      <td>71.0</td>\n",
       "      <td>...</td>\n",
       "      <td>1</td>\n",
       "      <td>P</td>\n",
       "      <td>IL</td>\n",
       "      <td>600</td>\n",
       "      <td>NaN</td>\n",
       "      <td>FRM</td>\n",
       "      <td>NaN</td>\n",
       "      <td>NaN</td>\n",
       "      <td>N</td>\n",
       "      <td>NaN</td>\n",
       "    </tr>\n",
       "    <tr>\n",
       "      <th>4</th>\n",
       "      <td>100013284158</td>\n",
       "      <td>B</td>\n",
       "      <td>BANK OF AMERICA, N.A.</td>\n",
       "      <td>6.625</td>\n",
       "      <td>205000</td>\n",
       "      <td>360</td>\n",
       "      <td>10/2007</td>\n",
       "      <td>12/2007</td>\n",
       "      <td>27</td>\n",
       "      <td>27.0</td>\n",
       "      <td>...</td>\n",
       "      <td>1</td>\n",
       "      <td>P</td>\n",
       "      <td>CA</td>\n",
       "      <td>907</td>\n",
       "      <td>NaN</td>\n",
       "      <td>FRM</td>\n",
       "      <td>NaN</td>\n",
       "      <td>NaN</td>\n",
       "      <td>N</td>\n",
       "      <td>NaN</td>\n",
       "    </tr>\n",
       "  </tbody>\n",
       "</table>\n",
       "<p>5 rows × 26 columns</p>\n",
       "</div>"
      ],
      "text/plain": [
       "         LoanID Channel             SellerName  OrInterestRate  OrUnpaidPrinc  \\\n",
       "0  100002296854       C  BANK OF AMERICA, N.A.           6.625         343000   \n",
       "1  100006876815       C  BANK OF AMERICA, N.A.           6.250         400000   \n",
       "2  100008184591       B                  OTHER           6.625          81000   \n",
       "3  100008870761       B           AMTRUST BANK           6.500         119000   \n",
       "4  100013284158       B  BANK OF AMERICA, N.A.           6.625         205000   \n",
       "\n",
       "   OrLoanTerm   OrDate FirstPayment  OrLTV  OrCLTV  ...  NumUnits  OccStatus  \\\n",
       "0         360  10/2007      12/2007     86    86.0  ...         1          P   \n",
       "1         360  10/2007      12/2007     62    62.0  ...         1          P   \n",
       "2         360  11/2007      01/2008     64    82.0  ...         1          P   \n",
       "3         360  11/2007      01/2008     71    71.0  ...         1          P   \n",
       "4         360  10/2007      12/2007     27    27.0  ...         1          P   \n",
       "\n",
       "   PropertyState  Zip MortInsPerc ProductType  CoCreditScore MortInsType  \\\n",
       "0             CO  809        25.0         FRM          756.0         2.0   \n",
       "1             CA  920         NaN         FRM          790.0         NaN   \n",
       "2             LA  708         NaN         FRM            NaN         NaN   \n",
       "3             IL  600         NaN         FRM            NaN         NaN   \n",
       "4             CA  907         NaN         FRM            NaN         NaN   \n",
       "\n",
       "  RelMortInd  ForeclosureDate  \n",
       "0          N              NaN  \n",
       "1          N              NaN  \n",
       "2          N              NaN  \n",
       "3          N              NaN  \n",
       "4          N              NaN  \n",
       "\n",
       "[5 rows x 26 columns]"
      ]
     },
     "execution_count": 13,
     "metadata": {},
     "output_type": "execute_result"
    }
   ],
   "source": [
    "acq_perf.head()"
   ]
  },
  {
   "cell_type": "code",
   "execution_count": 14,
   "metadata": {},
   "outputs": [],
   "source": [
    "acq_perf[\"FirstPayment\"]=pd.to_datetime(acq_perf[\"FirstPayment\"])\n",
    "acq_perf[\"OrDate\"]=pd.to_datetime(acq_perf[\"OrDate\"])"
   ]
  },
  {
   "cell_type": "code",
   "execution_count": 15,
   "metadata": {},
   "outputs": [],
   "source": [
    "acq_perf[\"date_diff\"]=acq_perf[\"FirstPayment\"]-acq_perf[\"OrDate\"]"
   ]
  },
  {
   "cell_type": "code",
   "execution_count": 16,
   "metadata": {},
   "outputs": [
    {
     "data": {
      "text/plain": [
       "61 days    86.255684\n",
       "62 days     7.288176\n",
       "92 days     2.458532\n",
       "31 days     1.668418\n",
       "30 days     1.241791\n",
       "91 days     0.832547\n",
       "59 days     0.230567\n",
       "90 days     0.010992\n",
       "89 days     0.005879\n",
       "28 days     0.005112\n",
       "0 days      0.002301\n",
       "Name: date_diff, dtype: float64"
      ]
     },
     "execution_count": 16,
     "metadata": {},
     "output_type": "execute_result"
    }
   ],
   "source": [
    "acq_perf[\"date_diff\"].value_counts()/len(acq_perf)*100"
   ]
  },
  {
   "cell_type": "markdown",
   "metadata": {},
   "source": [
    "# 95 % of customers are paying first EMI after 60 days"
   ]
  },
  {
   "cell_type": "code",
   "execution_count": 17,
   "metadata": {},
   "outputs": [
    {
     "data": {
      "text/plain": [
       "(391209, 27)"
      ]
     },
     "execution_count": 17,
     "metadata": {},
     "output_type": "execute_result"
    }
   ],
   "source": [
    "acq_perf.shape"
   ]
  },
  {
   "cell_type": "code",
   "execution_count": 18,
   "metadata": {},
   "outputs": [
    {
     "data": {
      "text/html": [
       "<div>\n",
       "<style scoped>\n",
       "    .dataframe tbody tr th:only-of-type {\n",
       "        vertical-align: middle;\n",
       "    }\n",
       "\n",
       "    .dataframe tbody tr th {\n",
       "        vertical-align: top;\n",
       "    }\n",
       "\n",
       "    .dataframe thead th {\n",
       "        text-align: right;\n",
       "    }\n",
       "</style>\n",
       "<table border=\"1\" class=\"dataframe\">\n",
       "  <thead>\n",
       "    <tr style=\"text-align: right;\">\n",
       "      <th></th>\n",
       "      <th>LoanID</th>\n",
       "      <th>Channel</th>\n",
       "      <th>SellerName</th>\n",
       "      <th>OrInterestRate</th>\n",
       "      <th>OrUnpaidPrinc</th>\n",
       "      <th>OrLoanTerm</th>\n",
       "      <th>OrDate</th>\n",
       "      <th>FirstPayment</th>\n",
       "      <th>OrLTV</th>\n",
       "      <th>OrCLTV</th>\n",
       "      <th>...</th>\n",
       "      <th>OccStatus</th>\n",
       "      <th>PropertyState</th>\n",
       "      <th>Zip</th>\n",
       "      <th>MortInsPerc</th>\n",
       "      <th>ProductType</th>\n",
       "      <th>CoCreditScore</th>\n",
       "      <th>MortInsType</th>\n",
       "      <th>RelMortInd</th>\n",
       "      <th>ForeclosureDate</th>\n",
       "      <th>date_diff</th>\n",
       "    </tr>\n",
       "  </thead>\n",
       "  <tbody>\n",
       "    <tr>\n",
       "      <th>0</th>\n",
       "      <td>100002296854</td>\n",
       "      <td>C</td>\n",
       "      <td>BANK OF AMERICA, N.A.</td>\n",
       "      <td>6.625</td>\n",
       "      <td>343000</td>\n",
       "      <td>360</td>\n",
       "      <td>2007-10-01</td>\n",
       "      <td>2007-12-01</td>\n",
       "      <td>86</td>\n",
       "      <td>86.0</td>\n",
       "      <td>...</td>\n",
       "      <td>P</td>\n",
       "      <td>CO</td>\n",
       "      <td>809</td>\n",
       "      <td>25.0</td>\n",
       "      <td>FRM</td>\n",
       "      <td>756.0</td>\n",
       "      <td>2.0</td>\n",
       "      <td>N</td>\n",
       "      <td>NaN</td>\n",
       "      <td>61 days</td>\n",
       "    </tr>\n",
       "    <tr>\n",
       "      <th>1</th>\n",
       "      <td>100006876815</td>\n",
       "      <td>C</td>\n",
       "      <td>BANK OF AMERICA, N.A.</td>\n",
       "      <td>6.250</td>\n",
       "      <td>400000</td>\n",
       "      <td>360</td>\n",
       "      <td>2007-10-01</td>\n",
       "      <td>2007-12-01</td>\n",
       "      <td>62</td>\n",
       "      <td>62.0</td>\n",
       "      <td>...</td>\n",
       "      <td>P</td>\n",
       "      <td>CA</td>\n",
       "      <td>920</td>\n",
       "      <td>NaN</td>\n",
       "      <td>FRM</td>\n",
       "      <td>790.0</td>\n",
       "      <td>NaN</td>\n",
       "      <td>N</td>\n",
       "      <td>NaN</td>\n",
       "      <td>61 days</td>\n",
       "    </tr>\n",
       "    <tr>\n",
       "      <th>2</th>\n",
       "      <td>100008184591</td>\n",
       "      <td>B</td>\n",
       "      <td>OTHER</td>\n",
       "      <td>6.625</td>\n",
       "      <td>81000</td>\n",
       "      <td>360</td>\n",
       "      <td>2007-11-01</td>\n",
       "      <td>2008-01-01</td>\n",
       "      <td>64</td>\n",
       "      <td>82.0</td>\n",
       "      <td>...</td>\n",
       "      <td>P</td>\n",
       "      <td>LA</td>\n",
       "      <td>708</td>\n",
       "      <td>NaN</td>\n",
       "      <td>FRM</td>\n",
       "      <td>NaN</td>\n",
       "      <td>NaN</td>\n",
       "      <td>N</td>\n",
       "      <td>NaN</td>\n",
       "      <td>61 days</td>\n",
       "    </tr>\n",
       "    <tr>\n",
       "      <th>3</th>\n",
       "      <td>100008870761</td>\n",
       "      <td>B</td>\n",
       "      <td>AMTRUST BANK</td>\n",
       "      <td>6.500</td>\n",
       "      <td>119000</td>\n",
       "      <td>360</td>\n",
       "      <td>2007-11-01</td>\n",
       "      <td>2008-01-01</td>\n",
       "      <td>71</td>\n",
       "      <td>71.0</td>\n",
       "      <td>...</td>\n",
       "      <td>P</td>\n",
       "      <td>IL</td>\n",
       "      <td>600</td>\n",
       "      <td>NaN</td>\n",
       "      <td>FRM</td>\n",
       "      <td>NaN</td>\n",
       "      <td>NaN</td>\n",
       "      <td>N</td>\n",
       "      <td>NaN</td>\n",
       "      <td>61 days</td>\n",
       "    </tr>\n",
       "    <tr>\n",
       "      <th>4</th>\n",
       "      <td>100013284158</td>\n",
       "      <td>B</td>\n",
       "      <td>BANK OF AMERICA, N.A.</td>\n",
       "      <td>6.625</td>\n",
       "      <td>205000</td>\n",
       "      <td>360</td>\n",
       "      <td>2007-10-01</td>\n",
       "      <td>2007-12-01</td>\n",
       "      <td>27</td>\n",
       "      <td>27.0</td>\n",
       "      <td>...</td>\n",
       "      <td>P</td>\n",
       "      <td>CA</td>\n",
       "      <td>907</td>\n",
       "      <td>NaN</td>\n",
       "      <td>FRM</td>\n",
       "      <td>NaN</td>\n",
       "      <td>NaN</td>\n",
       "      <td>N</td>\n",
       "      <td>NaN</td>\n",
       "      <td>61 days</td>\n",
       "    </tr>\n",
       "  </tbody>\n",
       "</table>\n",
       "<p>5 rows × 27 columns</p>\n",
       "</div>"
      ],
      "text/plain": [
       "         LoanID Channel             SellerName  OrInterestRate  OrUnpaidPrinc  \\\n",
       "0  100002296854       C  BANK OF AMERICA, N.A.           6.625         343000   \n",
       "1  100006876815       C  BANK OF AMERICA, N.A.           6.250         400000   \n",
       "2  100008184591       B                  OTHER           6.625          81000   \n",
       "3  100008870761       B           AMTRUST BANK           6.500         119000   \n",
       "4  100013284158       B  BANK OF AMERICA, N.A.           6.625         205000   \n",
       "\n",
       "   OrLoanTerm     OrDate FirstPayment  OrLTV  OrCLTV  ...  OccStatus  \\\n",
       "0         360 2007-10-01   2007-12-01     86    86.0  ...          P   \n",
       "1         360 2007-10-01   2007-12-01     62    62.0  ...          P   \n",
       "2         360 2007-11-01   2008-01-01     64    82.0  ...          P   \n",
       "3         360 2007-11-01   2008-01-01     71    71.0  ...          P   \n",
       "4         360 2007-10-01   2007-12-01     27    27.0  ...          P   \n",
       "\n",
       "   PropertyState  Zip MortInsPerc ProductType CoCreditScore  MortInsType  \\\n",
       "0             CO  809        25.0         FRM         756.0          2.0   \n",
       "1             CA  920         NaN         FRM         790.0          NaN   \n",
       "2             LA  708         NaN         FRM           NaN          NaN   \n",
       "3             IL  600         NaN         FRM           NaN          NaN   \n",
       "4             CA  907         NaN         FRM           NaN          NaN   \n",
       "\n",
       "  RelMortInd ForeclosureDate  date_diff  \n",
       "0          N             NaN    61 days  \n",
       "1          N             NaN    61 days  \n",
       "2          N             NaN    61 days  \n",
       "3          N             NaN    61 days  \n",
       "4          N             NaN    61 days  \n",
       "\n",
       "[5 rows x 27 columns]"
      ]
     },
     "execution_count": 18,
     "metadata": {},
     "output_type": "execute_result"
    }
   ],
   "source": [
    "acq_perf.head()"
   ]
  },
  {
   "cell_type": "code",
   "execution_count": 19,
   "metadata": {},
   "outputs": [],
   "source": [
    "# removing the 9 records because of origination date and first payment date are the same\n",
    "acq_perf1=acq_perf[acq_perf[\"date_diff\"]!='0 days']"
   ]
  },
  {
   "cell_type": "code",
   "execution_count": 20,
   "metadata": {},
   "outputs": [
    {
     "data": {
      "text/plain": [
       "(391200, 27)"
      ]
     },
     "execution_count": 20,
     "metadata": {},
     "output_type": "execute_result"
    }
   ],
   "source": [
    "acq_perf1.shape"
   ]
  },
  {
   "cell_type": "code",
   "execution_count": 21,
   "metadata": {},
   "outputs": [],
   "source": [
    "# dropping the orignation date,first payment and date diff\n",
    "acq_perf1=acq_perf1.drop([\"date_diff\",\"OrDate\",\"FirstPayment\"],axis=1)"
   ]
  },
  {
   "cell_type": "code",
   "execution_count": 22,
   "metadata": {},
   "outputs": [],
   "source": [
    "acq_perf1.rename(index=int, columns={\"ForeclosureDate\": 'Default'}, inplace=True)"
   ]
  },
  {
   "cell_type": "code",
   "execution_count": 23,
   "metadata": {},
   "outputs": [
    {
     "data": {
      "text/plain": [
       "Index(['LoanID', 'Channel', 'SellerName', 'OrInterestRate', 'OrUnpaidPrinc',\n",
       "       'OrLoanTerm', 'OrLTV', 'OrCLTV', 'NumBorrow', 'DTIRat', 'CreditScore',\n",
       "       'FTHomeBuyer', 'LoanPurpose', 'PropertyType', 'NumUnits', 'OccStatus',\n",
       "       'PropertyState', 'Zip', 'MortInsPerc', 'ProductType', 'CoCreditScore',\n",
       "       'MortInsType', 'RelMortInd', 'Default'],\n",
       "      dtype='object')"
      ]
     },
     "execution_count": 23,
     "metadata": {},
     "output_type": "execute_result"
    }
   ],
   "source": [
    "acq_perf1.columns"
   ]
  },
  {
   "cell_type": "markdown",
   "metadata": {},
   "source": [
    "# defination of defaulter:\n",
    "1. if default is missing then those customers non defaulters\n",
    "2. if default date is presented then those customers are called as defaulters"
   ]
  },
  {
   "cell_type": "code",
   "execution_count": 24,
   "metadata": {},
   "outputs": [],
   "source": [
    "acq_perf1['Default'].fillna(0, inplace=True)\n",
    "acq_perf1['Default'] =np.where(acq_perf1['Default']==0,0,1)\n"
   ]
  },
  {
   "cell_type": "code",
   "execution_count": 25,
   "metadata": {},
   "outputs": [
    {
     "data": {
      "text/plain": [
       "0    90.99591\n",
       "1     9.00409\n",
       "Name: Default, dtype: float64"
      ]
     },
     "execution_count": 25,
     "metadata": {},
     "output_type": "execute_result"
    }
   ],
   "source": [
    "acq_perf1[\"Default\"].value_counts()/len(acq_perf1)*100"
   ]
  },
  {
   "cell_type": "code",
   "execution_count": 26,
   "metadata": {},
   "outputs": [
    {
     "data": {
      "text/plain": [
       "<matplotlib.axes._subplots.AxesSubplot at 0x2c590c5d3c8>"
      ]
     },
     "execution_count": 26,
     "metadata": {},
     "output_type": "execute_result"
    },
    {
     "data": {
      "image/png": "[encoded data removed]",
      "text/plain": [
       "<Figure size 432x288 with 1 Axes>"
      ]
     },
     "metadata": {
      "needs_background": "light"
     },
     "output_type": "display_data"
    }
   ],
   "source": [
    "sns.countplot(acq_perf1[\"Default\"])"
   ]
  },
  {
   "cell_type": "code",
   "execution_count": 27,
   "metadata": {},
   "outputs": [
    {
     "data": {
      "text/plain": [
       "LoanID            391200\n",
       "Channel                3\n",
       "SellerName            14\n",
       "OrInterestRate       528\n",
       "OrUnpaidPrinc        649\n",
       "OrLoanTerm           140\n",
       "OrLTV                 97\n",
       "OrCLTV               120\n",
       "NumBorrow              9\n",
       "DTIRat                64\n",
       "CreditScore          386\n",
       "FTHomeBuyer            3\n",
       "LoanPurpose            3\n",
       "PropertyType           5\n",
       "NumUnits               4\n",
       "OccStatus              3\n",
       "PropertyState         54\n",
       "Zip                  893\n",
       "MortInsPerc           18\n",
       "ProductType            1\n",
       "CoCreditScore        359\n",
       "MortInsType            2\n",
       "RelMortInd             2\n",
       "Default                2\n",
       "dtype: int64"
      ]
     },
     "execution_count": 27,
     "metadata": {},
     "output_type": "execute_result"
    }
   ],
   "source": [
    "acq_perf1.nunique()"
   ]
  },
  {
   "cell_type": "code",
   "execution_count": 28,
   "metadata": {},
   "outputs": [
    {
     "data": {
      "text/plain": [
       "FRM    391200\n",
       "Name: ProductType, dtype: int64"
      ]
     },
     "execution_count": 28,
     "metadata": {},
     "output_type": "execute_result"
    }
   ],
   "source": [
    "acq_perf1[\"ProductType\"].value_counts()"
   ]
  },
  {
   "cell_type": "code",
   "execution_count": 29,
   "metadata": {},
   "outputs": [],
   "source": [
    "acq_perf1=acq_perf1.drop([\"ProductType\",\"Zip\",\"PropertyState\",\"LoanID\"],axis=1)"
   ]
  },
  {
   "cell_type": "code",
   "execution_count": 30,
   "metadata": {},
   "outputs": [
    {
     "data": {
      "text/plain": [
       "(391200, 20)"
      ]
     },
     "execution_count": 30,
     "metadata": {},
     "output_type": "execute_result"
    }
   ],
   "source": [
    "acq_perf1.shape"
   ]
  },
  {
   "cell_type": "code",
   "execution_count": 31,
   "metadata": {},
   "outputs": [
    {
     "name": "stdout",
     "output_type": "stream",
     "text": [
      "<class 'pandas.core.frame.DataFrame'>\n",
      "Int64Index: 391200 entries, 0 to 391208\n",
      "Data columns (total 20 columns):\n",
      "Channel           391200 non-null object\n",
      "SellerName        391200 non-null object\n",
      "OrInterestRate    391199 non-null float64\n",
      "OrUnpaidPrinc     391200 non-null int64\n",
      "OrLoanTerm        391200 non-null int64\n",
      "OrLTV             391200 non-null int64\n",
      "OrCLTV            391168 non-null float64\n",
      "NumBorrow         391194 non-null float64\n",
      "DTIRat            379720 non-null float64\n",
      "CreditScore       390574 non-null float64\n",
      "FTHomeBuyer       391200 non-null object\n",
      "LoanPurpose       391200 non-null object\n",
      "PropertyType      391200 non-null object\n",
      "NumUnits          391200 non-null int64\n",
      "OccStatus         391200 non-null object\n",
      "MortInsPerc       84924 non-null float64\n",
      "CoCreditScore     156233 non-null float64\n",
      "MortInsType       84924 non-null float64\n",
      "RelMortInd        391200 non-null object\n",
      "Default           391200 non-null int32\n",
      "dtypes: float64(8), int32(1), int64(4), object(7)\n",
      "memory usage: 71.2+ MB\n"
     ]
    }
   ],
   "source": [
    "acq_perf1.info()"
   ]
  },
  {
   "cell_type": "code",
   "execution_count": 32,
   "metadata": {},
   "outputs": [
    {
     "data": {
      "text/plain": [
       "N    389323\n",
       "Y      1877\n",
       "Name: RelMortInd, dtype: int64"
      ]
     },
     "execution_count": 32,
     "metadata": {},
     "output_type": "execute_result"
    }
   ],
   "source": [
    "acq_perf1[\"RelMortInd\"].value_counts()"
   ]
  },
  {
   "cell_type": "code",
   "execution_count": 33,
   "metadata": {},
   "outputs": [
    {
     "data": {
      "text/html": [
       "<div>\n",
       "<style scoped>\n",
       "    .dataframe tbody tr th:only-of-type {\n",
       "        vertical-align: middle;\n",
       "    }\n",
       "\n",
       "    .dataframe tbody tr th {\n",
       "        vertical-align: top;\n",
       "    }\n",
       "\n",
       "    .dataframe thead th {\n",
       "        text-align: right;\n",
       "    }\n",
       "</style>\n",
       "<table border=\"1\" class=\"dataframe\">\n",
       "  <thead>\n",
       "    <tr style=\"text-align: right;\">\n",
       "      <th>Default</th>\n",
       "      <th>0</th>\n",
       "      <th>1</th>\n",
       "    </tr>\n",
       "    <tr>\n",
       "      <th>RelMortInd</th>\n",
       "      <th></th>\n",
       "      <th></th>\n",
       "    </tr>\n",
       "  </thead>\n",
       "  <tbody>\n",
       "    <tr>\n",
       "      <th>N</th>\n",
       "      <td>354179</td>\n",
       "      <td>35144</td>\n",
       "    </tr>\n",
       "    <tr>\n",
       "      <th>Y</th>\n",
       "      <td>1797</td>\n",
       "      <td>80</td>\n",
       "    </tr>\n",
       "  </tbody>\n",
       "</table>\n",
       "</div>"
      ],
      "text/plain": [
       "Default          0      1\n",
       "RelMortInd               \n",
       "N           354179  35144\n",
       "Y             1797     80"
      ]
     },
     "execution_count": 33,
     "metadata": {},
     "output_type": "execute_result"
    }
   ],
   "source": [
    "pd.crosstab(acq_perf1[\"RelMortInd\"],acq_perf1[\"Default\"])"
   ]
  },
  {
   "cell_type": "code",
   "execution_count": 34,
   "metadata": {},
   "outputs": [
    {
     "data": {
      "text/plain": [
       "(389323, 20)"
      ]
     },
     "execution_count": 34,
     "metadata": {},
     "output_type": "execute_result"
    }
   ],
   "source": [
    "acq_perf1=acq_perf1[acq_perf1[\"RelMortInd\"]==\"N\"]\n",
    "acq_perf1.shape"
   ]
  },
  {
   "cell_type": "code",
   "execution_count": 35,
   "metadata": {},
   "outputs": [
    {
     "data": {
      "text/plain": [
       "(389323, 19)"
      ]
     },
     "execution_count": 35,
     "metadata": {},
     "output_type": "execute_result"
    }
   ],
   "source": [
    "acq_perf1=acq_perf1.drop([\"RelMortInd\"],axis=1)\n",
    "acq_perf1.shape"
   ]
  },
  {
   "cell_type": "code",
   "execution_count": 36,
   "metadata": {},
   "outputs": [],
   "source": [
    "acq_perf1[\"amt_flag\"]=np.where((acq_perf1[\"Default\"]==1)&(acq_perf1[\"OrUnpaidPrinc\"]>0),1,0)"
   ]
  },
  {
   "cell_type": "code",
   "execution_count": 37,
   "metadata": {},
   "outputs": [
    {
     "data": {
      "text/plain": [
       "0    354179\n",
       "1     35144\n",
       "Name: amt_flag, dtype: int64"
      ]
     },
     "execution_count": 37,
     "metadata": {},
     "output_type": "execute_result"
    }
   ],
   "source": [
    "acq_perf1[\"amt_flag\"].value_counts()"
   ]
  },
  {
   "cell_type": "code",
   "execution_count": 38,
   "metadata": {},
   "outputs": [],
   "source": [
    "acq_perf1=acq_perf1.drop([\"amt_flag\"],axis=1)\n"
   ]
  },
  {
   "cell_type": "code",
   "execution_count": 39,
   "metadata": {},
   "outputs": [
    {
     "data": {
      "text/plain": [
       "SF    74.313102\n",
       "PU    15.072832\n",
       "CO     9.042106\n",
       "MH     1.005849\n",
       "CP     0.566111\n",
       "Name: PropertyType, dtype: float64"
      ]
     },
     "execution_count": 39,
     "metadata": {},
     "output_type": "execute_result"
    }
   ],
   "source": [
    "acq_perf1[\"PropertyType\"].value_counts()/len(acq_perf1)*100"
   ]
  },
  {
   "cell_type": "code",
   "execution_count": 40,
   "metadata": {},
   "outputs": [
    {
     "data": {
      "text/plain": [
       "BANK OF AMERICA, N.A.                        28.651274\n",
       "OTHER                                        15.012727\n",
       "JPMORGAN CHASE BANK, NATIONAL ASSOCIATION    10.067733\n",
       "CITIMORTGAGE, INC.                            9.413520\n",
       "WELLS FARGO BANK, N.A.                        7.479907\n",
       "PNC BANK, N.A.                                7.027070\n",
       "GMAC MORTGAGE, LLC                            5.751009\n",
       "SUNTRUST MORTGAGE INC.                        4.096342\n",
       "FLAGSTAR CAPITAL MARKETS CORPORATION          3.402830\n",
       "AMTRUST BANK                                  2.835692\n",
       "FDIC, RECEIVER, INDYMAC FEDERAL BANK FSB      2.395954\n",
       "FIRST TENNESSEE BANK NATIONAL ASSOCIATION     1.973683\n",
       "CHASE HOME FINANCE, LLC                       1.754327\n",
       "HSBC BANK USA, NATIONAL ASSOCIATION           0.137932\n",
       "Name: SellerName, dtype: float64"
      ]
     },
     "execution_count": 40,
     "metadata": {},
     "output_type": "execute_result"
    }
   ],
   "source": [
    "acq_perf1[\"SellerName\"].value_counts()/len(acq_perf1)*100"
   ]
  },
  {
   "cell_type": "code",
   "execution_count": 41,
   "metadata": {},
   "outputs": [
    {
     "data": {
      "text/html": [
       "<div>\n",
       "<style scoped>\n",
       "    .dataframe tbody tr th:only-of-type {\n",
       "        vertical-align: middle;\n",
       "    }\n",
       "\n",
       "    .dataframe tbody tr th {\n",
       "        vertical-align: top;\n",
       "    }\n",
       "\n",
       "    .dataframe thead th {\n",
       "        text-align: right;\n",
       "    }\n",
       "</style>\n",
       "<table border=\"1\" class=\"dataframe\">\n",
       "  <thead>\n",
       "    <tr style=\"text-align: right;\">\n",
       "      <th>Default</th>\n",
       "      <th>0</th>\n",
       "      <th>1</th>\n",
       "    </tr>\n",
       "    <tr>\n",
       "      <th>SellerName</th>\n",
       "      <th></th>\n",
       "      <th></th>\n",
       "    </tr>\n",
       "  </thead>\n",
       "  <tbody>\n",
       "    <tr>\n",
       "      <th>AMTRUST BANK</th>\n",
       "      <td>10044</td>\n",
       "      <td>996</td>\n",
       "    </tr>\n",
       "    <tr>\n",
       "      <th>BANK OF AMERICA, N.A.</th>\n",
       "      <td>99169</td>\n",
       "      <td>12377</td>\n",
       "    </tr>\n",
       "    <tr>\n",
       "      <th>CHASE HOME FINANCE, LLC</th>\n",
       "      <td>6218</td>\n",
       "      <td>612</td>\n",
       "    </tr>\n",
       "    <tr>\n",
       "      <th>CITIMORTGAGE, INC.</th>\n",
       "      <td>33412</td>\n",
       "      <td>3237</td>\n",
       "    </tr>\n",
       "    <tr>\n",
       "      <th>FDIC, RECEIVER, INDYMAC FEDERAL BANK FSB</th>\n",
       "      <td>7699</td>\n",
       "      <td>1629</td>\n",
       "    </tr>\n",
       "    <tr>\n",
       "      <th>FIRST TENNESSEE BANK NATIONAL ASSOCIATION</th>\n",
       "      <td>7063</td>\n",
       "      <td>621</td>\n",
       "    </tr>\n",
       "    <tr>\n",
       "      <th>FLAGSTAR CAPITAL MARKETS CORPORATION</th>\n",
       "      <td>11796</td>\n",
       "      <td>1452</td>\n",
       "    </tr>\n",
       "    <tr>\n",
       "      <th>GMAC MORTGAGE, LLC</th>\n",
       "      <td>20257</td>\n",
       "      <td>2133</td>\n",
       "    </tr>\n",
       "    <tr>\n",
       "      <th>HSBC BANK USA, NATIONAL ASSOCIATION</th>\n",
       "      <td>531</td>\n",
       "      <td>6</td>\n",
       "    </tr>\n",
       "    <tr>\n",
       "      <th>JPMORGAN CHASE BANK, NATIONAL ASSOCIATION</th>\n",
       "      <td>36764</td>\n",
       "      <td>2432</td>\n",
       "    </tr>\n",
       "    <tr>\n",
       "      <th>OTHER</th>\n",
       "      <td>55175</td>\n",
       "      <td>3273</td>\n",
       "    </tr>\n",
       "    <tr>\n",
       "      <th>PNC BANK, N.A.</th>\n",
       "      <td>25100</td>\n",
       "      <td>2258</td>\n",
       "    </tr>\n",
       "    <tr>\n",
       "      <th>SUNTRUST MORTGAGE INC.</th>\n",
       "      <td>14131</td>\n",
       "      <td>1817</td>\n",
       "    </tr>\n",
       "    <tr>\n",
       "      <th>WELLS FARGO BANK, N.A.</th>\n",
       "      <td>26820</td>\n",
       "      <td>2301</td>\n",
       "    </tr>\n",
       "  </tbody>\n",
       "</table>\n",
       "</div>"
      ],
      "text/plain": [
       "Default                                        0      1\n",
       "SellerName                                             \n",
       "AMTRUST BANK                               10044    996\n",
       "BANK OF AMERICA, N.A.                      99169  12377\n",
       "CHASE HOME FINANCE, LLC                     6218    612\n",
       "CITIMORTGAGE, INC.                         33412   3237\n",
       "FDIC, RECEIVER, INDYMAC FEDERAL BANK FSB    7699   1629\n",
       "FIRST TENNESSEE BANK NATIONAL ASSOCIATION   7063    621\n",
       "FLAGSTAR CAPITAL MARKETS CORPORATION       11796   1452\n",
       "GMAC MORTGAGE, LLC                         20257   2133\n",
       "HSBC BANK USA, NATIONAL ASSOCIATION          531      6\n",
       "JPMORGAN CHASE BANK, NATIONAL ASSOCIATION  36764   2432\n",
       "OTHER                                      55175   3273\n",
       "PNC BANK, N.A.                             25100   2258\n",
       "SUNTRUST MORTGAGE INC.                     14131   1817\n",
       "WELLS FARGO BANK, N.A.                     26820   2301"
      ]
     },
     "execution_count": 41,
     "metadata": {},
     "output_type": "execute_result"
    }
   ],
   "source": [
    "pd.crosstab(acq_perf1[\"SellerName\"],acq_perf1[\"Default\"])"
   ]
  },
  {
   "cell_type": "markdown",
   "metadata": {},
   "source": [
    "# Seller name insights:\n",
    "1. 28% of total loans provided by bank of america\n",
    "2. 50% of total loans are provided top 3 banks(BOA,others and JP)\n",
    "3. more defaulters are happening at FDIC  20%"
   ]
  },
  {
   "cell_type": "code",
   "execution_count": 42,
   "metadata": {},
   "outputs": [
    {
     "data": {
      "text/plain": [
       "(389323, 18)"
      ]
     },
     "execution_count": 42,
     "metadata": {},
     "output_type": "execute_result"
    }
   ],
   "source": [
    "acq_perf1=acq_perf1.drop([\"SellerName\"],axis=1)\n",
    "acq_perf1.shape"
   ]
  },
  {
   "cell_type": "code",
   "execution_count": 43,
   "metadata": {},
   "outputs": [
    {
     "data": {
      "text/html": [
       "<div>\n",
       "<style scoped>\n",
       "    .dataframe tbody tr th:only-of-type {\n",
       "        vertical-align: middle;\n",
       "    }\n",
       "\n",
       "    .dataframe tbody tr th {\n",
       "        vertical-align: top;\n",
       "    }\n",
       "\n",
       "    .dataframe thead th {\n",
       "        text-align: right;\n",
       "    }\n",
       "</style>\n",
       "<table border=\"1\" class=\"dataframe\">\n",
       "  <thead>\n",
       "    <tr style=\"text-align: right;\">\n",
       "      <th></th>\n",
       "      <th>count</th>\n",
       "      <th>mean</th>\n",
       "      <th>std</th>\n",
       "      <th>min</th>\n",
       "      <th>25%</th>\n",
       "      <th>50%</th>\n",
       "      <th>75%</th>\n",
       "      <th>max</th>\n",
       "    </tr>\n",
       "  </thead>\n",
       "  <tbody>\n",
       "    <tr>\n",
       "      <th>OrInterestRate</th>\n",
       "      <td>389322.0</td>\n",
       "      <td>6.483363</td>\n",
       "      <td>0.387006</td>\n",
       "      <td>3.97</td>\n",
       "      <td>6.25</td>\n",
       "      <td>6.5</td>\n",
       "      <td>6.75</td>\n",
       "      <td>9.375</td>\n",
       "    </tr>\n",
       "    <tr>\n",
       "      <th>OrUnpaidPrinc</th>\n",
       "      <td>389323.0</td>\n",
       "      <td>197112.446478</td>\n",
       "      <td>101486.224643</td>\n",
       "      <td>8000.00</td>\n",
       "      <td>119000.00</td>\n",
       "      <td>180000.0</td>\n",
       "      <td>260000.00</td>\n",
       "      <td>802000.000</td>\n",
       "    </tr>\n",
       "    <tr>\n",
       "      <th>OrLoanTerm</th>\n",
       "      <td>389323.0</td>\n",
       "      <td>338.653439</td>\n",
       "      <td>56.834982</td>\n",
       "      <td>60.00</td>\n",
       "      <td>360.00</td>\n",
       "      <td>360.0</td>\n",
       "      <td>360.00</td>\n",
       "      <td>360.000</td>\n",
       "    </tr>\n",
       "    <tr>\n",
       "      <th>OrLTV</th>\n",
       "      <td>389323.0</td>\n",
       "      <td>72.148576</td>\n",
       "      <td>16.812060</td>\n",
       "      <td>1.00</td>\n",
       "      <td>64.00</td>\n",
       "      <td>78.0</td>\n",
       "      <td>80.00</td>\n",
       "      <td>97.000</td>\n",
       "    </tr>\n",
       "    <tr>\n",
       "      <th>OrCLTV</th>\n",
       "      <td>389291.0</td>\n",
       "      <td>73.745178</td>\n",
       "      <td>17.116090</td>\n",
       "      <td>1.00</td>\n",
       "      <td>65.00</td>\n",
       "      <td>80.0</td>\n",
       "      <td>87.00</td>\n",
       "      <td>143.000</td>\n",
       "    </tr>\n",
       "    <tr>\n",
       "      <th>NumBorrow</th>\n",
       "      <td>389317.0</td>\n",
       "      <td>1.523594</td>\n",
       "      <td>0.516007</td>\n",
       "      <td>1.00</td>\n",
       "      <td>1.00</td>\n",
       "      <td>2.0</td>\n",
       "      <td>2.00</td>\n",
       "      <td>10.000</td>\n",
       "    </tr>\n",
       "    <tr>\n",
       "      <th>DTIRat</th>\n",
       "      <td>378023.0</td>\n",
       "      <td>38.678652</td>\n",
       "      <td>12.508204</td>\n",
       "      <td>1.00</td>\n",
       "      <td>30.00</td>\n",
       "      <td>39.0</td>\n",
       "      <td>48.00</td>\n",
       "      <td>64.000</td>\n",
       "    </tr>\n",
       "    <tr>\n",
       "      <th>CreditScore</th>\n",
       "      <td>388817.0</td>\n",
       "      <td>720.094397</td>\n",
       "      <td>61.343348</td>\n",
       "      <td>392.00</td>\n",
       "      <td>673.00</td>\n",
       "      <td>725.0</td>\n",
       "      <td>774.00</td>\n",
       "      <td>843.000</td>\n",
       "    </tr>\n",
       "    <tr>\n",
       "      <th>NumUnits</th>\n",
       "      <td>389323.0</td>\n",
       "      <td>1.042160</td>\n",
       "      <td>0.257737</td>\n",
       "      <td>1.00</td>\n",
       "      <td>1.00</td>\n",
       "      <td>1.0</td>\n",
       "      <td>1.00</td>\n",
       "      <td>4.000</td>\n",
       "    </tr>\n",
       "    <tr>\n",
       "      <th>MortInsPerc</th>\n",
       "      <td>84360.0</td>\n",
       "      <td>23.035005</td>\n",
       "      <td>6.483059</td>\n",
       "      <td>6.00</td>\n",
       "      <td>17.00</td>\n",
       "      <td>25.0</td>\n",
       "      <td>25.00</td>\n",
       "      <td>39.000</td>\n",
       "    </tr>\n",
       "    <tr>\n",
       "      <th>CoCreditScore</th>\n",
       "      <td>155541.0</td>\n",
       "      <td>728.543657</td>\n",
       "      <td>60.285355</td>\n",
       "      <td>390.00</td>\n",
       "      <td>683.00</td>\n",
       "      <td>739.0</td>\n",
       "      <td>781.00</td>\n",
       "      <td>844.000</td>\n",
       "    </tr>\n",
       "    <tr>\n",
       "      <th>MortInsType</th>\n",
       "      <td>84360.0</td>\n",
       "      <td>1.125284</td>\n",
       "      <td>0.331043</td>\n",
       "      <td>1.00</td>\n",
       "      <td>1.00</td>\n",
       "      <td>1.0</td>\n",
       "      <td>1.00</td>\n",
       "      <td>2.000</td>\n",
       "    </tr>\n",
       "    <tr>\n",
       "      <th>Default</th>\n",
       "      <td>389323.0</td>\n",
       "      <td>0.090270</td>\n",
       "      <td>0.286568</td>\n",
       "      <td>0.00</td>\n",
       "      <td>0.00</td>\n",
       "      <td>0.0</td>\n",
       "      <td>0.00</td>\n",
       "      <td>1.000</td>\n",
       "    </tr>\n",
       "  </tbody>\n",
       "</table>\n",
       "</div>"
      ],
      "text/plain": [
       "                   count           mean            std      min        25%  \\\n",
       "OrInterestRate  389322.0       6.483363       0.387006     3.97       6.25   \n",
       "OrUnpaidPrinc   389323.0  197112.446478  101486.224643  8000.00  119000.00   \n",
       "OrLoanTerm      389323.0     338.653439      56.834982    60.00     360.00   \n",
       "OrLTV           389323.0      72.148576      16.812060     1.00      64.00   \n",
       "OrCLTV          389291.0      73.745178      17.116090     1.00      65.00   \n",
       "NumBorrow       389317.0       1.523594       0.516007     1.00       1.00   \n",
       "DTIRat          378023.0      38.678652      12.508204     1.00      30.00   \n",
       "CreditScore     388817.0     720.094397      61.343348   392.00     673.00   \n",
       "NumUnits        389323.0       1.042160       0.257737     1.00       1.00   \n",
       "MortInsPerc      84360.0      23.035005       6.483059     6.00      17.00   \n",
       "CoCreditScore   155541.0     728.543657      60.285355   390.00     683.00   \n",
       "MortInsType      84360.0       1.125284       0.331043     1.00       1.00   \n",
       "Default         389323.0       0.090270       0.286568     0.00       0.00   \n",
       "\n",
       "                     50%        75%         max  \n",
       "OrInterestRate       6.5       6.75       9.375  \n",
       "OrUnpaidPrinc   180000.0  260000.00  802000.000  \n",
       "OrLoanTerm         360.0     360.00     360.000  \n",
       "OrLTV               78.0      80.00      97.000  \n",
       "OrCLTV              80.0      87.00     143.000  \n",
       "NumBorrow            2.0       2.00      10.000  \n",
       "DTIRat              39.0      48.00      64.000  \n",
       "CreditScore        725.0     774.00     843.000  \n",
       "NumUnits             1.0       1.00       4.000  \n",
       "MortInsPerc         25.0      25.00      39.000  \n",
       "CoCreditScore      739.0     781.00     844.000  \n",
       "MortInsType          1.0       1.00       2.000  \n",
       "Default              0.0       0.00       1.000  "
      ]
     },
     "execution_count": 43,
     "metadata": {},
     "output_type": "execute_result"
    }
   ],
   "source": [
    "acq_perf1.describe().T"
   ]
  },
  {
   "cell_type": "code",
   "execution_count": 44,
   "metadata": {},
   "outputs": [
    {
     "data": {
      "text/plain": [
       "1    96.781850\n",
       "2     2.524639\n",
       "3     0.389137\n",
       "4     0.304375\n",
       "Name: NumUnits, dtype: float64"
      ]
     },
     "execution_count": 44,
     "metadata": {},
     "output_type": "execute_result"
    }
   ],
   "source": [
    "acq_perf1[\"NumUnits\"].value_counts()/len(acq_perf1)*100"
   ]
  },
  {
   "cell_type": "code",
   "execution_count": 45,
   "metadata": {},
   "outputs": [
    {
     "data": {
      "text/html": [
       "<div>\n",
       "<style scoped>\n",
       "    .dataframe tbody tr th:only-of-type {\n",
       "        vertical-align: middle;\n",
       "    }\n",
       "\n",
       "    .dataframe tbody tr th {\n",
       "        vertical-align: top;\n",
       "    }\n",
       "\n",
       "    .dataframe thead th {\n",
       "        text-align: right;\n",
       "    }\n",
       "</style>\n",
       "<table border=\"1\" class=\"dataframe\">\n",
       "  <thead>\n",
       "    <tr style=\"text-align: right;\">\n",
       "      <th>Default</th>\n",
       "      <th>0</th>\n",
       "      <th>1</th>\n",
       "    </tr>\n",
       "    <tr>\n",
       "      <th>NumUnits</th>\n",
       "      <th></th>\n",
       "      <th></th>\n",
       "    </tr>\n",
       "  </thead>\n",
       "  <tbody>\n",
       "    <tr>\n",
       "      <th>1</th>\n",
       "      <td>342912</td>\n",
       "      <td>33882</td>\n",
       "    </tr>\n",
       "    <tr>\n",
       "      <th>2</th>\n",
       "      <td>8790</td>\n",
       "      <td>1039</td>\n",
       "    </tr>\n",
       "    <tr>\n",
       "      <th>3</th>\n",
       "      <td>1398</td>\n",
       "      <td>117</td>\n",
       "    </tr>\n",
       "    <tr>\n",
       "      <th>4</th>\n",
       "      <td>1079</td>\n",
       "      <td>106</td>\n",
       "    </tr>\n",
       "  </tbody>\n",
       "</table>\n",
       "</div>"
      ],
      "text/plain": [
       "Default        0      1\n",
       "NumUnits               \n",
       "1         342912  33882\n",
       "2           8790   1039\n",
       "3           1398    117\n",
       "4           1079    106"
      ]
     },
     "execution_count": 45,
     "metadata": {},
     "output_type": "execute_result"
    }
   ],
   "source": [
    "pd.crosstab(acq_perf1[\"NumUnits\"],acq_perf1[\"Default\"])"
   ]
  },
  {
   "cell_type": "code",
   "execution_count": 46,
   "metadata": {},
   "outputs": [
    {
     "data": {
      "text/plain": [
       "(376794, 18)"
      ]
     },
     "execution_count": 46,
     "metadata": {},
     "output_type": "execute_result"
    }
   ],
   "source": [
    "acq_perf1=acq_perf1[acq_perf1[\"NumUnits\"]==1]\n",
    "acq_perf1.shape"
   ]
  },
  {
   "cell_type": "code",
   "execution_count": 47,
   "metadata": {},
   "outputs": [],
   "source": [
    "acq_perf1=acq_perf1.drop([\"NumUnits\"],axis=1)"
   ]
  },
  {
   "cell_type": "code",
   "execution_count": 48,
   "metadata": {},
   "outputs": [
    {
     "data": {
      "text/plain": [
       "1.0    71957\n",
       "2.0    10370\n",
       "Name: MortInsType, dtype: int64"
      ]
     },
     "execution_count": 48,
     "metadata": {},
     "output_type": "execute_result"
    }
   ],
   "source": [
    "acq_perf1[\"MortInsType\"].value_counts()"
   ]
  },
  {
   "cell_type": "code",
   "execution_count": 49,
   "metadata": {},
   "outputs": [],
   "source": [
    "# As the number of loans are less there are higher chance to foreclose the loans"
   ]
  },
  {
   "cell_type": "code",
   "execution_count": 50,
   "metadata": {},
   "outputs": [],
   "source": [
    "def miss_cal(data):\n",
    "    return(data.isnull().sum()/len(data)*100)"
   ]
  },
  {
   "cell_type": "code",
   "execution_count": 51,
   "metadata": {},
   "outputs": [
    {
     "data": {
      "text/plain": [
       "Channel            0.000000\n",
       "OrInterestRate     0.000265\n",
       "OrUnpaidPrinc      0.000000\n",
       "OrLoanTerm         0.000000\n",
       "OrLTV              0.000000\n",
       "OrCLTV             0.008493\n",
       "NumBorrow          0.001327\n",
       "DTIRat             2.836563\n",
       "CreditScore        0.130310\n",
       "FTHomeBuyer        0.000000\n",
       "LoanPurpose        0.000000\n",
       "PropertyType       0.000000\n",
       "OccStatus          0.000000\n",
       "MortInsPerc       78.150661\n",
       "CoCreditScore     59.833225\n",
       "MortInsType       78.150661\n",
       "Default            0.000000\n",
       "dtype: float64"
      ]
     },
     "execution_count": 51,
     "metadata": {},
     "output_type": "execute_result"
    }
   ],
   "source": [
    "miss_cal(acq_perf1)"
   ]
  },
  {
   "cell_type": "code",
   "execution_count": 52,
   "metadata": {},
   "outputs": [
    {
     "data": {
      "text/plain": [
       "(376794, 24)"
      ]
     },
     "execution_count": 52,
     "metadata": {},
     "output_type": "execute_result"
    }
   ],
   "source": [
    "acq_perf2=pd.get_dummies(acq_perf1,drop_first=True)\n",
    "acq_perf2.shape"
   ]
  },
  {
   "cell_type": "code",
   "execution_count": 53,
   "metadata": {},
   "outputs": [
    {
     "name": "stdout",
     "output_type": "stream",
     "text": [
      "Index(['OrInterestRate', 'OrCLTV', 'NumBorrow', 'DTIRat', 'CreditScore',\n",
      "       'MortInsPerc', 'CoCreditScore', 'MortInsType'],\n",
      "      dtype='object')\n"
     ]
    }
   ],
   "source": [
    "columns = acq_perf1.columns[acq_perf1.isnull().any()]\n",
    "print(columns)"
   ]
  },
  {
   "cell_type": "code",
   "execution_count": 54,
   "metadata": {},
   "outputs": [
    {
     "data": {
      "text/plain": [
       "(376794, 17)"
      ]
     },
     "execution_count": 54,
     "metadata": {},
     "output_type": "execute_result"
    }
   ],
   "source": [
    "acq_perf1.shape"
   ]
  },
  {
   "cell_type": "code",
   "execution_count": 55,
   "metadata": {},
   "outputs": [
    {
     "data": {
      "text/plain": [
       "1"
      ]
     },
     "execution_count": 55,
     "metadata": {},
     "output_type": "execute_result"
    }
   ],
   "source": [
    "acq_perf1['OrInterestRate'].isnull().sum()"
   ]
  },
  {
   "cell_type": "code",
   "execution_count": 56,
   "metadata": {},
   "outputs": [],
   "source": [
    "y = acq_perf1.loc[acq_perf1['OrInterestRate'].notnull(), 'OrInterestRate'].values"
   ]
  },
  {
   "cell_type": "code",
   "execution_count": 57,
   "metadata": {},
   "outputs": [
    {
     "data": {
      "text/plain": [
       "(376793,)"
      ]
     },
     "execution_count": 57,
     "metadata": {},
     "output_type": "execute_result"
    }
   ],
   "source": [
    "y.shape"
   ]
  },
  {
   "cell_type": "code",
   "execution_count": 58,
   "metadata": {},
   "outputs": [],
   "source": [
    "X = acq_perf1.loc[acq_perf1['OrInterestRate'].notnull()].drop(columns, axis=1).values"
   ]
  },
  {
   "cell_type": "code",
   "execution_count": 59,
   "metadata": {},
   "outputs": [],
   "source": [
    "from sklearn.linear_model import LinearRegression  # this will help us to impute the numerical varaible missing values\n",
    "from sklearn.linear_model import LogisticRegression # this will help us to impute the categorical varaible missing values\n",
    "def fillnan(df):\n",
    "    columns = df.columns[df.isnull().any()]\n",
    "    for name in columns:\n",
    "        y = df.loc[df[name].notnull(), name].values # the varaibles, which are having missing but consider only non missing rows of missing variables\n",
    "        X = df.loc[df[name].notnull()].drop(columns, axis=1).values # non missing variables values are considering\n",
    "        X_test = df.loc[df[name].isnull()].drop(columns, axis=1).values # missing rows \n",
    "        if df[name].dtypes == 'object':\n",
    "            model = LogisticRegression()\n",
    "            model.fit(X, y)\n",
    "            df.loc[df[name].isnull(), name] = model.predict(X_test)\n",
    "        else:\n",
    "            model = LinearRegression()\n",
    "            model.fit(X, y)\n",
    "            df.loc[df[name].isnull(), name] = model.predict(X_test)\n",
    "    return df"
   ]
  },
  {
   "cell_type": "code",
   "execution_count": 60,
   "metadata": {},
   "outputs": [],
   "source": [
    "acq_perf3=fillnan(acq_perf2)"
   ]
  },
  {
   "cell_type": "code",
   "execution_count": 61,
   "metadata": {},
   "outputs": [],
   "source": [
    "from sklearn.preprocessing import MinMaxScaler\n",
    "mn=MinMaxScaler()\n",
    "acq_perf4=pd.DataFrame(mn.fit_transform(acq_perf3),columns=acq_perf3.columns)"
   ]
  },
  {
   "cell_type": "code",
   "execution_count": 62,
   "metadata": {},
   "outputs": [
    {
     "data": {
      "text/plain": [
       "(376794, 24)"
      ]
     },
     "execution_count": 62,
     "metadata": {},
     "output_type": "execute_result"
    }
   ],
   "source": [
    "acq_perf4.shape"
   ]
  },
  {
   "cell_type": "code",
   "execution_count": 63,
   "metadata": {},
   "outputs": [
    {
     "data": {
      "text/plain": [
       "Index(['OrInterestRate', 'OrUnpaidPrinc', 'OrLoanTerm', 'OrLTV', 'OrCLTV',\n",
       "       'NumBorrow', 'DTIRat', 'CreditScore', 'MortInsPerc', 'CoCreditScore',\n",
       "       'MortInsType', 'Default', 'Channel_C', 'Channel_R', 'FTHomeBuyer_U',\n",
       "       'FTHomeBuyer_Y', 'LoanPurpose_P', 'LoanPurpose_R', 'PropertyType_CP',\n",
       "       'PropertyType_MH', 'PropertyType_PU', 'PropertyType_SF', 'OccStatus_P',\n",
       "       'OccStatus_S'],\n",
       "      dtype='object')"
      ]
     },
     "execution_count": 63,
     "metadata": {},
     "output_type": "execute_result"
    }
   ],
   "source": [
    "acq_perf4.columns"
   ]
  },
  {
   "cell_type": "code",
   "execution_count": 64,
   "metadata": {},
   "outputs": [],
   "source": [
    "sub_data=acq_perf4[['OrInterestRate', 'OrUnpaidPrinc', 'OrLoanTerm', 'OrLTV', 'OrCLTV','DTIRat']]"
   ]
  },
  {
   "cell_type": "code",
   "execution_count": 65,
   "metadata": {},
   "outputs": [
    {
     "data": {
      "text/plain": [
       "(376794, 6)"
      ]
     },
     "execution_count": 65,
     "metadata": {},
     "output_type": "execute_result"
    }
   ],
   "source": [
    "sub_data.shape"
   ]
  },
  {
   "cell_type": "code",
   "execution_count": 66,
   "metadata": {},
   "outputs": [
    {
     "data": {
      "text/plain": [
       "KMeans(algorithm='auto', copy_x=True, init='k-means++', max_iter=300,\n",
       "       n_clusters=8, n_init=10, n_jobs=None, precompute_distances='auto',\n",
       "       random_state=None, tol=0.0001, verbose=0)"
      ]
     },
     "execution_count": 66,
     "metadata": {},
     "output_type": "execute_result"
    }
   ],
   "source": [
    "from sklearn.cluster import KMeans\n",
    "km=KMeans()\n",
    "km.fit(sub_data)"
   ]
  },
  {
   "cell_type": "code",
   "execution_count": 67,
   "metadata": {},
   "outputs": [
    {
     "name": "stderr",
     "output_type": "stream",
     "text": [
      "C:\\Users\\HP\\.conda\\envs\\Data Science\\lib\\site-packages\\ipykernel_launcher.py:5: SettingWithCopyWarning: \n",
      "A value is trying to be set on a copy of a slice from a DataFrame.\n",
      "Try using .loc[row_indexer,col_indexer] = value instead\n",
      "\n",
      "See the caveats in the documentation: http://pandas.pydata.org/pandas-docs/stable/user_guide/indexing.html#returning-a-view-versus-a-copy\n",
      "  \"\"\"\n",
      "C:\\Users\\HP\\.conda\\envs\\Data Science\\lib\\site-packages\\ipykernel_launcher.py:5: SettingWithCopyWarning: \n",
      "A value is trying to be set on a copy of a slice from a DataFrame.\n",
      "Try using .loc[row_indexer,col_indexer] = value instead\n",
      "\n",
      "See the caveats in the documentation: http://pandas.pydata.org/pandas-docs/stable/user_guide/indexing.html#returning-a-view-versus-a-copy\n",
      "  \"\"\"\n",
      "C:\\Users\\HP\\.conda\\envs\\Data Science\\lib\\site-packages\\ipykernel_launcher.py:5: SettingWithCopyWarning: \n",
      "A value is trying to be set on a copy of a slice from a DataFrame.\n",
      "Try using .loc[row_indexer,col_indexer] = value instead\n",
      "\n",
      "See the caveats in the documentation: http://pandas.pydata.org/pandas-docs/stable/user_guide/indexing.html#returning-a-view-versus-a-copy\n",
      "  \"\"\"\n",
      "C:\\Users\\HP\\.conda\\envs\\Data Science\\lib\\site-packages\\ipykernel_launcher.py:5: SettingWithCopyWarning: \n",
      "A value is trying to be set on a copy of a slice from a DataFrame.\n",
      "Try using .loc[row_indexer,col_indexer] = value instead\n",
      "\n",
      "See the caveats in the documentation: http://pandas.pydata.org/pandas-docs/stable/user_guide/indexing.html#returning-a-view-versus-a-copy\n",
      "  \"\"\"\n",
      "C:\\Users\\HP\\.conda\\envs\\Data Science\\lib\\site-packages\\ipykernel_launcher.py:5: SettingWithCopyWarning: \n",
      "A value is trying to be set on a copy of a slice from a DataFrame.\n",
      "Try using .loc[row_indexer,col_indexer] = value instead\n",
      "\n",
      "See the caveats in the documentation: http://pandas.pydata.org/pandas-docs/stable/user_guide/indexing.html#returning-a-view-versus-a-copy\n",
      "  \"\"\"\n",
      "C:\\Users\\HP\\.conda\\envs\\Data Science\\lib\\site-packages\\ipykernel_launcher.py:5: SettingWithCopyWarning: \n",
      "A value is trying to be set on a copy of a slice from a DataFrame.\n",
      "Try using .loc[row_indexer,col_indexer] = value instead\n",
      "\n",
      "See the caveats in the documentation: http://pandas.pydata.org/pandas-docs/stable/user_guide/indexing.html#returning-a-view-versus-a-copy\n",
      "  \"\"\"\n",
      "C:\\Users\\HP\\.conda\\envs\\Data Science\\lib\\site-packages\\ipykernel_launcher.py:5: SettingWithCopyWarning: \n",
      "A value is trying to be set on a copy of a slice from a DataFrame.\n",
      "Try using .loc[row_indexer,col_indexer] = value instead\n",
      "\n",
      "See the caveats in the documentation: http://pandas.pydata.org/pandas-docs/stable/user_guide/indexing.html#returning-a-view-versus-a-copy\n",
      "  \"\"\"\n",
      "C:\\Users\\HP\\.conda\\envs\\Data Science\\lib\\site-packages\\ipykernel_launcher.py:5: SettingWithCopyWarning: \n",
      "A value is trying to be set on a copy of a slice from a DataFrame.\n",
      "Try using .loc[row_indexer,col_indexer] = value instead\n",
      "\n",
      "See the caveats in the documentation: http://pandas.pydata.org/pandas-docs/stable/user_guide/indexing.html#returning-a-view-versus-a-copy\n",
      "  \"\"\"\n"
     ]
    },
    {
     "data": {
      "image/png": "[encoded data removed]",
      "text/plain": [
       "<Figure size 432x288 with 1 Axes>"
      ]
     },
     "metadata": {
      "needs_background": "light"
     },
     "output_type": "display_data"
    }
   ],
   "source": [
    "import matplotlib.pyplot as plt\n",
    "sse = {}\n",
    "for k in range(2, 10):\n",
    "    kmeans = KMeans(n_clusters=k, max_iter=100).fit(sub_data)\n",
    "    sub_data[\"clusters\"] = kmeans.labels_\n",
    "    #print(data[\"clusters\"])\n",
    "    sse[k] = kmeans.inertia_ # Inertia: Sum of distances of samples to their closest cluster center\n",
    "plt.figure()\n",
    "plt.plot(list(sse.keys()), list(sse.values()))\n",
    "plt.xlabel(\"Number of cluster\")\n",
    "plt.ylabel(\"SSE\")\n",
    "plt.show()"
   ]
  },
  {
   "cell_type": "code",
   "execution_count": 68,
   "metadata": {},
   "outputs": [
    {
     "data": {
      "text/plain": [
       "KMeans(algorithm='auto', copy_x=True, init='k-means++', max_iter=300,\n",
       "       n_clusters=4, n_init=10, n_jobs=None, precompute_distances='auto',\n",
       "       random_state=None, tol=0.0001, verbose=0)"
      ]
     },
     "execution_count": 68,
     "metadata": {},
     "output_type": "execute_result"
    }
   ],
   "source": [
    "from sklearn.cluster import KMeans\n",
    "km=KMeans(n_clusters=4)\n",
    "km.fit(sub_data)"
   ]
  },
  {
   "cell_type": "code",
   "execution_count": 69,
   "metadata": {},
   "outputs": [
    {
     "data": {
      "text/plain": [
       "array([0, 0, 1, ..., 2, 0, 0])"
      ]
     },
     "execution_count": 69,
     "metadata": {},
     "output_type": "execute_result"
    }
   ],
   "source": [
    "km.labels_"
   ]
  },
  {
   "cell_type": "code",
   "execution_count": 70,
   "metadata": {},
   "outputs": [],
   "source": [
    "acq_perf4[\"clusters\"]=km.labels_"
   ]
  },
  {
   "cell_type": "code",
   "execution_count": 71,
   "metadata": {},
   "outputs": [
    {
     "data": {
      "text/plain": [
       "0    158264\n",
       "2     91082\n",
       "1     80132\n",
       "3     47316\n",
       "Name: clusters, dtype: int64"
      ]
     },
     "execution_count": 71,
     "metadata": {},
     "output_type": "execute_result"
    }
   ],
   "source": [
    "acq_perf4[\"clusters\"].value_counts()"
   ]
  },
  {
   "cell_type": "code",
   "execution_count": 72,
   "metadata": {},
   "outputs": [
    {
     "name": "stderr",
     "output_type": "stream",
     "text": [
      "C:\\Users\\HP\\.conda\\envs\\Data Science\\lib\\site-packages\\ipykernel_launcher.py:1: SettingWithCopyWarning: \n",
      "A value is trying to be set on a copy of a slice from a DataFrame.\n",
      "Try using .loc[row_indexer,col_indexer] = value instead\n",
      "\n",
      "See the caveats in the documentation: http://pandas.pydata.org/pandas-docs/stable/user_guide/indexing.html#returning-a-view-versus-a-copy\n",
      "  \"\"\"Entry point for launching an IPython kernel.\n"
     ]
    }
   ],
   "source": [
    "sub_data[\"clusters\"]=km.labels_"
   ]
  },
  {
   "cell_type": "code",
   "execution_count": 73,
   "metadata": {},
   "outputs": [
    {
     "data": {
      "text/plain": [
       "0    158264\n",
       "2     91082\n",
       "1     80132\n",
       "3     47316\n",
       "Name: clusters, dtype: int64"
      ]
     },
     "execution_count": 73,
     "metadata": {},
     "output_type": "execute_result"
    }
   ],
   "source": [
    "sub_data[\"clusters\"].value_counts()"
   ]
  },
  {
   "cell_type": "code",
   "execution_count": 74,
   "metadata": {},
   "outputs": [
    {
     "data": {
      "text/html": [
       "<div>\n",
       "<style scoped>\n",
       "    .dataframe tbody tr th:only-of-type {\n",
       "        vertical-align: middle;\n",
       "    }\n",
       "\n",
       "    .dataframe tbody tr th {\n",
       "        vertical-align: top;\n",
       "    }\n",
       "\n",
       "    .dataframe thead th {\n",
       "        text-align: right;\n",
       "    }\n",
       "</style>\n",
       "<table border=\"1\" class=\"dataframe\">\n",
       "  <thead>\n",
       "    <tr style=\"text-align: right;\">\n",
       "      <th></th>\n",
       "      <th>OrInterestRate</th>\n",
       "      <th>OrUnpaidPrinc</th>\n",
       "      <th>OrLoanTerm</th>\n",
       "      <th>OrLTV</th>\n",
       "      <th>OrCLTV</th>\n",
       "      <th>DTIRat</th>\n",
       "      <th>clusters</th>\n",
       "    </tr>\n",
       "  </thead>\n",
       "  <tbody>\n",
       "    <tr>\n",
       "      <th>0</th>\n",
       "      <td>0.491212</td>\n",
       "      <td>0.542071</td>\n",
       "      <td>1.0</td>\n",
       "      <td>0.885417</td>\n",
       "      <td>0.598592</td>\n",
       "      <td>0.412698</td>\n",
       "      <td>0</td>\n",
       "    </tr>\n",
       "    <tr>\n",
       "      <th>1</th>\n",
       "      <td>0.421832</td>\n",
       "      <td>0.634304</td>\n",
       "      <td>1.0</td>\n",
       "      <td>0.635417</td>\n",
       "      <td>0.429577</td>\n",
       "      <td>0.539683</td>\n",
       "      <td>0</td>\n",
       "    </tr>\n",
       "    <tr>\n",
       "      <th>2</th>\n",
       "      <td>0.491212</td>\n",
       "      <td>0.118123</td>\n",
       "      <td>1.0</td>\n",
       "      <td>0.656250</td>\n",
       "      <td>0.570423</td>\n",
       "      <td>0.825397</td>\n",
       "      <td>1</td>\n",
       "    </tr>\n",
       "    <tr>\n",
       "      <th>3</th>\n",
       "      <td>0.468085</td>\n",
       "      <td>0.179612</td>\n",
       "      <td>1.0</td>\n",
       "      <td>0.729167</td>\n",
       "      <td>0.492958</td>\n",
       "      <td>0.539683</td>\n",
       "      <td>2</td>\n",
       "    </tr>\n",
       "    <tr>\n",
       "      <th>4</th>\n",
       "      <td>0.491212</td>\n",
       "      <td>0.318770</td>\n",
       "      <td>1.0</td>\n",
       "      <td>0.270833</td>\n",
       "      <td>0.183099</td>\n",
       "      <td>0.841270</td>\n",
       "      <td>0</td>\n",
       "    </tr>\n",
       "  </tbody>\n",
       "</table>\n",
       "</div>"
      ],
      "text/plain": [
       "   OrInterestRate  OrUnpaidPrinc  OrLoanTerm     OrLTV    OrCLTV    DTIRat  \\\n",
       "0        0.491212       0.542071         1.0  0.885417  0.598592  0.412698   \n",
       "1        0.421832       0.634304         1.0  0.635417  0.429577  0.539683   \n",
       "2        0.491212       0.118123         1.0  0.656250  0.570423  0.825397   \n",
       "3        0.468085       0.179612         1.0  0.729167  0.492958  0.539683   \n",
       "4        0.491212       0.318770         1.0  0.270833  0.183099  0.841270   \n",
       "\n",
       "   clusters  \n",
       "0         0  \n",
       "1         0  \n",
       "2         1  \n",
       "3         2  \n",
       "4         0  "
      ]
     },
     "execution_count": 74,
     "metadata": {},
     "output_type": "execute_result"
    }
   ],
   "source": [
    "sub_data.head()"
   ]
  },
  {
   "cell_type": "code",
   "execution_count": 75,
   "metadata": {},
   "outputs": [],
   "source": [
    "sub_data_0=sub_data[sub_data[\"clusters\"]==0]"
   ]
  },
  {
   "cell_type": "code",
   "execution_count": 76,
   "metadata": {},
   "outputs": [
    {
     "data": {
      "text/plain": [
       "(158264, 7)"
      ]
     },
     "execution_count": 76,
     "metadata": {},
     "output_type": "execute_result"
    }
   ],
   "source": [
    "sub_data_0.shape"
   ]
  },
  {
   "cell_type": "code",
   "execution_count": 77,
   "metadata": {},
   "outputs": [
    {
     "data": {
      "text/plain": [
       "OrInterestRate    0.005550\n",
       "OrUnpaidPrinc     0.003236\n",
       "OrLoanTerm        0.600000\n",
       "OrLTV             0.000000\n",
       "OrCLTV            0.000000\n",
       "DTIRat            0.000000\n",
       "clusters          0.000000\n",
       "dtype: float64"
      ]
     },
     "execution_count": 77,
     "metadata": {},
     "output_type": "execute_result"
    }
   ],
   "source": [
    "sub_data_0.min()"
   ]
  },
  {
   "cell_type": "code",
   "execution_count": 78,
   "metadata": {},
   "outputs": [
    {
     "data": {
      "text/plain": [
       "OrInterestRate    0.93062\n",
       "OrUnpaidPrinc     1.00000\n",
       "OrLoanTerm        1.00000\n",
       "OrLTV             1.00000\n",
       "OrCLTV            1.00000\n",
       "DTIRat            1.00000\n",
       "clusters          0.00000\n",
       "dtype: float64"
      ]
     },
     "execution_count": 78,
     "metadata": {},
     "output_type": "execute_result"
    }
   ],
   "source": [
    "sub_data_0.max()"
   ]
  },
  {
   "cell_type": "code",
   "execution_count": 79,
   "metadata": {},
   "outputs": [
    {
     "data": {
      "text/plain": [
       "(376794, 25)"
      ]
     },
     "execution_count": 79,
     "metadata": {},
     "output_type": "execute_result"
    }
   ],
   "source": [
    "acq_perf4.shape"
   ]
  },
  {
   "cell_type": "code",
   "execution_count": 80,
   "metadata": {},
   "outputs": [
    {
     "data": {
      "text/plain": [
       "Index(['OrInterestRate', 'OrUnpaidPrinc', 'OrLoanTerm', 'OrLTV', 'OrCLTV',\n",
       "       'NumBorrow', 'DTIRat', 'CreditScore', 'MortInsPerc', 'CoCreditScore',\n",
       "       'MortInsType', 'Default', 'Channel_C', 'Channel_R', 'FTHomeBuyer_U',\n",
       "       'FTHomeBuyer_Y', 'LoanPurpose_P', 'LoanPurpose_R', 'PropertyType_CP',\n",
       "       'PropertyType_MH', 'PropertyType_PU', 'PropertyType_SF', 'OccStatus_P',\n",
       "       'OccStatus_S', 'clusters'],\n",
       "      dtype='object')"
      ]
     },
     "execution_count": 80,
     "metadata": {},
     "output_type": "execute_result"
    }
   ],
   "source": [
    "acq_perf4.columns"
   ]
  },
  {
   "cell_type": "code",
   "execution_count": 81,
   "metadata": {},
   "outputs": [
    {
     "data": {
      "text/plain": [
       "0    158264\n",
       "2     91082\n",
       "1     80132\n",
       "3     47316\n",
       "Name: clusters, dtype: int64"
      ]
     },
     "execution_count": 81,
     "metadata": {},
     "output_type": "execute_result"
    }
   ],
   "source": [
    "acq_perf4[\"clusters\"].value_counts()"
   ]
  },
  {
   "cell_type": "markdown",
   "metadata": {},
   "source": [
    "# Building model for First cluster"
   ]
  },
  {
   "cell_type": "code",
   "execution_count": 82,
   "metadata": {},
   "outputs": [],
   "source": [
    "cluster_0_data=acq_perf4[acq_perf4[\"clusters\"]==1]"
   ]
  },
  {
   "cell_type": "code",
   "execution_count": 83,
   "metadata": {},
   "outputs": [
    {
     "data": {
      "text/plain": [
       "(80132, 25)"
      ]
     },
     "execution_count": 83,
     "metadata": {},
     "output_type": "execute_result"
    }
   ],
   "source": [
    "cluster_0_data.shape"
   ]
  },
  {
   "cell_type": "code",
   "execution_count": 84,
   "metadata": {},
   "outputs": [],
   "source": [
    "cluster_0_data=cluster_0_data.drop([\"clusters\"],axis=1)"
   ]
  },
  {
   "cell_type": "markdown",
   "metadata": {},
   "source": [
    "# Splitting the data for training and test data"
   ]
  },
  {
   "cell_type": "code",
   "execution_count": 85,
   "metadata": {},
   "outputs": [],
   "source": [
    "from sklearn.model_selection import train_test_split\n",
    "train,test=train_test_split(cluster_0_data,test_size=0.2,random_state=0)"
   ]
  },
  {
   "cell_type": "code",
   "execution_count": 86,
   "metadata": {},
   "outputs": [
    {
     "name": "stdout",
     "output_type": "stream",
     "text": [
      "(64105, 24) (16027, 24)\n"
     ]
    }
   ],
   "source": [
    "print(train.shape,test.shape)"
   ]
  },
  {
   "cell_type": "markdown",
   "metadata": {},
   "source": [
    "# Applying variable reduction techniques\n",
    "1. VIF\n",
    "2. P-value\n",
    "3. z-value"
   ]
  },
  {
   "cell_type": "code",
   "execution_count": 87,
   "metadata": {},
   "outputs": [],
   "source": [
    "import statsmodels.formula.api as sm\n",
    "\n",
    "def vif_cal(input_data, dependent_col):\n",
    "    x_vars=input_data.drop([dependent_col], axis=1)\n",
    "    xvar_names=x_vars.columns\n",
    "    for i in range(0,xvar_names.shape[0]):\n",
    "        y=x_vars[xvar_names[i]] \n",
    "        x=x_vars[xvar_names.drop(xvar_names[i])]\n",
    "        rsq=sm.ols(formula=\"y~x\", data=x_vars).fit().rsquared  \n",
    "        vif=round(1/(1-rsq),2)\n",
    "        print (xvar_names[i], \" VIF = \" , vif)"
   ]
  },
  {
   "cell_type": "code",
   "execution_count": 88,
   "metadata": {},
   "outputs": [
    {
     "data": {
      "text/plain": [
       "Index(['OrInterestRate', 'OrUnpaidPrinc', 'OrLoanTerm', 'OrLTV', 'OrCLTV',\n",
       "       'NumBorrow', 'DTIRat', 'CreditScore', 'MortInsPerc', 'CoCreditScore',\n",
       "       'MortInsType', 'Default', 'Channel_C', 'Channel_R', 'FTHomeBuyer_U',\n",
       "       'FTHomeBuyer_Y', 'LoanPurpose_P', 'LoanPurpose_R', 'PropertyType_CP',\n",
       "       'PropertyType_MH', 'PropertyType_PU', 'PropertyType_SF', 'OccStatus_P',\n",
       "       'OccStatus_S'],\n",
       "      dtype='object')"
      ]
     },
     "execution_count": 88,
     "metadata": {},
     "output_type": "execute_result"
    }
   ],
   "source": [
    "train.columns"
   ]
  },
  {
   "cell_type": "code",
   "execution_count": 89,
   "metadata": {},
   "outputs": [
    {
     "name": "stdout",
     "output_type": "stream",
     "text": [
      "OrInterestRate  VIF =  1.48\n",
      "OrUnpaidPrinc  VIF =  1.22\n",
      "OrLoanTerm  VIF =  7.15\n",
      "OrLTV  VIF =  71.05\n",
      "OrCLTV  VIF =  6.6\n",
      "NumBorrow  VIF =  1.08\n",
      "DTIRat  VIF =  1.9\n",
      "CreditScore  VIF =  1.42\n",
      "MortInsPerc  VIF =  71.04\n",
      "CoCreditScore  VIF =  1.63\n",
      "MortInsType  VIF =  1.31\n",
      "Channel_C  VIF =  2.0\n",
      "Channel_R  VIF =  2.0\n",
      "FTHomeBuyer_U  VIF =  1.01\n",
      "FTHomeBuyer_Y  VIF =  1.31\n",
      "LoanPurpose_P  VIF =  2.41\n",
      "LoanPurpose_R  VIF =  1.22\n",
      "PropertyType_CP  VIF =  1.06\n",
      "PropertyType_MH  VIF =  1.63\n",
      "PropertyType_PU  VIF =  2.26\n",
      "PropertyType_SF  VIF =  2.54\n",
      "OccStatus_P  VIF =  1.98\n",
      "OccStatus_S  VIF =  1.47\n"
     ]
    }
   ],
   "source": [
    "vif_cal(input_data=train,dependent_col=\"Default\")"
   ]
  },
  {
   "cell_type": "code",
   "execution_count": 90,
   "metadata": {},
   "outputs": [],
   "source": [
    "train=train.drop([\"OrLTV\"],axis=1)"
   ]
  },
  {
   "cell_type": "code",
   "execution_count": 91,
   "metadata": {},
   "outputs": [
    {
     "name": "stdout",
     "output_type": "stream",
     "text": [
      "OrInterestRate  VIF =  1.48\n",
      "OrUnpaidPrinc  VIF =  1.22\n",
      "OrLoanTerm  VIF =  2.52\n",
      "OrCLTV  VIF =  6.1\n",
      "NumBorrow  VIF =  1.08\n",
      "DTIRat  VIF =  1.9\n",
      "CreditScore  VIF =  1.42\n",
      "MortInsPerc  VIF =  6.74\n",
      "CoCreditScore  VIF =  1.62\n",
      "MortInsType  VIF =  1.31\n",
      "Channel_C  VIF =  2.0\n",
      "Channel_R  VIF =  2.0\n",
      "FTHomeBuyer_U  VIF =  1.01\n",
      "FTHomeBuyer_Y  VIF =  1.31\n",
      "LoanPurpose_P  VIF =  2.12\n",
      "LoanPurpose_R  VIF =  1.21\n",
      "PropertyType_CP  VIF =  1.06\n",
      "PropertyType_MH  VIF =  1.33\n",
      "PropertyType_PU  VIF =  2.26\n",
      "PropertyType_SF  VIF =  2.54\n",
      "OccStatus_P  VIF =  1.82\n",
      "OccStatus_S  VIF =  1.47\n"
     ]
    }
   ],
   "source": [
    "vif_cal(input_data=train,dependent_col=\"Default\")"
   ]
  },
  {
   "cell_type": "code",
   "execution_count": 92,
   "metadata": {},
   "outputs": [],
   "source": [
    "train=train.drop([\"OrCLTV\"],axis=1)"
   ]
  },
  {
   "cell_type": "code",
   "execution_count": 93,
   "metadata": {},
   "outputs": [
    {
     "name": "stdout",
     "output_type": "stream",
     "text": [
      "OrInterestRate  VIF =  1.48\n",
      "OrUnpaidPrinc  VIF =  1.21\n",
      "OrLoanTerm  VIF =  2.13\n",
      "NumBorrow  VIF =  1.08\n",
      "DTIRat  VIF =  1.9\n",
      "CreditScore  VIF =  1.41\n",
      "MortInsPerc  VIF =  1.44\n",
      "CoCreditScore  VIF =  1.62\n",
      "MortInsType  VIF =  1.31\n",
      "Channel_C  VIF =  2.0\n",
      "Channel_R  VIF =  1.99\n",
      "FTHomeBuyer_U  VIF =  1.01\n",
      "FTHomeBuyer_Y  VIF =  1.31\n",
      "LoanPurpose_P  VIF =  2.04\n",
      "LoanPurpose_R  VIF =  1.18\n",
      "PropertyType_CP  VIF =  1.06\n",
      "PropertyType_MH  VIF =  1.29\n",
      "PropertyType_PU  VIF =  2.26\n",
      "PropertyType_SF  VIF =  2.54\n",
      "OccStatus_P  VIF =  1.78\n",
      "OccStatus_S  VIF =  1.47\n"
     ]
    }
   ],
   "source": [
    "vif_cal(input_data=train,dependent_col=\"Default\")"
   ]
  },
  {
   "cell_type": "code",
   "execution_count": 94,
   "metadata": {},
   "outputs": [],
   "source": [
    "train=train.drop([\"PropertyType_SF\"],axis=1)"
   ]
  },
  {
   "cell_type": "code",
   "execution_count": 95,
   "metadata": {},
   "outputs": [
    {
     "name": "stdout",
     "output_type": "stream",
     "text": [
      "OrInterestRate  VIF =  1.48\n",
      "OrUnpaidPrinc  VIF =  1.21\n",
      "OrLoanTerm  VIF =  2.13\n",
      "NumBorrow  VIF =  1.07\n",
      "DTIRat  VIF =  1.9\n",
      "CreditScore  VIF =  1.41\n",
      "MortInsPerc  VIF =  1.43\n",
      "CoCreditScore  VIF =  1.62\n",
      "MortInsType  VIF =  1.31\n",
      "Channel_C  VIF =  2.0\n",
      "Channel_R  VIF =  1.99\n",
      "FTHomeBuyer_U  VIF =  1.01\n",
      "FTHomeBuyer_Y  VIF =  1.3\n",
      "LoanPurpose_P  VIF =  2.03\n",
      "LoanPurpose_R  VIF =  1.18\n",
      "PropertyType_CP  VIF =  1.02\n",
      "PropertyType_MH  VIF =  1.06\n",
      "PropertyType_PU  VIF =  1.05\n",
      "OccStatus_P  VIF =  1.78\n",
      "OccStatus_S  VIF =  1.47\n"
     ]
    }
   ],
   "source": [
    "vif_cal(input_data=train,dependent_col=\"Default\")"
   ]
  },
  {
   "cell_type": "code",
   "execution_count": 96,
   "metadata": {},
   "outputs": [],
   "source": [
    "train=train.drop([\"LoanPurpose_P\"],axis=1)"
   ]
  },
  {
   "cell_type": "code",
   "execution_count": 97,
   "metadata": {},
   "outputs": [
    {
     "name": "stdout",
     "output_type": "stream",
     "text": [
      "OrInterestRate  VIF =  1.47\n",
      "OrUnpaidPrinc  VIF =  1.21\n",
      "OrLoanTerm  VIF =  2.11\n",
      "NumBorrow  VIF =  1.07\n",
      "DTIRat  VIF =  1.9\n",
      "CreditScore  VIF =  1.4\n",
      "MortInsPerc  VIF =  1.28\n",
      "CoCreditScore  VIF =  1.47\n",
      "MortInsType  VIF =  1.19\n",
      "Channel_C  VIF =  2.0\n",
      "Channel_R  VIF =  1.99\n",
      "FTHomeBuyer_U  VIF =  1.0\n",
      "FTHomeBuyer_Y  VIF =  1.11\n",
      "LoanPurpose_R  VIF =  1.03\n",
      "PropertyType_CP  VIF =  1.02\n",
      "PropertyType_MH  VIF =  1.06\n",
      "PropertyType_PU  VIF =  1.04\n",
      "OccStatus_P  VIF =  1.77\n",
      "OccStatus_S  VIF =  1.46\n"
     ]
    }
   ],
   "source": [
    "vif_cal(input_data=train,dependent_col=\"Default\")"
   ]
  },
  {
   "cell_type": "code",
   "execution_count": 98,
   "metadata": {},
   "outputs": [],
   "source": [
    "X=train.drop([\"Default\"],axis=1)\n",
    "y=train[\"Default\"]"
   ]
  },
  {
   "cell_type": "code",
   "execution_count": 99,
   "metadata": {},
   "outputs": [
    {
     "name": "stdout",
     "output_type": "stream",
     "text": [
      "Optimization terminated successfully.\n",
      "         Current function value: 0.257629\n",
      "         Iterations 8\n"
     ]
    },
    {
     "data": {
      "text/html": [
       "<table class=\"simpletable\">\n",
       "<tr>\n",
       "        <td>Model:</td>              <td>Logit</td>      <td>Pseudo R-squared:</td>    <td>0.186</td>  \n",
       "</tr>\n",
       "<tr>\n",
       "  <td>Dependent Variable:</td>         <td>y</td>              <td>AIC:</td>        <td>33070.5896</td>\n",
       "</tr>\n",
       "<tr>\n",
       "         <td>Date:</td>        <td>2020-02-23 17:38</td>       <td>BIC:</td>        <td>33251.9551</td>\n",
       "</tr>\n",
       "<tr>\n",
       "   <td>No. Observations:</td>        <td>64105</td>       <td>Log-Likelihood:</td>    <td>-16515.</td> \n",
       "</tr>\n",
       "<tr>\n",
       "       <td>Df Model:</td>             <td>19</td>            <td>LL-Null:</td>        <td>-20295.</td> \n",
       "</tr>\n",
       "<tr>\n",
       "     <td>Df Residuals:</td>          <td>64085</td>        <td>LLR p-value:</td>      <td>0.0000</td>  \n",
       "</tr>\n",
       "<tr>\n",
       "      <td>Converged:</td>           <td>1.0000</td>           <td>Scale:</td>         <td>1.0000</td>  \n",
       "</tr>\n",
       "<tr>\n",
       "    <td>No. Iterations:</td>        <td>8.0000</td>              <td></td>               <td></td>     \n",
       "</tr>\n",
       "</table>\n",
       "<table class=\"simpletable\">\n",
       "<tr>\n",
       "      <td></td>        <th>Coef.</th>  <th>Std.Err.</th>     <th>z</th>     <th>P>|z|</th>  <th>[0.025</th>   <th>0.975]</th> \n",
       "</tr>\n",
       "<tr>\n",
       "  <th>Intercept</th>  <td>3.2272</td>   <td>0.2534</td>   <td>12.7369</td> <td>0.0000</td>  <td>2.7306</td>   <td>3.7238</td> \n",
       "</tr>\n",
       "<tr>\n",
       "  <th>X[0]</th>       <td>1.3367</td>   <td>0.2254</td>   <td>5.9309</td>  <td>0.0000</td>  <td>0.8950</td>   <td>1.7785</td> \n",
       "</tr>\n",
       "<tr>\n",
       "  <th>X[1]</th>       <td>1.1989</td>   <td>0.1667</td>   <td>7.1931</td>  <td>0.0000</td>  <td>0.8722</td>   <td>1.5256</td> \n",
       "</tr>\n",
       "<tr>\n",
       "  <th>X[2]</th>       <td>1.2020</td>   <td>0.0964</td>   <td>12.4685</td> <td>0.0000</td>  <td>1.0130</td>   <td>1.3909</td> \n",
       "</tr>\n",
       "<tr>\n",
       "  <th>X[3]</th>      <td>-11.0120</td>  <td>0.3449</td>  <td>-31.9289</td> <td>0.0000</td> <td>-11.6880</td> <td>-10.3360</td>\n",
       "</tr>\n",
       "<tr>\n",
       "  <th>X[4]</th>       <td>0.7811</td>   <td>0.1308</td>   <td>5.9694</td>  <td>0.0000</td>  <td>0.5246</td>   <td>1.0375</td> \n",
       "</tr>\n",
       "<tr>\n",
       "  <th>X[5]</th>       <td>-1.0848</td>  <td>0.1291</td>   <td>-8.4019</td> <td>0.0000</td>  <td>-1.3378</td>  <td>-0.8317</td>\n",
       "</tr>\n",
       "<tr>\n",
       "  <th>X[6]</th>       <td>3.2430</td>   <td>0.1704</td>   <td>19.0278</td> <td>0.0000</td>  <td>2.9089</td>   <td>3.5770</td> \n",
       "</tr>\n",
       "<tr>\n",
       "  <th>X[7]</th>      <td>-11.5355</td>  <td>0.2300</td>  <td>-50.1522</td> <td>0.0000</td> <td>-11.9864</td> <td>-11.0847</td>\n",
       "</tr>\n",
       "<tr>\n",
       "  <th>X[8]</th>       <td>-0.0865</td>  <td>0.1321</td>   <td>-0.6548</td> <td>0.5126</td>  <td>-0.3454</td>  <td>0.1724</td> \n",
       "</tr>\n",
       "<tr>\n",
       "  <th>X[9]</th>       <td>-0.1324</td>  <td>0.0372</td>   <td>-3.5601</td> <td>0.0004</td>  <td>-0.2054</td>  <td>-0.0595</td>\n",
       "</tr>\n",
       "<tr>\n",
       "  <th>X[10]</th>      <td>-0.3606</td>  <td>0.0382</td>   <td>-9.4326</td> <td>0.0000</td>  <td>-0.4355</td>  <td>-0.2856</td>\n",
       "</tr>\n",
       "<tr>\n",
       "  <th>X[11]</th>      <td>-0.2916</td>  <td>0.4580</td>   <td>-0.6367</td> <td>0.5243</td>  <td>-1.1893</td>  <td>0.6061</td> \n",
       "</tr>\n",
       "<tr>\n",
       "  <th>X[12]</th>      <td>-0.2205</td>  <td>0.0619</td>   <td>-3.5647</td> <td>0.0004</td>  <td>-0.3418</td>  <td>-0.0993</td>\n",
       "</tr>\n",
       "<tr>\n",
       "  <th>X[13]</th>      <td>0.1187</td>   <td>0.0360</td>   <td>3.2924</td>  <td>0.0010</td>  <td>0.0480</td>   <td>0.1893</td> \n",
       "</tr>\n",
       "<tr>\n",
       "  <th>X[14]</th>      <td>-0.1659</td>  <td>0.3071</td>   <td>-0.5402</td> <td>0.5891</td>  <td>-0.7677</td>  <td>0.4360</td> \n",
       "</tr>\n",
       "<tr>\n",
       "  <th>X[15]</th>      <td>0.8410</td>   <td>0.0969</td>   <td>8.6809</td>  <td>0.0000</td>  <td>0.6511</td>   <td>1.0309</td> \n",
       "</tr>\n",
       "<tr>\n",
       "  <th>X[16]</th>      <td>0.0910</td>   <td>0.0437</td>   <td>2.0826</td>  <td>0.0373</td>  <td>0.0054</td>   <td>0.1767</td> \n",
       "</tr>\n",
       "<tr>\n",
       "  <th>X[17]</th>      <td>-1.2230</td>  <td>0.0478</td>  <td>-25.5821</td> <td>0.0000</td>  <td>-1.3167</td>  <td>-1.1293</td>\n",
       "</tr>\n",
       "<tr>\n",
       "  <th>X[18]</th>      <td>-0.5626</td>  <td>0.0794</td>   <td>-7.0835</td> <td>0.0000</td>  <td>-0.7183</td>  <td>-0.4069</td>\n",
       "</tr>\n",
       "</table>"
      ],
      "text/plain": [
       "<class 'statsmodels.iolib.summary2.Summary'>\n",
       "\"\"\"\n",
       "                         Results: Logit\n",
       "=================================================================\n",
       "Model:              Logit            Pseudo R-squared: 0.186     \n",
       "Dependent Variable: y                AIC:              33070.5896\n",
       "Date:               2020-02-23 17:38 BIC:              33251.9551\n",
       "No. Observations:   64105            Log-Likelihood:   -16515.   \n",
       "Df Model:           19               LL-Null:          -20295.   \n",
       "Df Residuals:       64085            LLR p-value:      0.0000    \n",
       "Converged:          1.0000           Scale:            1.0000    \n",
       "No. Iterations:     8.0000                                       \n",
       "-----------------------------------------------------------------\n",
       "               Coef.   Std.Err.    z     P>|z|   [0.025   0.975] \n",
       "-----------------------------------------------------------------\n",
       "Intercept       3.2272   0.2534  12.7369 0.0000   2.7306   3.7238\n",
       "X[0]            1.3367   0.2254   5.9309 0.0000   0.8950   1.7785\n",
       "X[1]            1.1989   0.1667   7.1931 0.0000   0.8722   1.5256\n",
       "X[2]            1.2020   0.0964  12.4685 0.0000   1.0130   1.3909\n",
       "X[3]          -11.0120   0.3449 -31.9289 0.0000 -11.6880 -10.3360\n",
       "X[4]            0.7811   0.1308   5.9694 0.0000   0.5246   1.0375\n",
       "X[5]           -1.0848   0.1291  -8.4019 0.0000  -1.3378  -0.8317\n",
       "X[6]            3.2430   0.1704  19.0278 0.0000   2.9089   3.5770\n",
       "X[7]          -11.5355   0.2300 -50.1522 0.0000 -11.9864 -11.0847\n",
       "X[8]           -0.0865   0.1321  -0.6548 0.5126  -0.3454   0.1724\n",
       "X[9]           -0.1324   0.0372  -3.5601 0.0004  -0.2054  -0.0595\n",
       "X[10]          -0.3606   0.0382  -9.4326 0.0000  -0.4355  -0.2856\n",
       "X[11]          -0.2916   0.4580  -0.6367 0.5243  -1.1893   0.6061\n",
       "X[12]          -0.2205   0.0619  -3.5647 0.0004  -0.3418  -0.0993\n",
       "X[13]           0.1187   0.0360   3.2924 0.0010   0.0480   0.1893\n",
       "X[14]          -0.1659   0.3071  -0.5402 0.5891  -0.7677   0.4360\n",
       "X[15]           0.8410   0.0969   8.6809 0.0000   0.6511   1.0309\n",
       "X[16]           0.0910   0.0437   2.0826 0.0373   0.0054   0.1767\n",
       "X[17]          -1.2230   0.0478 -25.5821 0.0000  -1.3167  -1.1293\n",
       "X[18]          -0.5626   0.0794  -7.0835 0.0000  -0.7183  -0.4069\n",
       "=================================================================\n",
       "\n",
       "\"\"\""
      ]
     },
     "execution_count": 99,
     "metadata": {},
     "output_type": "execute_result"
    }
   ],
   "source": [
    "import statsmodels.formula.api as sm\n",
    "model=sm.logit(formula=\"y~X\",data=train).fit()\n",
    "model.summary2()\n"
   ]
  },
  {
   "cell_type": "code",
   "execution_count": 100,
   "metadata": {},
   "outputs": [
    {
     "data": {
      "text/plain": [
       "(64105, 20)"
      ]
     },
     "execution_count": 100,
     "metadata": {},
     "output_type": "execute_result"
    }
   ],
   "source": [
    "train.shape"
   ]
  },
  {
   "cell_type": "code",
   "execution_count": 101,
   "metadata": {},
   "outputs": [
    {
     "data": {
      "text/plain": [
       "Index(['OrInterestRate', 'OrUnpaidPrinc', 'OrLoanTerm', 'NumBorrow', 'DTIRat',\n",
       "       'CreditScore', 'MortInsPerc', 'CoCreditScore', 'MortInsType', 'Default',\n",
       "       'Channel_C', 'Channel_R', 'FTHomeBuyer_U', 'FTHomeBuyer_Y',\n",
       "       'LoanPurpose_R', 'PropertyType_CP', 'PropertyType_MH',\n",
       "       'PropertyType_PU', 'OccStatus_P', 'OccStatus_S'],\n",
       "      dtype='object')"
      ]
     },
     "execution_count": 101,
     "metadata": {},
     "output_type": "execute_result"
    }
   ],
   "source": [
    "train.columns"
   ]
  },
  {
   "cell_type": "code",
   "execution_count": 102,
   "metadata": {},
   "outputs": [],
   "source": [
    "train1=train.drop([\"FTHomeBuyer_U\"],axis=1)"
   ]
  },
  {
   "cell_type": "code",
   "execution_count": 103,
   "metadata": {
    "scrolled": true
   },
   "outputs": [
    {
     "name": "stdout",
     "output_type": "stream",
     "text": [
      "Optimization terminated successfully.\n",
      "         Current function value: 0.257629\n",
      "         Iterations 8\n"
     ]
    },
    {
     "data": {
      "text/html": [
       "<table class=\"simpletable\">\n",
       "<tr>\n",
       "        <td>Model:</td>              <td>Logit</td>      <td>Pseudo R-squared:</td>    <td>0.186</td>  \n",
       "</tr>\n",
       "<tr>\n",
       "  <td>Dependent Variable:</td>      <td>Default</td>           <td>AIC:</td>        <td>33070.5896</td>\n",
       "</tr>\n",
       "<tr>\n",
       "         <td>Date:</td>        <td>2020-02-23 17:38</td>       <td>BIC:</td>        <td>33251.9551</td>\n",
       "</tr>\n",
       "<tr>\n",
       "   <td>No. Observations:</td>        <td>64105</td>       <td>Log-Likelihood:</td>    <td>-16515.</td> \n",
       "</tr>\n",
       "<tr>\n",
       "       <td>Df Model:</td>             <td>19</td>            <td>LL-Null:</td>        <td>-20295.</td> \n",
       "</tr>\n",
       "<tr>\n",
       "     <td>Df Residuals:</td>          <td>64085</td>        <td>LLR p-value:</td>      <td>0.0000</td>  \n",
       "</tr>\n",
       "<tr>\n",
       "      <td>Converged:</td>           <td>1.0000</td>           <td>Scale:</td>         <td>1.0000</td>  \n",
       "</tr>\n",
       "<tr>\n",
       "    <td>No. Iterations:</td>        <td>8.0000</td>              <td></td>               <td></td>     \n",
       "</tr>\n",
       "</table>\n",
       "<table class=\"simpletable\">\n",
       "<tr>\n",
       "         <td></td>           <th>Coef.</th>  <th>Std.Err.</th>     <th>z</th>     <th>P>|z|</th>  <th>[0.025</th>   <th>0.975]</th> \n",
       "</tr>\n",
       "<tr>\n",
       "  <th>Intercept</th>        <td>3.2272</td>   <td>0.2534</td>   <td>12.7369</td> <td>0.0000</td>  <td>2.7306</td>   <td>3.7238</td> \n",
       "</tr>\n",
       "<tr>\n",
       "  <th>OrInterestRate</th>   <td>1.3367</td>   <td>0.2254</td>   <td>5.9309</td>  <td>0.0000</td>  <td>0.8950</td>   <td>1.7785</td> \n",
       "</tr>\n",
       "<tr>\n",
       "  <th>OrUnpaidPrinc</th>    <td>1.1989</td>   <td>0.1667</td>   <td>7.1931</td>  <td>0.0000</td>  <td>0.8722</td>   <td>1.5256</td> \n",
       "</tr>\n",
       "<tr>\n",
       "  <th>OrLoanTerm</th>       <td>1.2020</td>   <td>0.0964</td>   <td>12.4685</td> <td>0.0000</td>  <td>1.0130</td>   <td>1.3909</td> \n",
       "</tr>\n",
       "<tr>\n",
       "  <th>NumBorrow</th>       <td>-11.0120</td>  <td>0.3449</td>  <td>-31.9289</td> <td>0.0000</td> <td>-11.6880</td> <td>-10.3360</td>\n",
       "</tr>\n",
       "<tr>\n",
       "  <th>DTIRat</th>           <td>0.7811</td>   <td>0.1308</td>   <td>5.9694</td>  <td>0.0000</td>  <td>0.5246</td>   <td>1.0375</td> \n",
       "</tr>\n",
       "<tr>\n",
       "  <th>CreditScore</th>      <td>-1.0848</td>  <td>0.1291</td>   <td>-8.4019</td> <td>0.0000</td>  <td>-1.3378</td>  <td>-0.8317</td>\n",
       "</tr>\n",
       "<tr>\n",
       "  <th>MortInsPerc</th>      <td>3.2430</td>   <td>0.1704</td>   <td>19.0278</td> <td>0.0000</td>  <td>2.9089</td>   <td>3.5770</td> \n",
       "</tr>\n",
       "<tr>\n",
       "  <th>CoCreditScore</th>   <td>-11.5355</td>  <td>0.2300</td>  <td>-50.1522</td> <td>0.0000</td> <td>-11.9864</td> <td>-11.0847</td>\n",
       "</tr>\n",
       "<tr>\n",
       "  <th>MortInsType</th>      <td>-0.0865</td>  <td>0.1321</td>   <td>-0.6548</td> <td>0.5126</td>  <td>-0.3454</td>  <td>0.1724</td> \n",
       "</tr>\n",
       "<tr>\n",
       "  <th>Channel_C</th>        <td>-0.1324</td>  <td>0.0372</td>   <td>-3.5601</td> <td>0.0004</td>  <td>-0.2054</td>  <td>-0.0595</td>\n",
       "</tr>\n",
       "<tr>\n",
       "  <th>Channel_R</th>        <td>-0.3606</td>  <td>0.0382</td>   <td>-9.4326</td> <td>0.0000</td>  <td>-0.4355</td>  <td>-0.2856</td>\n",
       "</tr>\n",
       "<tr>\n",
       "  <th>FTHomeBuyer_U</th>    <td>-0.2916</td>  <td>0.4580</td>   <td>-0.6367</td> <td>0.5243</td>  <td>-1.1893</td>  <td>0.6061</td> \n",
       "</tr>\n",
       "<tr>\n",
       "  <th>FTHomeBuyer_Y</th>    <td>-0.2205</td>  <td>0.0619</td>   <td>-3.5647</td> <td>0.0004</td>  <td>-0.3418</td>  <td>-0.0993</td>\n",
       "</tr>\n",
       "<tr>\n",
       "  <th>LoanPurpose_R</th>    <td>0.1187</td>   <td>0.0360</td>   <td>3.2924</td>  <td>0.0010</td>  <td>0.0480</td>   <td>0.1893</td> \n",
       "</tr>\n",
       "<tr>\n",
       "  <th>PropertyType_CP</th>  <td>-0.1659</td>  <td>0.3071</td>   <td>-0.5402</td> <td>0.5891</td>  <td>-0.7677</td>  <td>0.4360</td> \n",
       "</tr>\n",
       "<tr>\n",
       "  <th>PropertyType_MH</th>  <td>0.8410</td>   <td>0.0969</td>   <td>8.6809</td>  <td>0.0000</td>  <td>0.6511</td>   <td>1.0309</td> \n",
       "</tr>\n",
       "<tr>\n",
       "  <th>PropertyType_PU</th>  <td>0.0910</td>   <td>0.0437</td>   <td>2.0826</td>  <td>0.0373</td>  <td>0.0054</td>   <td>0.1767</td> \n",
       "</tr>\n",
       "<tr>\n",
       "  <th>OccStatus_P</th>      <td>-1.2230</td>  <td>0.0478</td>  <td>-25.5821</td> <td>0.0000</td>  <td>-1.3167</td>  <td>-1.1293</td>\n",
       "</tr>\n",
       "<tr>\n",
       "  <th>OccStatus_S</th>      <td>-0.5626</td>  <td>0.0794</td>   <td>-7.0835</td> <td>0.0000</td>  <td>-0.7183</td>  <td>-0.4069</td>\n",
       "</tr>\n",
       "</table>"
      ],
      "text/plain": [
       "<class 'statsmodels.iolib.summary2.Summary'>\n",
       "\"\"\"\n",
       "                          Results: Logit\n",
       "===================================================================\n",
       "Model:                Logit            Pseudo R-squared: 0.186     \n",
       "Dependent Variable:   Default          AIC:              33070.5896\n",
       "Date:                 2020-02-23 17:38 BIC:              33251.9551\n",
       "No. Observations:     64105            Log-Likelihood:   -16515.   \n",
       "Df Model:             19               LL-Null:          -20295.   \n",
       "Df Residuals:         64085            LLR p-value:      0.0000    \n",
       "Converged:            1.0000           Scale:            1.0000    \n",
       "No. Iterations:       8.0000                                       \n",
       "-------------------------------------------------------------------\n",
       "                 Coef.   Std.Err.    z     P>|z|   [0.025   0.975] \n",
       "-------------------------------------------------------------------\n",
       "Intercept         3.2272   0.2534  12.7369 0.0000   2.7306   3.7238\n",
       "OrInterestRate    1.3367   0.2254   5.9309 0.0000   0.8950   1.7785\n",
       "OrUnpaidPrinc     1.1989   0.1667   7.1931 0.0000   0.8722   1.5256\n",
       "OrLoanTerm        1.2020   0.0964  12.4685 0.0000   1.0130   1.3909\n",
       "NumBorrow       -11.0120   0.3449 -31.9289 0.0000 -11.6880 -10.3360\n",
       "DTIRat            0.7811   0.1308   5.9694 0.0000   0.5246   1.0375\n",
       "CreditScore      -1.0848   0.1291  -8.4019 0.0000  -1.3378  -0.8317\n",
       "MortInsPerc       3.2430   0.1704  19.0278 0.0000   2.9089   3.5770\n",
       "CoCreditScore   -11.5355   0.2300 -50.1522 0.0000 -11.9864 -11.0847\n",
       "MortInsType      -0.0865   0.1321  -0.6548 0.5126  -0.3454   0.1724\n",
       "Channel_C        -0.1324   0.0372  -3.5601 0.0004  -0.2054  -0.0595\n",
       "Channel_R        -0.3606   0.0382  -9.4326 0.0000  -0.4355  -0.2856\n",
       "FTHomeBuyer_U    -0.2916   0.4580  -0.6367 0.5243  -1.1893   0.6061\n",
       "FTHomeBuyer_Y    -0.2205   0.0619  -3.5647 0.0004  -0.3418  -0.0993\n",
       "LoanPurpose_R     0.1187   0.0360   3.2924 0.0010   0.0480   0.1893\n",
       "PropertyType_CP  -0.1659   0.3071  -0.5402 0.5891  -0.7677   0.4360\n",
       "PropertyType_MH   0.8410   0.0969   8.6809 0.0000   0.6511   1.0309\n",
       "PropertyType_PU   0.0910   0.0437   2.0826 0.0373   0.0054   0.1767\n",
       "OccStatus_P      -1.2230   0.0478 -25.5821 0.0000  -1.3167  -1.1293\n",
       "OccStatus_S      -0.5626   0.0794  -7.0835 0.0000  -0.7183  -0.4069\n",
       "===================================================================\n",
       "\n",
       "\"\"\""
      ]
     },
     "execution_count": 103,
     "metadata": {},
     "output_type": "execute_result"
    }
   ],
   "source": [
    "import statsmodels.formula.api as sm\n",
    "model=sm.logit(formula=\"Default~OrInterestRate+OrUnpaidPrinc+OrLoanTerm+NumBorrow+DTIRat+CreditScore+MortInsPerc+CoCreditScore+MortInsType+Channel_C+ Channel_R+ FTHomeBuyer_U+FTHomeBuyer_Y+LoanPurpose_R+PropertyType_CP+PropertyType_MH+PropertyType_PU+OccStatus_P+ OccStatus_S\",data=train).fit()\n",
    "model.summary2()"
   ]
  },
  {
   "cell_type": "code",
   "execution_count": 104,
   "metadata": {},
   "outputs": [],
   "source": [
    "train1=train.drop([\"FTHomeBuyer_U\"],axis=1)"
   ]
  },
  {
   "cell_type": "code",
   "execution_count": 105,
   "metadata": {},
   "outputs": [
    {
     "name": "stdout",
     "output_type": "stream",
     "text": [
      "Optimization terminated successfully.\n",
      "         Current function value: 0.257632\n",
      "         Iterations 8\n"
     ]
    },
    {
     "data": {
      "text/html": [
       "<table class=\"simpletable\">\n",
       "<tr>\n",
       "        <td>Model:</td>              <td>Logit</td>      <td>Pseudo R-squared:</td>    <td>0.186</td>  \n",
       "</tr>\n",
       "<tr>\n",
       "  <td>Dependent Variable:</td>      <td>Default</td>           <td>AIC:</td>        <td>33069.0194</td>\n",
       "</tr>\n",
       "<tr>\n",
       "         <td>Date:</td>        <td>2020-02-23 17:38</td>       <td>BIC:</td>        <td>33241.3167</td>\n",
       "</tr>\n",
       "<tr>\n",
       "   <td>No. Observations:</td>        <td>64105</td>       <td>Log-Likelihood:</td>    <td>-16516.</td> \n",
       "</tr>\n",
       "<tr>\n",
       "       <td>Df Model:</td>             <td>18</td>            <td>LL-Null:</td>        <td>-20295.</td> \n",
       "</tr>\n",
       "<tr>\n",
       "     <td>Df Residuals:</td>          <td>64086</td>        <td>LLR p-value:</td>      <td>0.0000</td>  \n",
       "</tr>\n",
       "<tr>\n",
       "      <td>Converged:</td>           <td>1.0000</td>           <td>Scale:</td>         <td>1.0000</td>  \n",
       "</tr>\n",
       "<tr>\n",
       "    <td>No. Iterations:</td>        <td>8.0000</td>              <td></td>               <td></td>     \n",
       "</tr>\n",
       "</table>\n",
       "<table class=\"simpletable\">\n",
       "<tr>\n",
       "         <td></td>           <th>Coef.</th>  <th>Std.Err.</th>     <th>z</th>     <th>P>|z|</th>  <th>[0.025</th>   <th>0.975]</th> \n",
       "</tr>\n",
       "<tr>\n",
       "  <th>Intercept</th>        <td>3.2284</td>   <td>0.2534</td>   <td>12.7420</td> <td>0.0000</td>  <td>2.7318</td>   <td>3.7250</td> \n",
       "</tr>\n",
       "<tr>\n",
       "  <th>OrInterestRate</th>   <td>1.3375</td>   <td>0.2254</td>   <td>5.9346</td>  <td>0.0000</td>  <td>0.8958</td>   <td>1.7792</td> \n",
       "</tr>\n",
       "<tr>\n",
       "  <th>OrUnpaidPrinc</th>    <td>1.1993</td>   <td>0.1667</td>   <td>7.1956</td>  <td>0.0000</td>  <td>0.8726</td>   <td>1.5260</td> \n",
       "</tr>\n",
       "<tr>\n",
       "  <th>OrLoanTerm</th>       <td>1.2016</td>   <td>0.0964</td>   <td>12.4650</td> <td>0.0000</td>  <td>1.0127</td>   <td>1.3906</td> \n",
       "</tr>\n",
       "<tr>\n",
       "  <th>NumBorrow</th>       <td>-11.0146</td>  <td>0.3449</td>  <td>-31.9380</td> <td>0.0000</td> <td>-11.6906</td> <td>-10.3387</td>\n",
       "</tr>\n",
       "<tr>\n",
       "  <th>DTIRat</th>           <td>0.7819</td>   <td>0.1308</td>   <td>5.9762</td>  <td>0.0000</td>  <td>0.5255</td>   <td>1.0384</td> \n",
       "</tr>\n",
       "<tr>\n",
       "  <th>CreditScore</th>      <td>-1.0846</td>  <td>0.1291</td>   <td>-8.4011</td> <td>0.0000</td>  <td>-1.3377</td>  <td>-0.8316</td>\n",
       "</tr>\n",
       "<tr>\n",
       "  <th>MortInsPerc</th>      <td>3.2408</td>   <td>0.1704</td>   <td>19.0198</td> <td>0.0000</td>  <td>2.9069</td>   <td>3.5748</td> \n",
       "</tr>\n",
       "<tr>\n",
       "  <th>CoCreditScore</th>   <td>-11.5371</td>  <td>0.2300</td>  <td>-50.1593</td> <td>0.0000</td> <td>-11.9879</td> <td>-11.0863</td>\n",
       "</tr>\n",
       "<tr>\n",
       "  <th>MortInsType</th>      <td>-0.0885</td>  <td>0.1321</td>   <td>-0.6699</td> <td>0.5029</td>  <td>-0.3473</td>  <td>0.1704</td> \n",
       "</tr>\n",
       "<tr>\n",
       "  <th>Channel_C</th>        <td>-0.1329</td>  <td>0.0372</td>   <td>-3.5727</td> <td>0.0004</td>  <td>-0.2058</td>  <td>-0.0600</td>\n",
       "</tr>\n",
       "<tr>\n",
       "  <th>Channel_R</th>        <td>-0.3606</td>  <td>0.0382</td>   <td>-9.4340</td> <td>0.0000</td>  <td>-0.4355</td>  <td>-0.2857</td>\n",
       "</tr>\n",
       "<tr>\n",
       "  <th>FTHomeBuyer_Y</th>    <td>-0.2203</td>  <td>0.0619</td>   <td>-3.5614</td> <td>0.0004</td>  <td>-0.3416</td>  <td>-0.0991</td>\n",
       "</tr>\n",
       "<tr>\n",
       "  <th>LoanPurpose_R</th>    <td>0.1190</td>   <td>0.0360</td>   <td>3.3018</td>  <td>0.0010</td>  <td>0.0484</td>   <td>0.1897</td> \n",
       "</tr>\n",
       "<tr>\n",
       "  <th>PropertyType_CP</th>  <td>-0.1662</td>  <td>0.3071</td>   <td>-0.5413</td> <td>0.5883</td>  <td>-0.7680</td>  <td>0.4356</td> \n",
       "</tr>\n",
       "<tr>\n",
       "  <th>PropertyType_MH</th>  <td>0.8406</td>   <td>0.0969</td>   <td>8.6775</td>  <td>0.0000</td>  <td>0.6508</td>   <td>1.0305</td> \n",
       "</tr>\n",
       "<tr>\n",
       "  <th>PropertyType_PU</th>  <td>0.0906</td>   <td>0.0437</td>   <td>2.0722</td>  <td>0.0382</td>  <td>0.0049</td>   <td>0.1762</td> \n",
       "</tr>\n",
       "<tr>\n",
       "  <th>OccStatus_P</th>      <td>-1.2215</td>  <td>0.0478</td>  <td>-25.5804</td> <td>0.0000</td>  <td>-1.3151</td>  <td>-1.1279</td>\n",
       "</tr>\n",
       "<tr>\n",
       "  <th>OccStatus_S</th>      <td>-0.5617</td>  <td>0.0794</td>   <td>-7.0736</td> <td>0.0000</td>  <td>-0.7174</td>  <td>-0.4061</td>\n",
       "</tr>\n",
       "</table>"
      ],
      "text/plain": [
       "<class 'statsmodels.iolib.summary2.Summary'>\n",
       "\"\"\"\n",
       "                          Results: Logit\n",
       "===================================================================\n",
       "Model:                Logit            Pseudo R-squared: 0.186     \n",
       "Dependent Variable:   Default          AIC:              33069.0194\n",
       "Date:                 2020-02-23 17:38 BIC:              33241.3167\n",
       "No. Observations:     64105            Log-Likelihood:   -16516.   \n",
       "Df Model:             18               LL-Null:          -20295.   \n",
       "Df Residuals:         64086            LLR p-value:      0.0000    \n",
       "Converged:            1.0000           Scale:            1.0000    \n",
       "No. Iterations:       8.0000                                       \n",
       "-------------------------------------------------------------------\n",
       "                 Coef.   Std.Err.    z     P>|z|   [0.025   0.975] \n",
       "-------------------------------------------------------------------\n",
       "Intercept         3.2284   0.2534  12.7420 0.0000   2.7318   3.7250\n",
       "OrInterestRate    1.3375   0.2254   5.9346 0.0000   0.8958   1.7792\n",
       "OrUnpaidPrinc     1.1993   0.1667   7.1956 0.0000   0.8726   1.5260\n",
       "OrLoanTerm        1.2016   0.0964  12.4650 0.0000   1.0127   1.3906\n",
       "NumBorrow       -11.0146   0.3449 -31.9380 0.0000 -11.6906 -10.3387\n",
       "DTIRat            0.7819   0.1308   5.9762 0.0000   0.5255   1.0384\n",
       "CreditScore      -1.0846   0.1291  -8.4011 0.0000  -1.3377  -0.8316\n",
       "MortInsPerc       3.2408   0.1704  19.0198 0.0000   2.9069   3.5748\n",
       "CoCreditScore   -11.5371   0.2300 -50.1593 0.0000 -11.9879 -11.0863\n",
       "MortInsType      -0.0885   0.1321  -0.6699 0.5029  -0.3473   0.1704\n",
       "Channel_C        -0.1329   0.0372  -3.5727 0.0004  -0.2058  -0.0600\n",
       "Channel_R        -0.3606   0.0382  -9.4340 0.0000  -0.4355  -0.2857\n",
       "FTHomeBuyer_Y    -0.2203   0.0619  -3.5614 0.0004  -0.3416  -0.0991\n",
       "LoanPurpose_R     0.1190   0.0360   3.3018 0.0010   0.0484   0.1897\n",
       "PropertyType_CP  -0.1662   0.3071  -0.5413 0.5883  -0.7680   0.4356\n",
       "PropertyType_MH   0.8406   0.0969   8.6775 0.0000   0.6508   1.0305\n",
       "PropertyType_PU   0.0906   0.0437   2.0722 0.0382   0.0049   0.1762\n",
       "OccStatus_P      -1.2215   0.0478 -25.5804 0.0000  -1.3151  -1.1279\n",
       "OccStatus_S      -0.5617   0.0794  -7.0736 0.0000  -0.7174  -0.4061\n",
       "===================================================================\n",
       "\n",
       "\"\"\""
      ]
     },
     "execution_count": 105,
     "metadata": {},
     "output_type": "execute_result"
    }
   ],
   "source": [
    "import statsmodels.formula.api as sm\n",
    "model=sm.logit(formula=\"Default~OrInterestRate+OrUnpaidPrinc+OrLoanTerm+NumBorrow+DTIRat+CreditScore+MortInsPerc+CoCreditScore+MortInsType+Channel_C+ Channel_R+ FTHomeBuyer_Y+LoanPurpose_R+PropertyType_CP+PropertyType_MH+PropertyType_PU+OccStatus_P+ OccStatus_S\",data=train1).fit()\n",
    "model.summary2()"
   ]
  },
  {
   "cell_type": "code",
   "execution_count": 106,
   "metadata": {},
   "outputs": [],
   "source": [
    "train1[\"pred\"]=model.predict()"
   ]
  },
  {
   "cell_type": "code",
   "execution_count": 107,
   "metadata": {
    "scrolled": true
   },
   "outputs": [
    {
     "data": {
      "text/html": [
       "<div>\n",
       "<style scoped>\n",
       "    .dataframe tbody tr th:only-of-type {\n",
       "        vertical-align: middle;\n",
       "    }\n",
       "\n",
       "    .dataframe tbody tr th {\n",
       "        vertical-align: top;\n",
       "    }\n",
       "\n",
       "    .dataframe thead th {\n",
       "        text-align: right;\n",
       "    }\n",
       "</style>\n",
       "<table border=\"1\" class=\"dataframe\">\n",
       "  <thead>\n",
       "    <tr style=\"text-align: right;\">\n",
       "      <th></th>\n",
       "      <th>OrInterestRate</th>\n",
       "      <th>OrUnpaidPrinc</th>\n",
       "      <th>OrLoanTerm</th>\n",
       "      <th>NumBorrow</th>\n",
       "      <th>DTIRat</th>\n",
       "      <th>CreditScore</th>\n",
       "      <th>MortInsPerc</th>\n",
       "      <th>CoCreditScore</th>\n",
       "      <th>MortInsType</th>\n",
       "      <th>Default</th>\n",
       "      <th>Channel_C</th>\n",
       "      <th>Channel_R</th>\n",
       "      <th>FTHomeBuyer_Y</th>\n",
       "      <th>LoanPurpose_R</th>\n",
       "      <th>PropertyType_CP</th>\n",
       "      <th>PropertyType_MH</th>\n",
       "      <th>PropertyType_PU</th>\n",
       "      <th>OccStatus_P</th>\n",
       "      <th>OccStatus_S</th>\n",
       "      <th>pred</th>\n",
       "    </tr>\n",
       "  </thead>\n",
       "  <tbody>\n",
       "    <tr>\n",
       "      <th>301978</th>\n",
       "      <td>0.491212</td>\n",
       "      <td>0.278317</td>\n",
       "      <td>1.0</td>\n",
       "      <td>0.000000</td>\n",
       "      <td>0.936508</td>\n",
       "      <td>0.773836</td>\n",
       "      <td>0.791485</td>\n",
       "      <td>0.691080</td>\n",
       "      <td>0.404557</td>\n",
       "      <td>1.0</td>\n",
       "      <td>1.0</td>\n",
       "      <td>0.0</td>\n",
       "      <td>0.0</td>\n",
       "      <td>0.0</td>\n",
       "      <td>0.0</td>\n",
       "      <td>0.0</td>\n",
       "      <td>0.0</td>\n",
       "      <td>0.0</td>\n",
       "      <td>1.0</td>\n",
       "      <td>0.304782</td>\n",
       "    </tr>\n",
       "    <tr>\n",
       "      <th>73638</th>\n",
       "      <td>0.468085</td>\n",
       "      <td>0.192557</td>\n",
       "      <td>0.4</td>\n",
       "      <td>0.111111</td>\n",
       "      <td>0.428571</td>\n",
       "      <td>0.472284</td>\n",
       "      <td>0.695049</td>\n",
       "      <td>0.563877</td>\n",
       "      <td>0.365492</td>\n",
       "      <td>0.0</td>\n",
       "      <td>0.0</td>\n",
       "      <td>1.0</td>\n",
       "      <td>0.0</td>\n",
       "      <td>0.0</td>\n",
       "      <td>0.0</td>\n",
       "      <td>0.0</td>\n",
       "      <td>0.0</td>\n",
       "      <td>1.0</td>\n",
       "      <td>0.0</td>\n",
       "      <td>0.062836</td>\n",
       "    </tr>\n",
       "    <tr>\n",
       "      <th>156802</th>\n",
       "      <td>0.468085</td>\n",
       "      <td>0.224919</td>\n",
       "      <td>1.0</td>\n",
       "      <td>0.000000</td>\n",
       "      <td>0.761905</td>\n",
       "      <td>0.871397</td>\n",
       "      <td>0.754690</td>\n",
       "      <td>0.824479</td>\n",
       "      <td>0.309384</td>\n",
       "      <td>0.0</td>\n",
       "      <td>1.0</td>\n",
       "      <td>0.0</td>\n",
       "      <td>0.0</td>\n",
       "      <td>0.0</td>\n",
       "      <td>0.0</td>\n",
       "      <td>0.0</td>\n",
       "      <td>1.0</td>\n",
       "      <td>0.0</td>\n",
       "      <td>1.0</td>\n",
       "      <td>0.061731</td>\n",
       "    </tr>\n",
       "    <tr>\n",
       "      <th>332942</th>\n",
       "      <td>0.722479</td>\n",
       "      <td>0.106796</td>\n",
       "      <td>1.0</td>\n",
       "      <td>0.000000</td>\n",
       "      <td>0.904762</td>\n",
       "      <td>0.924612</td>\n",
       "      <td>0.901739</td>\n",
       "      <td>0.794817</td>\n",
       "      <td>0.319453</td>\n",
       "      <td>0.0</td>\n",
       "      <td>1.0</td>\n",
       "      <td>0.0</td>\n",
       "      <td>0.0</td>\n",
       "      <td>0.0</td>\n",
       "      <td>0.0</td>\n",
       "      <td>0.0</td>\n",
       "      <td>0.0</td>\n",
       "      <td>0.0</td>\n",
       "      <td>0.0</td>\n",
       "      <td>0.235120</td>\n",
       "    </tr>\n",
       "    <tr>\n",
       "      <th>311795</th>\n",
       "      <td>0.421832</td>\n",
       "      <td>0.211974</td>\n",
       "      <td>1.0</td>\n",
       "      <td>0.111111</td>\n",
       "      <td>0.730159</td>\n",
       "      <td>0.882483</td>\n",
       "      <td>0.787165</td>\n",
       "      <td>0.821586</td>\n",
       "      <td>0.340647</td>\n",
       "      <td>0.0</td>\n",
       "      <td>0.0</td>\n",
       "      <td>1.0</td>\n",
       "      <td>0.0</td>\n",
       "      <td>0.0</td>\n",
       "      <td>0.0</td>\n",
       "      <td>0.0</td>\n",
       "      <td>0.0</td>\n",
       "      <td>1.0</td>\n",
       "      <td>0.0</td>\n",
       "      <td>0.007380</td>\n",
       "    </tr>\n",
       "  </tbody>\n",
       "</table>\n",
       "</div>"
      ],
      "text/plain": [
       "        OrInterestRate  OrUnpaidPrinc  OrLoanTerm  NumBorrow    DTIRat  \\\n",
       "301978        0.491212       0.278317         1.0   0.000000  0.936508   \n",
       "73638         0.468085       0.192557         0.4   0.111111  0.428571   \n",
       "156802        0.468085       0.224919         1.0   0.000000  0.761905   \n",
       "332942        0.722479       0.106796         1.0   0.000000  0.904762   \n",
       "311795        0.421832       0.211974         1.0   0.111111  0.730159   \n",
       "\n",
       "        CreditScore  MortInsPerc  CoCreditScore  MortInsType  Default  \\\n",
       "301978     0.773836     0.791485       0.691080     0.404557      1.0   \n",
       "73638      0.472284     0.695049       0.563877     0.365492      0.0   \n",
       "156802     0.871397     0.754690       0.824479     0.309384      0.0   \n",
       "332942     0.924612     0.901739       0.794817     0.319453      0.0   \n",
       "311795     0.882483     0.787165       0.821586     0.340647      0.0   \n",
       "\n",
       "        Channel_C  Channel_R  FTHomeBuyer_Y  LoanPurpose_R  PropertyType_CP  \\\n",
       "301978        1.0        0.0            0.0            0.0              0.0   \n",
       "73638         0.0        1.0            0.0            0.0              0.0   \n",
       "156802        1.0        0.0            0.0            0.0              0.0   \n",
       "332942        1.0        0.0            0.0            0.0              0.0   \n",
       "311795        0.0        1.0            0.0            0.0              0.0   \n",
       "\n",
       "        PropertyType_MH  PropertyType_PU  OccStatus_P  OccStatus_S      pred  \n",
       "301978              0.0              0.0          0.0          1.0  0.304782  \n",
       "73638               0.0              0.0          1.0          0.0  0.062836  \n",
       "156802              0.0              1.0          0.0          1.0  0.061731  \n",
       "332942              0.0              0.0          0.0          0.0  0.235120  \n",
       "311795              0.0              0.0          1.0          0.0  0.007380  "
      ]
     },
     "execution_count": 107,
     "metadata": {},
     "output_type": "execute_result"
    }
   ],
   "source": [
    "train1.head()"
   ]
  },
  {
   "cell_type": "code",
   "execution_count": 108,
   "metadata": {},
   "outputs": [],
   "source": [
    "train1[\"pred_flag\"]=np.where(train1[\"pred\"]>=0.5,1,0)"
   ]
  },
  {
   "cell_type": "code",
   "execution_count": 109,
   "metadata": {},
   "outputs": [
    {
     "data": {
      "text/plain": [
       "0    63428\n",
       "1      677\n",
       "Name: pred_flag, dtype: int64"
      ]
     },
     "execution_count": 109,
     "metadata": {},
     "output_type": "execute_result"
    }
   ],
   "source": [
    "train1[\"pred_flag\"].value_counts()"
   ]
  },
  {
   "cell_type": "code",
   "execution_count": 110,
   "metadata": {},
   "outputs": [
    {
     "data": {
      "text/plain": [
       "0.9019733250136495"
      ]
     },
     "execution_count": 110,
     "metadata": {},
     "output_type": "execute_result"
    }
   ],
   "source": [
    "from sklearn.metrics import accuracy_score\n",
    "accuracy_score(train1[\"Default\"],train1[\"pred_flag\"])"
   ]
  },
  {
   "cell_type": "code",
   "execution_count": 111,
   "metadata": {},
   "outputs": [],
   "source": [
    "train2=train1.drop([\"MortInsType\",\"pred\",\"pred_flag\"],axis=1)"
   ]
  },
  {
   "cell_type": "code",
   "execution_count": 112,
   "metadata": {},
   "outputs": [
    {
     "name": "stdout",
     "output_type": "stream",
     "text": [
      "Optimization terminated successfully.\n",
      "         Current function value: 0.257636\n",
      "         Iterations 8\n"
     ]
    },
    {
     "data": {
      "text/html": [
       "<table class=\"simpletable\">\n",
       "<tr>\n",
       "        <td>Model:</td>              <td>Logit</td>      <td>Pseudo R-squared:</td>    <td>0.186</td>  \n",
       "</tr>\n",
       "<tr>\n",
       "  <td>Dependent Variable:</td>      <td>Default</td>           <td>AIC:</td>        <td>33067.4715</td>\n",
       "</tr>\n",
       "<tr>\n",
       "         <td>Date:</td>        <td>2020-02-23 17:38</td>       <td>BIC:</td>        <td>33230.7005</td>\n",
       "</tr>\n",
       "<tr>\n",
       "   <td>No. Observations:</td>        <td>64105</td>       <td>Log-Likelihood:</td>    <td>-16516.</td> \n",
       "</tr>\n",
       "<tr>\n",
       "       <td>Df Model:</td>             <td>17</td>            <td>LL-Null:</td>        <td>-20295.</td> \n",
       "</tr>\n",
       "<tr>\n",
       "     <td>Df Residuals:</td>          <td>64087</td>        <td>LLR p-value:</td>      <td>0.0000</td>  \n",
       "</tr>\n",
       "<tr>\n",
       "      <td>Converged:</td>           <td>1.0000</td>           <td>Scale:</td>         <td>1.0000</td>  \n",
       "</tr>\n",
       "<tr>\n",
       "    <td>No. Iterations:</td>        <td>8.0000</td>              <td></td>               <td></td>     \n",
       "</tr>\n",
       "</table>\n",
       "<table class=\"simpletable\">\n",
       "<tr>\n",
       "         <td></td>           <th>Coef.</th>  <th>Std.Err.</th>     <th>z</th>     <th>P>|z|</th>  <th>[0.025</th>   <th>0.975]</th> \n",
       "</tr>\n",
       "<tr>\n",
       "  <th>Intercept</th>        <td>3.2129</td>   <td>0.2522</td>   <td>12.7388</td> <td>0.0000</td>  <td>2.7186</td>   <td>3.7073</td> \n",
       "</tr>\n",
       "<tr>\n",
       "  <th>OrInterestRate</th>   <td>1.3191</td>   <td>0.2237</td>   <td>5.8973</td>  <td>0.0000</td>  <td>0.8807</td>   <td>1.7574</td> \n",
       "</tr>\n",
       "<tr>\n",
       "  <th>OrUnpaidPrinc</th>    <td>1.1876</td>   <td>0.1658</td>   <td>7.1640</td>  <td>0.0000</td>  <td>0.8627</td>   <td>1.5125</td> \n",
       "</tr>\n",
       "<tr>\n",
       "  <th>OrLoanTerm</th>       <td>1.1988</td>   <td>0.0963</td>   <td>12.4506</td> <td>0.0000</td>  <td>1.0101</td>   <td>1.3876</td> \n",
       "</tr>\n",
       "<tr>\n",
       "  <th>NumBorrow</th>       <td>-10.9958</td>  <td>0.3436</td>  <td>-32.0027</td> <td>0.0000</td> <td>-11.6693</td> <td>-10.3224</td>\n",
       "</tr>\n",
       "<tr>\n",
       "  <th>DTIRat</th>           <td>0.7860</td>   <td>0.1307</td>   <td>6.0142</td>  <td>0.0000</td>  <td>0.5299</td>   <td>1.0422</td> \n",
       "</tr>\n",
       "<tr>\n",
       "  <th>CreditScore</th>      <td>-1.0865</td>  <td>0.1291</td>   <td>-8.4162</td> <td>0.0000</td>  <td>-1.3395</td>  <td>-0.8335</td>\n",
       "</tr>\n",
       "<tr>\n",
       "  <th>MortInsPerc</th>      <td>3.2240</td>   <td>0.1687</td>   <td>19.1162</td> <td>0.0000</td>  <td>2.8935</td>   <td>3.5546</td> \n",
       "</tr>\n",
       "<tr>\n",
       "  <th>CoCreditScore</th>   <td>-11.5260</td>  <td>0.2294</td>  <td>-50.2486</td> <td>0.0000</td> <td>-11.9755</td> <td>-11.0764</td>\n",
       "</tr>\n",
       "<tr>\n",
       "  <th>Channel_C</th>        <td>-0.1313</td>  <td>0.0371</td>   <td>-3.5367</td> <td>0.0004</td>  <td>-0.2040</td>  <td>-0.0585</td>\n",
       "</tr>\n",
       "<tr>\n",
       "  <th>Channel_R</th>        <td>-0.3602</td>  <td>0.0382</td>   <td>-9.4253</td> <td>0.0000</td>  <td>-0.4351</td>  <td>-0.2853</td>\n",
       "</tr>\n",
       "<tr>\n",
       "  <th>FTHomeBuyer_Y</th>    <td>-0.2160</td>  <td>0.0615</td>   <td>-3.5107</td> <td>0.0004</td>  <td>-0.3366</td>  <td>-0.0954</td>\n",
       "</tr>\n",
       "<tr>\n",
       "  <th>LoanPurpose_R</th>    <td>0.1197</td>   <td>0.0360</td>   <td>3.3211</td>  <td>0.0009</td>  <td>0.0490</td>   <td>0.1903</td> \n",
       "</tr>\n",
       "<tr>\n",
       "  <th>PropertyType_CP</th>  <td>-0.1602</td>  <td>0.3069</td>   <td>-0.5219</td> <td>0.6017</td>  <td>-0.7618</td>  <td>0.4414</td> \n",
       "</tr>\n",
       "<tr>\n",
       "  <th>PropertyType_MH</th>  <td>0.8487</td>   <td>0.0961</td>   <td>8.8284</td>  <td>0.0000</td>  <td>0.6603</td>   <td>1.0371</td> \n",
       "</tr>\n",
       "<tr>\n",
       "  <th>PropertyType_PU</th>  <td>0.0909</td>   <td>0.0437</td>   <td>2.0794</td>  <td>0.0376</td>  <td>0.0052</td>   <td>0.1765</td> \n",
       "</tr>\n",
       "<tr>\n",
       "  <th>OccStatus_P</th>      <td>-1.2242</td>  <td>0.0476</td>  <td>-25.7315</td> <td>0.0000</td>  <td>-1.3175</td>  <td>-1.1310</td>\n",
       "</tr>\n",
       "<tr>\n",
       "  <th>OccStatus_S</th>      <td>-0.5624</td>  <td>0.0794</td>   <td>-7.0829</td> <td>0.0000</td>  <td>-0.7180</td>  <td>-0.4068</td>\n",
       "</tr>\n",
       "</table>"
      ],
      "text/plain": [
       "<class 'statsmodels.iolib.summary2.Summary'>\n",
       "\"\"\"\n",
       "                          Results: Logit\n",
       "===================================================================\n",
       "Model:                Logit            Pseudo R-squared: 0.186     \n",
       "Dependent Variable:   Default          AIC:              33067.4715\n",
       "Date:                 2020-02-23 17:38 BIC:              33230.7005\n",
       "No. Observations:     64105            Log-Likelihood:   -16516.   \n",
       "Df Model:             17               LL-Null:          -20295.   \n",
       "Df Residuals:         64087            LLR p-value:      0.0000    \n",
       "Converged:            1.0000           Scale:            1.0000    \n",
       "No. Iterations:       8.0000                                       \n",
       "-------------------------------------------------------------------\n",
       "                 Coef.   Std.Err.    z     P>|z|   [0.025   0.975] \n",
       "-------------------------------------------------------------------\n",
       "Intercept         3.2129   0.2522  12.7388 0.0000   2.7186   3.7073\n",
       "OrInterestRate    1.3191   0.2237   5.8973 0.0000   0.8807   1.7574\n",
       "OrUnpaidPrinc     1.1876   0.1658   7.1640 0.0000   0.8627   1.5125\n",
       "OrLoanTerm        1.1988   0.0963  12.4506 0.0000   1.0101   1.3876\n",
       "NumBorrow       -10.9958   0.3436 -32.0027 0.0000 -11.6693 -10.3224\n",
       "DTIRat            0.7860   0.1307   6.0142 0.0000   0.5299   1.0422\n",
       "CreditScore      -1.0865   0.1291  -8.4162 0.0000  -1.3395  -0.8335\n",
       "MortInsPerc       3.2240   0.1687  19.1162 0.0000   2.8935   3.5546\n",
       "CoCreditScore   -11.5260   0.2294 -50.2486 0.0000 -11.9755 -11.0764\n",
       "Channel_C        -0.1313   0.0371  -3.5367 0.0004  -0.2040  -0.0585\n",
       "Channel_R        -0.3602   0.0382  -9.4253 0.0000  -0.4351  -0.2853\n",
       "FTHomeBuyer_Y    -0.2160   0.0615  -3.5107 0.0004  -0.3366  -0.0954\n",
       "LoanPurpose_R     0.1197   0.0360   3.3211 0.0009   0.0490   0.1903\n",
       "PropertyType_CP  -0.1602   0.3069  -0.5219 0.6017  -0.7618   0.4414\n",
       "PropertyType_MH   0.8487   0.0961   8.8284 0.0000   0.6603   1.0371\n",
       "PropertyType_PU   0.0909   0.0437   2.0794 0.0376   0.0052   0.1765\n",
       "OccStatus_P      -1.2242   0.0476 -25.7315 0.0000  -1.3175  -1.1310\n",
       "OccStatus_S      -0.5624   0.0794  -7.0829 0.0000  -0.7180  -0.4068\n",
       "===================================================================\n",
       "\n",
       "\"\"\""
      ]
     },
     "execution_count": 112,
     "metadata": {},
     "output_type": "execute_result"
    }
   ],
   "source": [
    "import statsmodels.formula.api as sm\n",
    "model=sm.logit(formula=\"Default~OrInterestRate+OrUnpaidPrinc+OrLoanTerm+NumBorrow+DTIRat+CreditScore+MortInsPerc+CoCreditScore+Channel_C+ Channel_R+ FTHomeBuyer_Y+LoanPurpose_R+PropertyType_CP+PropertyType_MH+PropertyType_PU+OccStatus_P+ OccStatus_S\",data=train2).fit()\n",
    "model.summary2()"
   ]
  },
  {
   "cell_type": "code",
   "execution_count": 113,
   "metadata": {},
   "outputs": [],
   "source": [
    "train2[\"pred\"]=model.predict()"
   ]
  },
  {
   "cell_type": "code",
   "execution_count": 114,
   "metadata": {},
   "outputs": [],
   "source": [
    "train2[\"pred_flag\"]=np.where(train2[\"pred\"]>=0.5,1,0)"
   ]
  },
  {
   "cell_type": "code",
   "execution_count": 115,
   "metadata": {},
   "outputs": [
    {
     "data": {
      "text/plain": [
       "0    63428\n",
       "1      677\n",
       "Name: pred_flag, dtype: int64"
      ]
     },
     "execution_count": 115,
     "metadata": {},
     "output_type": "execute_result"
    }
   ],
   "source": [
    "train2[\"pred_flag\"].value_counts()"
   ]
  },
  {
   "cell_type": "code",
   "execution_count": 116,
   "metadata": {},
   "outputs": [
    {
     "data": {
      "text/plain": [
       "0.9020045238280945"
      ]
     },
     "execution_count": 116,
     "metadata": {},
     "output_type": "execute_result"
    }
   ],
   "source": [
    "from sklearn.metrics import accuracy_score\n",
    "accuracy_score(train2[\"Default\"],train2[\"pred_flag\"])"
   ]
  },
  {
   "cell_type": "code",
   "execution_count": 117,
   "metadata": {},
   "outputs": [],
   "source": [
    "train3=train2.drop([\"PropertyType_CP\"],axis=1)\n"
   ]
  },
  {
   "cell_type": "code",
   "execution_count": 118,
   "metadata": {},
   "outputs": [
    {
     "name": "stdout",
     "output_type": "stream",
     "text": [
      "Optimization terminated successfully.\n",
      "         Current function value: 0.257638\n",
      "         Iterations 8\n"
     ]
    },
    {
     "data": {
      "text/html": [
       "<table class=\"simpletable\">\n",
       "<tr>\n",
       "        <td>Model:</td>              <td>Logit</td>      <td>Pseudo R-squared:</td>    <td>0.186</td>  \n",
       "</tr>\n",
       "<tr>\n",
       "  <td>Dependent Variable:</td>      <td>Default</td>           <td>AIC:</td>        <td>33065.7555</td>\n",
       "</tr>\n",
       "<tr>\n",
       "         <td>Date:</td>        <td>2020-02-23 17:38</td>       <td>BIC:</td>        <td>33219.9162</td>\n",
       "</tr>\n",
       "<tr>\n",
       "   <td>No. Observations:</td>        <td>64105</td>       <td>Log-Likelihood:</td>    <td>-16516.</td> \n",
       "</tr>\n",
       "<tr>\n",
       "       <td>Df Model:</td>             <td>16</td>            <td>LL-Null:</td>        <td>-20295.</td> \n",
       "</tr>\n",
       "<tr>\n",
       "     <td>Df Residuals:</td>          <td>64088</td>        <td>LLR p-value:</td>      <td>0.0000</td>  \n",
       "</tr>\n",
       "<tr>\n",
       "      <td>Converged:</td>           <td>1.0000</td>           <td>Scale:</td>         <td>1.0000</td>  \n",
       "</tr>\n",
       "<tr>\n",
       "    <td>No. Iterations:</td>        <td>8.0000</td>              <td></td>               <td></td>     \n",
       "</tr>\n",
       "</table>\n",
       "<table class=\"simpletable\">\n",
       "<tr>\n",
       "         <td></td>           <th>Coef.</th>  <th>Std.Err.</th>     <th>z</th>     <th>P>|z|</th>  <th>[0.025</th>   <th>0.975]</th> \n",
       "</tr>\n",
       "<tr>\n",
       "  <th>Intercept</th>        <td>3.2148</td>   <td>0.2522</td>   <td>12.7473</td> <td>0.0000</td>  <td>2.7205</td>   <td>3.7091</td> \n",
       "</tr>\n",
       "<tr>\n",
       "  <th>OrInterestRate</th>   <td>1.3177</td>   <td>0.2237</td>   <td>5.8915</td>  <td>0.0000</td>  <td>0.8793</td>   <td>1.7560</td> \n",
       "</tr>\n",
       "<tr>\n",
       "  <th>OrUnpaidPrinc</th>    <td>1.1877</td>   <td>0.1658</td>   <td>7.1650</td>  <td>0.0000</td>  <td>0.8628</td>   <td>1.5126</td> \n",
       "</tr>\n",
       "<tr>\n",
       "  <th>OrLoanTerm</th>       <td>1.1987</td>   <td>0.0963</td>   <td>12.4492</td> <td>0.0000</td>  <td>1.0100</td>   <td>1.3874</td> \n",
       "</tr>\n",
       "<tr>\n",
       "  <th>NumBorrow</th>       <td>-10.9961</td>  <td>0.3436</td>  <td>-32.0017</td> <td>0.0000</td> <td>-11.6696</td> <td>-10.3226</td>\n",
       "</tr>\n",
       "<tr>\n",
       "  <th>DTIRat</th>           <td>0.7861</td>   <td>0.1307</td>   <td>6.0148</td>  <td>0.0000</td>  <td>0.5300</td>   <td>1.0423</td> \n",
       "</tr>\n",
       "<tr>\n",
       "  <th>CreditScore</th>      <td>-1.0876</td>  <td>0.1291</td>   <td>-8.4262</td> <td>0.0000</td>  <td>-1.3406</td>  <td>-0.8347</td>\n",
       "</tr>\n",
       "<tr>\n",
       "  <th>MortInsPerc</th>      <td>3.2253</td>   <td>0.1686</td>   <td>19.1251</td> <td>0.0000</td>  <td>2.8947</td>   <td>3.5558</td> \n",
       "</tr>\n",
       "<tr>\n",
       "  <th>CoCreditScore</th>   <td>-11.5281</td>  <td>0.2294</td>  <td>-50.2639</td> <td>0.0000</td> <td>-11.9776</td> <td>-11.0785</td>\n",
       "</tr>\n",
       "<tr>\n",
       "  <th>Channel_C</th>        <td>-0.1307</td>  <td>0.0371</td>   <td>-3.5238</td> <td>0.0004</td>  <td>-0.2034</td>  <td>-0.0580</td>\n",
       "</tr>\n",
       "<tr>\n",
       "  <th>Channel_R</th>        <td>-0.3602</td>  <td>0.0382</td>   <td>-9.4243</td> <td>0.0000</td>  <td>-0.4351</td>  <td>-0.2853</td>\n",
       "</tr>\n",
       "<tr>\n",
       "  <th>FTHomeBuyer_Y</th>    <td>-0.2182</td>  <td>0.0614</td>   <td>-3.5527</td> <td>0.0004</td>  <td>-0.3385</td>  <td>-0.0978</td>\n",
       "</tr>\n",
       "<tr>\n",
       "  <th>LoanPurpose_R</th>    <td>0.1199</td>   <td>0.0360</td>   <td>3.3267</td>  <td>0.0009</td>  <td>0.0492</td>   <td>0.1905</td> \n",
       "</tr>\n",
       "<tr>\n",
       "  <th>PropertyType_MH</th>  <td>0.8496</td>   <td>0.0961</td>   <td>8.8388</td>  <td>0.0000</td>  <td>0.6612</td>   <td>1.0379</td> \n",
       "</tr>\n",
       "<tr>\n",
       "  <th>PropertyType_PU</th>  <td>0.0914</td>   <td>0.0437</td>   <td>2.0920</td>  <td>0.0364</td>  <td>0.0058</td>   <td>0.1770</td> \n",
       "</tr>\n",
       "<tr>\n",
       "  <th>OccStatus_P</th>      <td>-1.2249</td>  <td>0.0476</td>  <td>-25.7553</td> <td>0.0000</td>  <td>-1.3181</td>  <td>-1.1317</td>\n",
       "</tr>\n",
       "<tr>\n",
       "  <th>OccStatus_S</th>      <td>-0.5630</td>  <td>0.0794</td>   <td>-7.0908</td> <td>0.0000</td>  <td>-0.7186</td>  <td>-0.4074</td>\n",
       "</tr>\n",
       "</table>"
      ],
      "text/plain": [
       "<class 'statsmodels.iolib.summary2.Summary'>\n",
       "\"\"\"\n",
       "                          Results: Logit\n",
       "===================================================================\n",
       "Model:                Logit            Pseudo R-squared: 0.186     \n",
       "Dependent Variable:   Default          AIC:              33065.7555\n",
       "Date:                 2020-02-23 17:38 BIC:              33219.9162\n",
       "No. Observations:     64105            Log-Likelihood:   -16516.   \n",
       "Df Model:             16               LL-Null:          -20295.   \n",
       "Df Residuals:         64088            LLR p-value:      0.0000    \n",
       "Converged:            1.0000           Scale:            1.0000    \n",
       "No. Iterations:       8.0000                                       \n",
       "-------------------------------------------------------------------\n",
       "                 Coef.   Std.Err.    z     P>|z|   [0.025   0.975] \n",
       "-------------------------------------------------------------------\n",
       "Intercept         3.2148   0.2522  12.7473 0.0000   2.7205   3.7091\n",
       "OrInterestRate    1.3177   0.2237   5.8915 0.0000   0.8793   1.7560\n",
       "OrUnpaidPrinc     1.1877   0.1658   7.1650 0.0000   0.8628   1.5126\n",
       "OrLoanTerm        1.1987   0.0963  12.4492 0.0000   1.0100   1.3874\n",
       "NumBorrow       -10.9961   0.3436 -32.0017 0.0000 -11.6696 -10.3226\n",
       "DTIRat            0.7861   0.1307   6.0148 0.0000   0.5300   1.0423\n",
       "CreditScore      -1.0876   0.1291  -8.4262 0.0000  -1.3406  -0.8347\n",
       "MortInsPerc       3.2253   0.1686  19.1251 0.0000   2.8947   3.5558\n",
       "CoCreditScore   -11.5281   0.2294 -50.2639 0.0000 -11.9776 -11.0785\n",
       "Channel_C        -0.1307   0.0371  -3.5238 0.0004  -0.2034  -0.0580\n",
       "Channel_R        -0.3602   0.0382  -9.4243 0.0000  -0.4351  -0.2853\n",
       "FTHomeBuyer_Y    -0.2182   0.0614  -3.5527 0.0004  -0.3385  -0.0978\n",
       "LoanPurpose_R     0.1199   0.0360   3.3267 0.0009   0.0492   0.1905\n",
       "PropertyType_MH   0.8496   0.0961   8.8388 0.0000   0.6612   1.0379\n",
       "PropertyType_PU   0.0914   0.0437   2.0920 0.0364   0.0058   0.1770\n",
       "OccStatus_P      -1.2249   0.0476 -25.7553 0.0000  -1.3181  -1.1317\n",
       "OccStatus_S      -0.5630   0.0794  -7.0908 0.0000  -0.7186  -0.4074\n",
       "===================================================================\n",
       "\n",
       "\"\"\""
      ]
     },
     "execution_count": 118,
     "metadata": {},
     "output_type": "execute_result"
    }
   ],
   "source": [
    "import statsmodels.formula.api as sm\n",
    "model=sm.logit(formula=\"Default~OrInterestRate+OrUnpaidPrinc+OrLoanTerm+NumBorrow+DTIRat+CreditScore+MortInsPerc+CoCreditScore+Channel_C+ Channel_R+ FTHomeBuyer_Y+LoanPurpose_R+PropertyType_MH+PropertyType_PU+OccStatus_P+ OccStatus_S\",data=train3).fit()\n",
    "model.summary2()"
   ]
  },
  {
   "cell_type": "code",
   "execution_count": 119,
   "metadata": {},
   "outputs": [
    {
     "data": {
      "text/plain": [
       "0.9020045238280945"
      ]
     },
     "execution_count": 119,
     "metadata": {},
     "output_type": "execute_result"
    }
   ],
   "source": [
    "train3[\"pred\"]=model.predict()\n",
    "train3[\"pred_flag\"]=np.where(train3[\"pred\"]>=0.5,1,0)\n",
    "from sklearn.metrics import accuracy_score\n",
    "accuracy_score(train3[\"Default\"],train3[\"pred_flag\"])"
   ]
  },
  {
   "cell_type": "code",
   "execution_count": 120,
   "metadata": {},
   "outputs": [],
   "source": [
    "train4=train3.drop([\"PropertyType_MH\"],axis=1)\n"
   ]
  },
  {
   "cell_type": "code",
   "execution_count": 121,
   "metadata": {},
   "outputs": [
    {
     "name": "stdout",
     "output_type": "stream",
     "text": [
      "Optimization terminated successfully.\n",
      "         Current function value: 0.258170\n",
      "         Iterations 8\n"
     ]
    },
    {
     "data": {
      "text/html": [
       "<table class=\"simpletable\">\n",
       "<tr>\n",
       "        <td>Model:</td>              <td>Logit</td>      <td>Pseudo R-squared:</td>    <td>0.185</td>  \n",
       "</tr>\n",
       "<tr>\n",
       "  <td>Dependent Variable:</td>      <td>Default</td>           <td>AIC:</td>        <td>33131.9165</td>\n",
       "</tr>\n",
       "<tr>\n",
       "         <td>Date:</td>        <td>2020-02-23 17:38</td>       <td>BIC:</td>        <td>33277.0090</td>\n",
       "</tr>\n",
       "<tr>\n",
       "   <td>No. Observations:</td>        <td>64105</td>       <td>Log-Likelihood:</td>    <td>-16550.</td> \n",
       "</tr>\n",
       "<tr>\n",
       "       <td>Df Model:</td>             <td>15</td>            <td>LL-Null:</td>        <td>-20295.</td> \n",
       "</tr>\n",
       "<tr>\n",
       "     <td>Df Residuals:</td>          <td>64089</td>        <td>LLR p-value:</td>      <td>0.0000</td>  \n",
       "</tr>\n",
       "<tr>\n",
       "      <td>Converged:</td>           <td>1.0000</td>           <td>Scale:</td>         <td>1.0000</td>  \n",
       "</tr>\n",
       "<tr>\n",
       "    <td>No. Iterations:</td>        <td>8.0000</td>              <td></td>               <td></td>     \n",
       "</tr>\n",
       "</table>\n",
       "<table class=\"simpletable\">\n",
       "<tr>\n",
       "         <td></td>           <th>Coef.</th>  <th>Std.Err.</th>     <th>z</th>     <th>P>|z|</th>  <th>[0.025</th>   <th>0.975]</th> \n",
       "</tr>\n",
       "<tr>\n",
       "  <th>Intercept</th>        <td>3.1213</td>   <td>0.2519</td>   <td>12.3902</td> <td>0.0000</td>  <td>2.6276</td>   <td>3.6151</td> \n",
       "</tr>\n",
       "<tr>\n",
       "  <th>OrInterestRate</th>   <td>1.5337</td>   <td>0.2223</td>   <td>6.8986</td>  <td>0.0000</td>  <td>1.0980</td>   <td>1.9695</td> \n",
       "</tr>\n",
       "<tr>\n",
       "  <th>OrUnpaidPrinc</th>    <td>1.1001</td>   <td>0.1651</td>   <td>6.6644</td>  <td>0.0000</td>  <td>0.7766</td>   <td>1.4237</td> \n",
       "</tr>\n",
       "<tr>\n",
       "  <th>OrLoanTerm</th>       <td>1.1177</td>   <td>0.0952</td>   <td>11.7428</td> <td>0.0000</td>  <td>0.9312</td>   <td>1.3043</td> \n",
       "</tr>\n",
       "<tr>\n",
       "  <th>NumBorrow</th>       <td>-10.8544</td>  <td>0.3424</td>  <td>-31.7017</td> <td>0.0000</td> <td>-11.5255</td> <td>-10.1833</td>\n",
       "</tr>\n",
       "<tr>\n",
       "  <th>DTIRat</th>           <td>0.7927</td>   <td>0.1305</td>   <td>6.0730</td>  <td>0.0000</td>  <td>0.5369</td>   <td>1.0485</td> \n",
       "</tr>\n",
       "<tr>\n",
       "  <th>CreditScore</th>      <td>-1.0420</td>  <td>0.1288</td>   <td>-8.0897</td> <td>0.0000</td>  <td>-1.2945</td>  <td>-0.7896</td>\n",
       "</tr>\n",
       "<tr>\n",
       "  <th>MortInsPerc</th>      <td>3.2126</td>   <td>0.1686</td>   <td>19.0504</td> <td>0.0000</td>  <td>2.8821</td>   <td>3.5432</td> \n",
       "</tr>\n",
       "<tr>\n",
       "  <th>CoCreditScore</th>   <td>-11.4692</td>  <td>0.2288</td>  <td>-50.1306</td> <td>0.0000</td> <td>-11.9177</td> <td>-11.0208</td>\n",
       "</tr>\n",
       "<tr>\n",
       "  <th>Channel_C</th>        <td>-0.1623</td>  <td>0.0368</td>   <td>-4.4041</td> <td>0.0000</td>  <td>-0.2345</td>  <td>-0.0900</td>\n",
       "</tr>\n",
       "<tr>\n",
       "  <th>Channel_R</th>        <td>-0.3698</td>  <td>0.0382</td>   <td>-9.6848</td> <td>0.0000</td>  <td>-0.4446</td>  <td>-0.2949</td>\n",
       "</tr>\n",
       "<tr>\n",
       "  <th>FTHomeBuyer_Y</th>    <td>-0.2009</td>  <td>0.0613</td>   <td>-3.2792</td> <td>0.0010</td>  <td>-0.3209</td>  <td>-0.0808</td>\n",
       "</tr>\n",
       "<tr>\n",
       "  <th>LoanPurpose_R</th>    <td>0.1318</td>   <td>0.0360</td>   <td>3.6650</td>  <td>0.0002</td>  <td>0.0613</td>   <td>0.2023</td> \n",
       "</tr>\n",
       "<tr>\n",
       "  <th>PropertyType_PU</th>  <td>0.0794</td>   <td>0.0436</td>   <td>1.8199</td>  <td>0.0688</td>  <td>-0.0061</td>  <td>0.1648</td> \n",
       "</tr>\n",
       "<tr>\n",
       "  <th>OccStatus_P</th>      <td>-1.1758</td>  <td>0.0472</td>  <td>-24.9294</td> <td>0.0000</td>  <td>-1.2683</td>  <td>-1.0834</td>\n",
       "</tr>\n",
       "<tr>\n",
       "  <th>OccStatus_S</th>      <td>-0.5011</td>  <td>0.0789</td>   <td>-6.3468</td> <td>0.0000</td>  <td>-0.6558</td>  <td>-0.3463</td>\n",
       "</tr>\n",
       "</table>"
      ],
      "text/plain": [
       "<class 'statsmodels.iolib.summary2.Summary'>\n",
       "\"\"\"\n",
       "                          Results: Logit\n",
       "===================================================================\n",
       "Model:                Logit            Pseudo R-squared: 0.185     \n",
       "Dependent Variable:   Default          AIC:              33131.9165\n",
       "Date:                 2020-02-23 17:38 BIC:              33277.0090\n",
       "No. Observations:     64105            Log-Likelihood:   -16550.   \n",
       "Df Model:             15               LL-Null:          -20295.   \n",
       "Df Residuals:         64089            LLR p-value:      0.0000    \n",
       "Converged:            1.0000           Scale:            1.0000    \n",
       "No. Iterations:       8.0000                                       \n",
       "-------------------------------------------------------------------\n",
       "                 Coef.   Std.Err.    z     P>|z|   [0.025   0.975] \n",
       "-------------------------------------------------------------------\n",
       "Intercept         3.1213   0.2519  12.3902 0.0000   2.6276   3.6151\n",
       "OrInterestRate    1.5337   0.2223   6.8986 0.0000   1.0980   1.9695\n",
       "OrUnpaidPrinc     1.1001   0.1651   6.6644 0.0000   0.7766   1.4237\n",
       "OrLoanTerm        1.1177   0.0952  11.7428 0.0000   0.9312   1.3043\n",
       "NumBorrow       -10.8544   0.3424 -31.7017 0.0000 -11.5255 -10.1833\n",
       "DTIRat            0.7927   0.1305   6.0730 0.0000   0.5369   1.0485\n",
       "CreditScore      -1.0420   0.1288  -8.0897 0.0000  -1.2945  -0.7896\n",
       "MortInsPerc       3.2126   0.1686  19.0504 0.0000   2.8821   3.5432\n",
       "CoCreditScore   -11.4692   0.2288 -50.1306 0.0000 -11.9177 -11.0208\n",
       "Channel_C        -0.1623   0.0368  -4.4041 0.0000  -0.2345  -0.0900\n",
       "Channel_R        -0.3698   0.0382  -9.6848 0.0000  -0.4446  -0.2949\n",
       "FTHomeBuyer_Y    -0.2009   0.0613  -3.2792 0.0010  -0.3209  -0.0808\n",
       "LoanPurpose_R     0.1318   0.0360   3.6650 0.0002   0.0613   0.2023\n",
       "PropertyType_PU   0.0794   0.0436   1.8199 0.0688  -0.0061   0.1648\n",
       "OccStatus_P      -1.1758   0.0472 -24.9294 0.0000  -1.2683  -1.0834\n",
       "OccStatus_S      -0.5011   0.0789  -6.3468 0.0000  -0.6558  -0.3463\n",
       "===================================================================\n",
       "\n",
       "\"\"\""
      ]
     },
     "execution_count": 121,
     "metadata": {},
     "output_type": "execute_result"
    }
   ],
   "source": [
    "import statsmodels.formula.api as sm\n",
    "model=sm.logit(formula=\"Default~OrInterestRate+OrUnpaidPrinc+OrLoanTerm+NumBorrow+DTIRat+CreditScore+MortInsPerc+CoCreditScore+Channel_C+ Channel_R+ FTHomeBuyer_Y+LoanPurpose_R+PropertyType_PU+OccStatus_P+ OccStatus_S\",data=train4).fit()\n",
    "model.summary2()"
   ]
  },
  {
   "cell_type": "code",
   "execution_count": 122,
   "metadata": {},
   "outputs": [
    {
     "data": {
      "text/plain": [
       "0.9020357226425396"
      ]
     },
     "execution_count": 122,
     "metadata": {},
     "output_type": "execute_result"
    }
   ],
   "source": [
    "train4[\"pred\"]=model.predict()\n",
    "train4[\"pred_flag\"]=np.where(train4[\"pred\"]>=0.5,1,0)\n",
    "from sklearn.metrics import accuracy_score\n",
    "accuracy_score(train4[\"Default\"],train4[\"pred_flag\"])"
   ]
  },
  {
   "cell_type": "code",
   "execution_count": 123,
   "metadata": {},
   "outputs": [],
   "source": [
    "train5=train4.drop([\"CreditScore\"],axis=1)"
   ]
  },
  {
   "cell_type": "code",
   "execution_count": 124,
   "metadata": {},
   "outputs": [
    {
     "name": "stdout",
     "output_type": "stream",
     "text": [
      "Optimization terminated successfully.\n",
      "         Current function value: 0.258681\n",
      "         Iterations 8\n"
     ]
    },
    {
     "data": {
      "text/html": [
       "<table class=\"simpletable\">\n",
       "<tr>\n",
       "        <td>Model:</td>              <td>Logit</td>      <td>Pseudo R-squared:</td>    <td>0.183</td>  \n",
       "</tr>\n",
       "<tr>\n",
       "  <td>Dependent Variable:</td>      <td>Default</td>           <td>AIC:</td>        <td>33195.4814</td>\n",
       "</tr>\n",
       "<tr>\n",
       "         <td>Date:</td>        <td>2020-02-23 17:38</td>       <td>BIC:</td>        <td>33331.5055</td>\n",
       "</tr>\n",
       "<tr>\n",
       "   <td>No. Observations:</td>        <td>64105</td>       <td>Log-Likelihood:</td>    <td>-16583.</td> \n",
       "</tr>\n",
       "<tr>\n",
       "       <td>Df Model:</td>             <td>14</td>            <td>LL-Null:</td>        <td>-20295.</td> \n",
       "</tr>\n",
       "<tr>\n",
       "     <td>Df Residuals:</td>          <td>64090</td>        <td>LLR p-value:</td>      <td>0.0000</td>  \n",
       "</tr>\n",
       "<tr>\n",
       "      <td>Converged:</td>           <td>1.0000</td>           <td>Scale:</td>         <td>1.0000</td>  \n",
       "</tr>\n",
       "<tr>\n",
       "    <td>No. Iterations:</td>        <td>8.0000</td>              <td></td>               <td></td>     \n",
       "</tr>\n",
       "</table>\n",
       "<table class=\"simpletable\">\n",
       "<tr>\n",
       "         <td></td>           <th>Coef.</th>  <th>Std.Err.</th>     <th>z</th>     <th>P>|z|</th>  <th>[0.025</th>   <th>0.975]</th> \n",
       "</tr>\n",
       "<tr>\n",
       "  <th>Intercept</th>        <td>2.7882</td>   <td>0.2484</td>   <td>11.2241</td> <td>0.0000</td>  <td>2.3014</td>   <td>3.2751</td> \n",
       "</tr>\n",
       "<tr>\n",
       "  <th>OrInterestRate</th>   <td>1.8659</td>   <td>0.2192</td>   <td>8.5127</td>  <td>0.0000</td>  <td>1.4363</td>   <td>2.2955</td> \n",
       "</tr>\n",
       "<tr>\n",
       "  <th>OrUnpaidPrinc</th>    <td>1.0807</td>   <td>0.1650</td>   <td>6.5511</td>  <td>0.0000</td>  <td>0.7574</td>   <td>1.4040</td> \n",
       "</tr>\n",
       "<tr>\n",
       "  <th>OrLoanTerm</th>       <td>1.1218</td>   <td>0.0953</td>   <td>11.7663</td> <td>0.0000</td>  <td>0.9349</td>   <td>1.3087</td> \n",
       "</tr>\n",
       "<tr>\n",
       "  <th>NumBorrow</th>       <td>-10.9006</td>  <td>0.3417</td>  <td>-31.9009</td> <td>0.0000</td> <td>-11.5703</td> <td>-10.2308</td>\n",
       "</tr>\n",
       "<tr>\n",
       "  <th>DTIRat</th>           <td>0.7788</td>   <td>0.1303</td>   <td>5.9772</td>  <td>0.0000</td>  <td>0.5234</td>   <td>1.0342</td> \n",
       "</tr>\n",
       "<tr>\n",
       "  <th>MortInsPerc</th>      <td>3.0090</td>   <td>0.1665</td>   <td>18.0755</td> <td>0.0000</td>  <td>2.6828</td>   <td>3.3353</td> \n",
       "</tr>\n",
       "<tr>\n",
       "  <th>CoCreditScore</th>   <td>-12.0619</td>  <td>0.2168</td>  <td>-55.6247</td> <td>0.0000</td> <td>-12.4869</td> <td>-11.6369</td>\n",
       "</tr>\n",
       "<tr>\n",
       "  <th>Channel_C</th>        <td>-0.1693</td>  <td>0.0368</td>   <td>-4.5983</td> <td>0.0000</td>  <td>-0.2415</td>  <td>-0.0972</td>\n",
       "</tr>\n",
       "<tr>\n",
       "  <th>Channel_R</th>        <td>-0.3753</td>  <td>0.0382</td>   <td>-9.8345</td> <td>0.0000</td>  <td>-0.4501</td>  <td>-0.3005</td>\n",
       "</tr>\n",
       "<tr>\n",
       "  <th>FTHomeBuyer_Y</th>    <td>-0.2063</td>  <td>0.0612</td>   <td>-3.3713</td> <td>0.0007</td>  <td>-0.3262</td>  <td>-0.0864</td>\n",
       "</tr>\n",
       "<tr>\n",
       "  <th>LoanPurpose_R</th>    <td>0.1401</td>   <td>0.0359</td>   <td>3.8997</td>  <td>0.0001</td>  <td>0.0697</td>   <td>0.2106</td> \n",
       "</tr>\n",
       "<tr>\n",
       "  <th>PropertyType_PU</th>  <td>0.0798</td>   <td>0.0436</td>   <td>1.8323</td>  <td>0.0669</td>  <td>-0.0056</td>  <td>0.1653</td> \n",
       "</tr>\n",
       "<tr>\n",
       "  <th>OccStatus_P</th>      <td>-1.1136</td>  <td>0.0465</td>  <td>-23.9609</td> <td>0.0000</td>  <td>-1.2047</td>  <td>-1.0226</td>\n",
       "</tr>\n",
       "<tr>\n",
       "  <th>OccStatus_S</th>      <td>-0.4629</td>  <td>0.0788</td>   <td>-5.8782</td> <td>0.0000</td>  <td>-0.6173</td>  <td>-0.3086</td>\n",
       "</tr>\n",
       "</table>"
      ],
      "text/plain": [
       "<class 'statsmodels.iolib.summary2.Summary'>\n",
       "\"\"\"\n",
       "                          Results: Logit\n",
       "===================================================================\n",
       "Model:                Logit            Pseudo R-squared: 0.183     \n",
       "Dependent Variable:   Default          AIC:              33195.4814\n",
       "Date:                 2020-02-23 17:38 BIC:              33331.5055\n",
       "No. Observations:     64105            Log-Likelihood:   -16583.   \n",
       "Df Model:             14               LL-Null:          -20295.   \n",
       "Df Residuals:         64090            LLR p-value:      0.0000    \n",
       "Converged:            1.0000           Scale:            1.0000    \n",
       "No. Iterations:       8.0000                                       \n",
       "-------------------------------------------------------------------\n",
       "                 Coef.   Std.Err.    z     P>|z|   [0.025   0.975] \n",
       "-------------------------------------------------------------------\n",
       "Intercept         2.7882   0.2484  11.2241 0.0000   2.3014   3.2751\n",
       "OrInterestRate    1.8659   0.2192   8.5127 0.0000   1.4363   2.2955\n",
       "OrUnpaidPrinc     1.0807   0.1650   6.5511 0.0000   0.7574   1.4040\n",
       "OrLoanTerm        1.1218   0.0953  11.7663 0.0000   0.9349   1.3087\n",
       "NumBorrow       -10.9006   0.3417 -31.9009 0.0000 -11.5703 -10.2308\n",
       "DTIRat            0.7788   0.1303   5.9772 0.0000   0.5234   1.0342\n",
       "MortInsPerc       3.0090   0.1665  18.0755 0.0000   2.6828   3.3353\n",
       "CoCreditScore   -12.0619   0.2168 -55.6247 0.0000 -12.4869 -11.6369\n",
       "Channel_C        -0.1693   0.0368  -4.5983 0.0000  -0.2415  -0.0972\n",
       "Channel_R        -0.3753   0.0382  -9.8345 0.0000  -0.4501  -0.3005\n",
       "FTHomeBuyer_Y    -0.2063   0.0612  -3.3713 0.0007  -0.3262  -0.0864\n",
       "LoanPurpose_R     0.1401   0.0359   3.8997 0.0001   0.0697   0.2106\n",
       "PropertyType_PU   0.0798   0.0436   1.8323 0.0669  -0.0056   0.1653\n",
       "OccStatus_P      -1.1136   0.0465 -23.9609 0.0000  -1.2047  -1.0226\n",
       "OccStatus_S      -0.4629   0.0788  -5.8782 0.0000  -0.6173  -0.3086\n",
       "===================================================================\n",
       "\n",
       "\"\"\""
      ]
     },
     "execution_count": 124,
     "metadata": {},
     "output_type": "execute_result"
    }
   ],
   "source": [
    "import statsmodels.formula.api as sm\n",
    "model=sm.logit(formula=\"Default~OrInterestRate+OrUnpaidPrinc+OrLoanTerm+NumBorrow+DTIRat+MortInsPerc+CoCreditScore+Channel_C+ Channel_R+ FTHomeBuyer_Y+LoanPurpose_R+PropertyType_PU+OccStatus_P+ OccStatus_S\",data=train5).fit()\n",
    "model.summary2()"
   ]
  },
  {
   "cell_type": "code",
   "execution_count": 125,
   "metadata": {},
   "outputs": [
    {
     "data": {
      "text/plain": [
       "0.902254114343655"
      ]
     },
     "execution_count": 125,
     "metadata": {},
     "output_type": "execute_result"
    }
   ],
   "source": [
    "train5[\"pred\"]=model.predict()\n",
    "train5[\"pred_flag\"]=np.where(train5[\"pred\"]>=0.5,1,0)\n",
    "from sklearn.metrics import accuracy_score\n",
    "accuracy_score(train5[\"Default\"],train5[\"pred_flag\"])"
   ]
  },
  {
   "cell_type": "code",
   "execution_count": 126,
   "metadata": {},
   "outputs": [],
   "source": [
    "train6=train5.drop([\"OrLoanTerm\"],axis=1)\n"
   ]
  },
  {
   "cell_type": "code",
   "execution_count": 127,
   "metadata": {},
   "outputs": [
    {
     "name": "stdout",
     "output_type": "stream",
     "text": [
      "Optimization terminated successfully.\n",
      "         Current function value: 0.259846\n",
      "         Iterations 8\n"
     ]
    },
    {
     "data": {
      "text/html": [
       "<table class=\"simpletable\">\n",
       "<tr>\n",
       "        <td>Model:</td>              <td>Logit</td>      <td>Pseudo R-squared:</td>    <td>0.179</td>  \n",
       "</tr>\n",
       "<tr>\n",
       "  <td>Dependent Variable:</td>      <td>Default</td>           <td>AIC:</td>        <td>33342.9072</td>\n",
       "</tr>\n",
       "<tr>\n",
       "         <td>Date:</td>        <td>2020-02-23 17:38</td>       <td>BIC:</td>        <td>33469.8631</td>\n",
       "</tr>\n",
       "<tr>\n",
       "   <td>No. Observations:</td>        <td>64105</td>       <td>Log-Likelihood:</td>    <td>-16657.</td> \n",
       "</tr>\n",
       "<tr>\n",
       "       <td>Df Model:</td>             <td>13</td>            <td>LL-Null:</td>        <td>-20295.</td> \n",
       "</tr>\n",
       "<tr>\n",
       "     <td>Df Residuals:</td>          <td>64091</td>        <td>LLR p-value:</td>      <td>0.0000</td>  \n",
       "</tr>\n",
       "<tr>\n",
       "      <td>Converged:</td>           <td>1.0000</td>           <td>Scale:</td>         <td>1.0000</td>  \n",
       "</tr>\n",
       "<tr>\n",
       "    <td>No. Iterations:</td>        <td>8.0000</td>              <td></td>               <td></td>     \n",
       "</tr>\n",
       "</table>\n",
       "<table class=\"simpletable\">\n",
       "<tr>\n",
       "         <td></td>           <th>Coef.</th>  <th>Std.Err.</th>     <th>z</th>     <th>P>|z|</th>  <th>[0.025</th>   <th>0.975]</th> \n",
       "</tr>\n",
       "<tr>\n",
       "  <th>Intercept</th>        <td>2.7429</td>   <td>0.2467</td>   <td>11.1201</td> <td>0.0000</td>  <td>2.2595</td>   <td>3.2264</td> \n",
       "</tr>\n",
       "<tr>\n",
       "  <th>OrInterestRate</th>   <td>2.2593</td>   <td>0.2139</td>   <td>10.5609</td> <td>0.0000</td>  <td>1.8400</td>   <td>2.6785</td> \n",
       "</tr>\n",
       "<tr>\n",
       "  <th>OrUnpaidPrinc</th>    <td>1.2295</td>   <td>0.1602</td>   <td>7.6726</td>  <td>0.0000</td>  <td>0.9154</td>   <td>1.5435</td> \n",
       "</tr>\n",
       "<tr>\n",
       "  <th>NumBorrow</th>       <td>-11.2690</td>  <td>0.3420</td>  <td>-32.9482</td> <td>0.0000</td> <td>-11.9394</td> <td>-10.5987</td>\n",
       "</tr>\n",
       "<tr>\n",
       "  <th>DTIRat</th>           <td>1.6939</td>   <td>0.1034</td>   <td>16.3756</td> <td>0.0000</td>  <td>1.4912</td>   <td>1.8967</td> \n",
       "</tr>\n",
       "<tr>\n",
       "  <th>MortInsPerc</th>      <td>3.2268</td>   <td>0.1642</td>   <td>19.6476</td> <td>0.0000</td>  <td>2.9049</td>   <td>3.5487</td> \n",
       "</tr>\n",
       "<tr>\n",
       "  <th>CoCreditScore</th>   <td>-12.1585</td>  <td>0.2170</td>  <td>-56.0355</td> <td>0.0000</td> <td>-12.5838</td> <td>-11.7333</td>\n",
       "</tr>\n",
       "<tr>\n",
       "  <th>Channel_C</th>        <td>-0.1768</td>  <td>0.0368</td>   <td>-4.8057</td> <td>0.0000</td>  <td>-0.2489</td>  <td>-0.1047</td>\n",
       "</tr>\n",
       "<tr>\n",
       "  <th>Channel_R</th>        <td>-0.3848</td>  <td>0.0381</td>  <td>-10.0926</td> <td>0.0000</td>  <td>-0.4595</td>  <td>-0.3100</td>\n",
       "</tr>\n",
       "<tr>\n",
       "  <th>FTHomeBuyer_Y</th>    <td>-0.1947</td>  <td>0.0613</td>   <td>-3.1738</td> <td>0.0015</td>  <td>-0.3149</td>  <td>-0.0744</td>\n",
       "</tr>\n",
       "<tr>\n",
       "  <th>LoanPurpose_R</th>    <td>0.1610</td>   <td>0.0359</td>   <td>4.4847</td>  <td>0.0000</td>  <td>0.0906</td>   <td>0.2313</td> \n",
       "</tr>\n",
       "<tr>\n",
       "  <th>PropertyType_PU</th>  <td>0.0903</td>   <td>0.0436</td>   <td>2.0725</td>  <td>0.0382</td>  <td>0.0049</td>   <td>0.1757</td> \n",
       "</tr>\n",
       "<tr>\n",
       "  <th>OccStatus_P</th>      <td>-1.1146</td>  <td>0.0463</td>  <td>-24.0721</td> <td>0.0000</td>  <td>-1.2053</td>  <td>-1.0238</td>\n",
       "</tr>\n",
       "<tr>\n",
       "  <th>OccStatus_S</th>      <td>-0.4542</td>  <td>0.0786</td>   <td>-5.7754</td> <td>0.0000</td>  <td>-0.6083</td>  <td>-0.3000</td>\n",
       "</tr>\n",
       "</table>"
      ],
      "text/plain": [
       "<class 'statsmodels.iolib.summary2.Summary'>\n",
       "\"\"\"\n",
       "                          Results: Logit\n",
       "===================================================================\n",
       "Model:                Logit            Pseudo R-squared: 0.179     \n",
       "Dependent Variable:   Default          AIC:              33342.9072\n",
       "Date:                 2020-02-23 17:38 BIC:              33469.8631\n",
       "No. Observations:     64105            Log-Likelihood:   -16657.   \n",
       "Df Model:             13               LL-Null:          -20295.   \n",
       "Df Residuals:         64091            LLR p-value:      0.0000    \n",
       "Converged:            1.0000           Scale:            1.0000    \n",
       "No. Iterations:       8.0000                                       \n",
       "-------------------------------------------------------------------\n",
       "                 Coef.   Std.Err.    z     P>|z|   [0.025   0.975] \n",
       "-------------------------------------------------------------------\n",
       "Intercept         2.7429   0.2467  11.1201 0.0000   2.2595   3.2264\n",
       "OrInterestRate    2.2593   0.2139  10.5609 0.0000   1.8400   2.6785\n",
       "OrUnpaidPrinc     1.2295   0.1602   7.6726 0.0000   0.9154   1.5435\n",
       "NumBorrow       -11.2690   0.3420 -32.9482 0.0000 -11.9394 -10.5987\n",
       "DTIRat            1.6939   0.1034  16.3756 0.0000   1.4912   1.8967\n",
       "MortInsPerc       3.2268   0.1642  19.6476 0.0000   2.9049   3.5487\n",
       "CoCreditScore   -12.1585   0.2170 -56.0355 0.0000 -12.5838 -11.7333\n",
       "Channel_C        -0.1768   0.0368  -4.8057 0.0000  -0.2489  -0.1047\n",
       "Channel_R        -0.3848   0.0381 -10.0926 0.0000  -0.4595  -0.3100\n",
       "FTHomeBuyer_Y    -0.1947   0.0613  -3.1738 0.0015  -0.3149  -0.0744\n",
       "LoanPurpose_R     0.1610   0.0359   4.4847 0.0000   0.0906   0.2313\n",
       "PropertyType_PU   0.0903   0.0436   2.0725 0.0382   0.0049   0.1757\n",
       "OccStatus_P      -1.1146   0.0463 -24.0721 0.0000  -1.2053  -1.0238\n",
       "OccStatus_S      -0.4542   0.0786  -5.7754 0.0000  -0.6083  -0.3000\n",
       "===================================================================\n",
       "\n",
       "\"\"\""
      ]
     },
     "execution_count": 127,
     "metadata": {},
     "output_type": "execute_result"
    }
   ],
   "source": [
    "import statsmodels.formula.api as sm\n",
    "model=sm.logit(formula=\"Default~OrInterestRate+OrUnpaidPrinc+NumBorrow+DTIRat+MortInsPerc+CoCreditScore+Channel_C+ Channel_R+ FTHomeBuyer_Y+LoanPurpose_R+PropertyType_PU+OccStatus_P+ OccStatus_S\",data=train6).fit()\n",
    "model.summary2()"
   ]
  },
  {
   "cell_type": "code",
   "execution_count": 128,
   "metadata": {},
   "outputs": [
    {
     "data": {
      "text/plain": [
       "0.9020981202714297"
      ]
     },
     "execution_count": 128,
     "metadata": {},
     "output_type": "execute_result"
    }
   ],
   "source": [
    "train6[\"pred\"]=model.predict()\n",
    "train6[\"pred_flag\"]=np.where(train6[\"pred\"]>=0.5,1,0)\n",
    "from sklearn.metrics import accuracy_score\n",
    "accuracy_score(train6[\"Default\"],train6[\"pred_flag\"])"
   ]
  },
  {
   "cell_type": "code",
   "execution_count": 129,
   "metadata": {},
   "outputs": [
    {
     "name": "stderr",
     "output_type": "stream",
     "text": [
      "C:\\Users\\HP\\.conda\\envs\\Data Science\\lib\\site-packages\\ipykernel_launcher.py:1: SettingWithCopyWarning: \n",
      "A value is trying to be set on a copy of a slice from a DataFrame.\n",
      "Try using .loc[row_indexer,col_indexer] = value instead\n",
      "\n",
      "See the caveats in the documentation: http://pandas.pydata.org/pandas-docs/stable/user_guide/indexing.html#returning-a-view-versus-a-copy\n",
      "  \"\"\"Entry point for launching an IPython kernel.\n"
     ]
    }
   ],
   "source": [
    "test[\"pred\"]=model.predict(test)"
   ]
  },
  {
   "cell_type": "code",
   "execution_count": 130,
   "metadata": {},
   "outputs": [
    {
     "data": {
      "text/html": [
       "<div>\n",
       "<style scoped>\n",
       "    .dataframe tbody tr th:only-of-type {\n",
       "        vertical-align: middle;\n",
       "    }\n",
       "\n",
       "    .dataframe tbody tr th {\n",
       "        vertical-align: top;\n",
       "    }\n",
       "\n",
       "    .dataframe thead th {\n",
       "        text-align: right;\n",
       "    }\n",
       "</style>\n",
       "<table border=\"1\" class=\"dataframe\">\n",
       "  <thead>\n",
       "    <tr style=\"text-align: right;\">\n",
       "      <th></th>\n",
       "      <th>OrInterestRate</th>\n",
       "      <th>OrUnpaidPrinc</th>\n",
       "      <th>OrLoanTerm</th>\n",
       "      <th>OrLTV</th>\n",
       "      <th>OrCLTV</th>\n",
       "      <th>NumBorrow</th>\n",
       "      <th>DTIRat</th>\n",
       "      <th>CreditScore</th>\n",
       "      <th>MortInsPerc</th>\n",
       "      <th>CoCreditScore</th>\n",
       "      <th>...</th>\n",
       "      <th>FTHomeBuyer_Y</th>\n",
       "      <th>LoanPurpose_P</th>\n",
       "      <th>LoanPurpose_R</th>\n",
       "      <th>PropertyType_CP</th>\n",
       "      <th>PropertyType_MH</th>\n",
       "      <th>PropertyType_PU</th>\n",
       "      <th>PropertyType_SF</th>\n",
       "      <th>OccStatus_P</th>\n",
       "      <th>OccStatus_S</th>\n",
       "      <th>pred</th>\n",
       "    </tr>\n",
       "  </thead>\n",
       "  <tbody>\n",
       "    <tr>\n",
       "      <th>20501</th>\n",
       "      <td>0.468085</td>\n",
       "      <td>0.082524</td>\n",
       "      <td>0.4</td>\n",
       "      <td>0.666667</td>\n",
       "      <td>0.450704</td>\n",
       "      <td>0.000000</td>\n",
       "      <td>0.603175</td>\n",
       "      <td>0.605322</td>\n",
       "      <td>0.654569</td>\n",
       "      <td>0.654640</td>\n",
       "      <td>...</td>\n",
       "      <td>0.0</td>\n",
       "      <td>0.0</td>\n",
       "      <td>0.0</td>\n",
       "      <td>0.0</td>\n",
       "      <td>1.0</td>\n",
       "      <td>0.0</td>\n",
       "      <td>0.0</td>\n",
       "      <td>1.0</td>\n",
       "      <td>0.0</td>\n",
       "      <td>0.115250</td>\n",
       "    </tr>\n",
       "    <tr>\n",
       "      <th>51947</th>\n",
       "      <td>0.606846</td>\n",
       "      <td>0.077670</td>\n",
       "      <td>0.4</td>\n",
       "      <td>0.718750</td>\n",
       "      <td>0.485915</td>\n",
       "      <td>0.111111</td>\n",
       "      <td>0.730159</td>\n",
       "      <td>0.439024</td>\n",
       "      <td>0.647971</td>\n",
       "      <td>0.519824</td>\n",
       "      <td>...</td>\n",
       "      <td>0.0</td>\n",
       "      <td>0.0</td>\n",
       "      <td>0.0</td>\n",
       "      <td>0.0</td>\n",
       "      <td>0.0</td>\n",
       "      <td>0.0</td>\n",
       "      <td>1.0</td>\n",
       "      <td>1.0</td>\n",
       "      <td>0.0</td>\n",
       "      <td>0.240524</td>\n",
       "    </tr>\n",
       "    <tr>\n",
       "      <th>11011</th>\n",
       "      <td>0.375578</td>\n",
       "      <td>0.270227</td>\n",
       "      <td>1.0</td>\n",
       "      <td>0.666667</td>\n",
       "      <td>0.450704</td>\n",
       "      <td>0.000000</td>\n",
       "      <td>0.809524</td>\n",
       "      <td>0.456763</td>\n",
       "      <td>0.665073</td>\n",
       "      <td>0.709843</td>\n",
       "      <td>...</td>\n",
       "      <td>0.0</td>\n",
       "      <td>0.0</td>\n",
       "      <td>0.0</td>\n",
       "      <td>0.0</td>\n",
       "      <td>0.0</td>\n",
       "      <td>0.0</td>\n",
       "      <td>1.0</td>\n",
       "      <td>1.0</td>\n",
       "      <td>0.0</td>\n",
       "      <td>0.063629</td>\n",
       "    </tr>\n",
       "    <tr>\n",
       "      <th>305595</th>\n",
       "      <td>0.468085</td>\n",
       "      <td>0.310680</td>\n",
       "      <td>1.0</td>\n",
       "      <td>0.822917</td>\n",
       "      <td>0.556338</td>\n",
       "      <td>0.111111</td>\n",
       "      <td>0.857143</td>\n",
       "      <td>0.556541</td>\n",
       "      <td>0.796690</td>\n",
       "      <td>0.508811</td>\n",
       "      <td>...</td>\n",
       "      <td>0.0</td>\n",
       "      <td>0.0</td>\n",
       "      <td>1.0</td>\n",
       "      <td>0.0</td>\n",
       "      <td>0.0</td>\n",
       "      <td>0.0</td>\n",
       "      <td>1.0</td>\n",
       "      <td>1.0</td>\n",
       "      <td>0.0</td>\n",
       "      <td>0.410050</td>\n",
       "    </tr>\n",
       "    <tr>\n",
       "      <th>49310</th>\n",
       "      <td>0.491212</td>\n",
       "      <td>0.236246</td>\n",
       "      <td>1.0</td>\n",
       "      <td>0.760417</td>\n",
       "      <td>0.514085</td>\n",
       "      <td>0.000000</td>\n",
       "      <td>0.698413</td>\n",
       "      <td>0.592018</td>\n",
       "      <td>0.746352</td>\n",
       "      <td>0.696430</td>\n",
       "      <td>...</td>\n",
       "      <td>0.0</td>\n",
       "      <td>0.0</td>\n",
       "      <td>0.0</td>\n",
       "      <td>0.0</td>\n",
       "      <td>0.0</td>\n",
       "      <td>1.0</td>\n",
       "      <td>0.0</td>\n",
       "      <td>1.0</td>\n",
       "      <td>0.0</td>\n",
       "      <td>0.105082</td>\n",
       "    </tr>\n",
       "  </tbody>\n",
       "</table>\n",
       "<p>5 rows × 25 columns</p>\n",
       "</div>"
      ],
      "text/plain": [
       "        OrInterestRate  OrUnpaidPrinc  OrLoanTerm     OrLTV    OrCLTV  \\\n",
       "20501         0.468085       0.082524         0.4  0.666667  0.450704   \n",
       "51947         0.606846       0.077670         0.4  0.718750  0.485915   \n",
       "11011         0.375578       0.270227         1.0  0.666667  0.450704   \n",
       "305595        0.468085       0.310680         1.0  0.822917  0.556338   \n",
       "49310         0.491212       0.236246         1.0  0.760417  0.514085   \n",
       "\n",
       "        NumBorrow    DTIRat  CreditScore  MortInsPerc  CoCreditScore  ...  \\\n",
       "20501    0.000000  0.603175     0.605322     0.654569       0.654640  ...   \n",
       "51947    0.111111  0.730159     0.439024     0.647971       0.519824  ...   \n",
       "11011    0.000000  0.809524     0.456763     0.665073       0.709843  ...   \n",
       "305595   0.111111  0.857143     0.556541     0.796690       0.508811  ...   \n",
       "49310    0.000000  0.698413     0.592018     0.746352       0.696430  ...   \n",
       "\n",
       "        FTHomeBuyer_Y  LoanPurpose_P  LoanPurpose_R  PropertyType_CP  \\\n",
       "20501             0.0            0.0            0.0              0.0   \n",
       "51947             0.0            0.0            0.0              0.0   \n",
       "11011             0.0            0.0            0.0              0.0   \n",
       "305595            0.0            0.0            1.0              0.0   \n",
       "49310             0.0            0.0            0.0              0.0   \n",
       "\n",
       "        PropertyType_MH  PropertyType_PU  PropertyType_SF  OccStatus_P  \\\n",
       "20501               1.0              0.0              0.0          1.0   \n",
       "51947               0.0              0.0              1.0          1.0   \n",
       "11011               0.0              0.0              1.0          1.0   \n",
       "305595              0.0              0.0              1.0          1.0   \n",
       "49310               0.0              1.0              0.0          1.0   \n",
       "\n",
       "        OccStatus_S      pred  \n",
       "20501           0.0  0.115250  \n",
       "51947           0.0  0.240524  \n",
       "11011           0.0  0.063629  \n",
       "305595          0.0  0.410050  \n",
       "49310           0.0  0.105082  \n",
       "\n",
       "[5 rows x 25 columns]"
      ]
     },
     "execution_count": 130,
     "metadata": {},
     "output_type": "execute_result"
    }
   ],
   "source": [
    "test.head()"
   ]
  },
  {
   "cell_type": "code",
   "execution_count": 131,
   "metadata": {},
   "outputs": [
    {
     "name": "stderr",
     "output_type": "stream",
     "text": [
      "C:\\Users\\HP\\.conda\\envs\\Data Science\\lib\\site-packages\\ipykernel_launcher.py:1: SettingWithCopyWarning: \n",
      "A value is trying to be set on a copy of a slice from a DataFrame.\n",
      "Try using .loc[row_indexer,col_indexer] = value instead\n",
      "\n",
      "See the caveats in the documentation: http://pandas.pydata.org/pandas-docs/stable/user_guide/indexing.html#returning-a-view-versus-a-copy\n",
      "  \"\"\"Entry point for launching an IPython kernel.\n"
     ]
    },
    {
     "data": {
      "text/plain": [
       "0.9024770699444687"
      ]
     },
     "execution_count": 131,
     "metadata": {},
     "output_type": "execute_result"
    }
   ],
   "source": [
    "\n",
    "test[\"pred_flag\"]=np.where(test[\"pred\"]>=0.5,1,0)\n",
    "from sklearn.metrics import accuracy_score\n",
    "accuracy_score(test[\"Default\"],test[\"pred_flag\"])"
   ]
  },
  {
   "cell_type": "code",
   "execution_count": 132,
   "metadata": {},
   "outputs": [
    {
     "name": "stdout",
     "output_type": "stream",
     "text": [
      "train data *** 0.4182621502209131\n",
      "test data *** 0.43209876543209874\n"
     ]
    }
   ],
   "source": [
    "from sklearn.metrics import precision_score\n",
    "print(\"train data ***\",precision_score(train6[\"Default\"],train6[\"pred_flag\"]))\n",
    "print(\"test data ***\",precision_score(test[\"Default\"],test[\"pred_flag\"]))"
   ]
  },
  {
   "cell_type": "code",
   "execution_count": 133,
   "metadata": {},
   "outputs": [
    {
     "name": "stdout",
     "output_type": "stream",
     "text": [
      "train data *** 0.04606650446066504\n",
      "test data *** 0.045425048669695\n"
     ]
    }
   ],
   "source": [
    "from sklearn.metrics import recall_score\n",
    "print(\"train data ***\",recall_score(train6[\"Default\"],train6[\"pred_flag\"]))\n",
    "print(\"test data ***\",recall_score(test[\"Default\"],test[\"pred_flag\"]))"
   ]
  },
  {
   "cell_type": "code",
   "execution_count": 134,
   "metadata": {},
   "outputs": [
    {
     "data": {
      "image/png": "[encoded data removed]",
      "text/plain": [
       "<Figure size 432x288 with 1 Axes>"
      ]
     },
     "metadata": {
      "needs_background": "light"
     },
     "output_type": "display_data"
    },
    {
     "data": {
      "text/plain": [
       "0.8090282141578348"
      ]
     },
     "execution_count": 134,
     "metadata": {},
     "output_type": "execute_result"
    }
   ],
   "source": [
    "\n",
    "######ROC AND AUC For Fiber bits model #########\n",
    "###for visualising the plots use matplotlib and import roc_curve,auc from sklearn.metrics \n",
    "from sklearn.metrics import roc_curve, auc\n",
    "import matplotlib.pyplot as plt\n",
    "\n",
    "actual = train6[['Default']]\n",
    "predicted_values1=train6[[\"pred\"]]\n",
    "false_positive_rate, true_positive_rate, thresholds = roc_curve(actual, predicted_values1)\n",
    "plt.title('Receiver Operating Characteristic')\n",
    "plt.plot(false_positive_rate, true_positive_rate)\n",
    "plt.plot([0,1],[0,1],'r--')\n",
    "plt.xlim([-0.1,1.2])\n",
    "plt.ylim([-0.1,1.2])\n",
    "plt.ylabel('True Positive Rate(Sensitivity)')\n",
    "plt.xlabel('False Positive Rate(Specificity)')\n",
    "plt.show()\n",
    "\n",
    "###Area under Curve-AUC\n",
    "roc_auc = auc(false_positive_rate, true_positive_rate)\n",
    "roc_auc"
   ]
  },
  {
   "cell_type": "code",
   "execution_count": 135,
   "metadata": {},
   "outputs": [
    {
     "data": {
      "text/plain": [
       "Index(['OrInterestRate', 'OrUnpaidPrinc', 'NumBorrow', 'DTIRat', 'MortInsPerc',\n",
       "       'CoCreditScore', 'Default', 'Channel_C', 'Channel_R', 'FTHomeBuyer_Y',\n",
       "       'LoanPurpose_R', 'PropertyType_PU', 'OccStatus_P', 'OccStatus_S',\n",
       "       'pred', 'pred_flag'],\n",
       "      dtype='object')"
      ]
     },
     "execution_count": 135,
     "metadata": {},
     "output_type": "execute_result"
    }
   ],
   "source": [
    "train6.columns"
   ]
  },
  {
   "cell_type": "code",
   "execution_count": 136,
   "metadata": {},
   "outputs": [],
   "source": [
    "train7=train6[[\"Default\",\"pred\"]]"
   ]
  },
  {
   "cell_type": "code",
   "execution_count": 137,
   "metadata": {},
   "outputs": [
    {
     "data": {
      "text/html": [
       "<div>\n",
       "<style scoped>\n",
       "    .dataframe tbody tr th:only-of-type {\n",
       "        vertical-align: middle;\n",
       "    }\n",
       "\n",
       "    .dataframe tbody tr th {\n",
       "        vertical-align: top;\n",
       "    }\n",
       "\n",
       "    .dataframe thead th {\n",
       "        text-align: right;\n",
       "    }\n",
       "</style>\n",
       "<table border=\"1\" class=\"dataframe\">\n",
       "  <thead>\n",
       "    <tr style=\"text-align: right;\">\n",
       "      <th></th>\n",
       "      <th>Default</th>\n",
       "      <th>pred</th>\n",
       "    </tr>\n",
       "  </thead>\n",
       "  <tbody>\n",
       "    <tr>\n",
       "      <th>301978</th>\n",
       "      <td>1.0</td>\n",
       "      <td>0.332197</td>\n",
       "    </tr>\n",
       "    <tr>\n",
       "      <th>73638</th>\n",
       "      <td>0.0</td>\n",
       "      <td>0.069049</td>\n",
       "    </tr>\n",
       "    <tr>\n",
       "      <th>156802</th>\n",
       "      <td>0.0</td>\n",
       "      <td>0.059397</td>\n",
       "    </tr>\n",
       "    <tr>\n",
       "      <th>332942</th>\n",
       "      <td>0.0</td>\n",
       "      <td>0.290747</td>\n",
       "    </tr>\n",
       "    <tr>\n",
       "      <th>311795</th>\n",
       "      <td>0.0</td>\n",
       "      <td>0.006645</td>\n",
       "    </tr>\n",
       "  </tbody>\n",
       "</table>\n",
       "</div>"
      ],
      "text/plain": [
       "        Default      pred\n",
       "301978      1.0  0.332197\n",
       "73638       0.0  0.069049\n",
       "156802      0.0  0.059397\n",
       "332942      0.0  0.290747\n",
       "311795      0.0  0.006645"
      ]
     },
     "execution_count": 137,
     "metadata": {},
     "output_type": "execute_result"
    }
   ],
   "source": [
    "train7.head()"
   ]
  },
  {
   "cell_type": "code",
   "execution_count": 138,
   "metadata": {},
   "outputs": [],
   "source": [
    "train8=train7.sort_values(\"pred\",ascending=False).reset_index().drop([\"index\"],axis=1)"
   ]
  },
  {
   "cell_type": "code",
   "execution_count": 139,
   "metadata": {},
   "outputs": [],
   "source": [
    "train8[\"row_no\"]=train8.index"
   ]
  },
  {
   "cell_type": "code",
   "execution_count": 140,
   "metadata": {},
   "outputs": [
    {
     "data": {
      "text/plain": [
       "(64105, 3)"
      ]
     },
     "execution_count": 140,
     "metadata": {},
     "output_type": "execute_result"
    }
   ],
   "source": [
    "train8.shape"
   ]
  },
  {
   "cell_type": "code",
   "execution_count": 141,
   "metadata": {},
   "outputs": [],
   "source": [
    "def bin_cra(row_no):\n",
    "    if row_no<11551:\n",
    "        return 1\n",
    "    elif row_no<23103:\n",
    "        return 2\n",
    "    elif row_no<34654:\n",
    "        return 3\n",
    "    elif row_no<46206:\n",
    "        return 4\n",
    "    elif row_no<57758:\n",
    "        return 5\n",
    "    elif row_no<69309:\n",
    "        return 6\n",
    "    elif row_no<80861:\n",
    "        return 7\n",
    "    elif row_no<92412:\n",
    "        return 8\n",
    "    elif row_no<103964:\n",
    "        return 9\n",
    "    else:\n",
    "        return 10\n",
    "        "
   ]
  },
  {
   "cell_type": "code",
   "execution_count": 142,
   "metadata": {},
   "outputs": [],
   "source": [
    "train8[\"bin_flag\"]=train8[\"row_no\"].apply(bin_cra)"
   ]
  },
  {
   "cell_type": "code",
   "execution_count": 143,
   "metadata": {},
   "outputs": [
    {
     "data": {
      "text/html": [
       "<div>\n",
       "<style scoped>\n",
       "    .dataframe tbody tr th:only-of-type {\n",
       "        vertical-align: middle;\n",
       "    }\n",
       "\n",
       "    .dataframe tbody tr th {\n",
       "        vertical-align: top;\n",
       "    }\n",
       "\n",
       "    .dataframe thead th {\n",
       "        text-align: right;\n",
       "    }\n",
       "</style>\n",
       "<table border=\"1\" class=\"dataframe\">\n",
       "  <thead>\n",
       "    <tr style=\"text-align: right;\">\n",
       "      <th></th>\n",
       "      <th>Default</th>\n",
       "      <th>pred</th>\n",
       "      <th>row_no</th>\n",
       "      <th>bin_flag</th>\n",
       "    </tr>\n",
       "  </thead>\n",
       "  <tbody>\n",
       "    <tr>\n",
       "      <th>0</th>\n",
       "      <td>0.0</td>\n",
       "      <td>0.988537</td>\n",
       "      <td>0</td>\n",
       "      <td>1</td>\n",
       "    </tr>\n",
       "    <tr>\n",
       "      <th>1</th>\n",
       "      <td>0.0</td>\n",
       "      <td>0.987441</td>\n",
       "      <td>1</td>\n",
       "      <td>1</td>\n",
       "    </tr>\n",
       "    <tr>\n",
       "      <th>2</th>\n",
       "      <td>0.0</td>\n",
       "      <td>0.923361</td>\n",
       "      <td>2</td>\n",
       "      <td>1</td>\n",
       "    </tr>\n",
       "    <tr>\n",
       "      <th>3</th>\n",
       "      <td>0.0</td>\n",
       "      <td>0.896460</td>\n",
       "      <td>3</td>\n",
       "      <td>1</td>\n",
       "    </tr>\n",
       "    <tr>\n",
       "      <th>4</th>\n",
       "      <td>0.0</td>\n",
       "      <td>0.881444</td>\n",
       "      <td>4</td>\n",
       "      <td>1</td>\n",
       "    </tr>\n",
       "  </tbody>\n",
       "</table>\n",
       "</div>"
      ],
      "text/plain": [
       "   Default      pred  row_no  bin_flag\n",
       "0      0.0  0.988537       0         1\n",
       "1      0.0  0.987441       1         1\n",
       "2      0.0  0.923361       2         1\n",
       "3      0.0  0.896460       3         1\n",
       "4      0.0  0.881444       4         1"
      ]
     },
     "execution_count": 143,
     "metadata": {},
     "output_type": "execute_result"
    }
   ],
   "source": [
    "train8.head()"
   ]
  },
  {
   "cell_type": "code",
   "execution_count": 144,
   "metadata": {},
   "outputs": [
    {
     "data": {
      "text/plain": [
       "5    11552\n",
       "4    11552\n",
       "2    11552\n",
       "3    11551\n",
       "1    11551\n",
       "6     6347\n",
       "Name: bin_flag, dtype: int64"
      ]
     },
     "execution_count": 144,
     "metadata": {},
     "output_type": "execute_result"
    }
   ],
   "source": [
    "train8[\"bin_flag\"].value_counts()"
   ]
  },
  {
   "cell_type": "code",
   "execution_count": 145,
   "metadata": {},
   "outputs": [
    {
     "data": {
      "text/html": [
       "<div>\n",
       "<style scoped>\n",
       "    .dataframe tbody tr th:only-of-type {\n",
       "        vertical-align: middle;\n",
       "    }\n",
       "\n",
       "    .dataframe tbody tr th {\n",
       "        vertical-align: top;\n",
       "    }\n",
       "\n",
       "    .dataframe thead th {\n",
       "        text-align: right;\n",
       "    }\n",
       "</style>\n",
       "<table border=\"1\" class=\"dataframe\">\n",
       "  <thead>\n",
       "    <tr style=\"text-align: right;\">\n",
       "      <th>Default</th>\n",
       "      <th>0.0</th>\n",
       "      <th>1.0</th>\n",
       "    </tr>\n",
       "    <tr>\n",
       "      <th>bin_flag</th>\n",
       "      <th></th>\n",
       "      <th></th>\n",
       "    </tr>\n",
       "  </thead>\n",
       "  <tbody>\n",
       "    <tr>\n",
       "      <th>1</th>\n",
       "      <td>7896</td>\n",
       "      <td>3655</td>\n",
       "    </tr>\n",
       "    <tr>\n",
       "      <th>2</th>\n",
       "      <td>10352</td>\n",
       "      <td>1200</td>\n",
       "    </tr>\n",
       "    <tr>\n",
       "      <th>3</th>\n",
       "      <td>10993</td>\n",
       "      <td>558</td>\n",
       "    </tr>\n",
       "    <tr>\n",
       "      <th>4</th>\n",
       "      <td>11137</td>\n",
       "      <td>415</td>\n",
       "    </tr>\n",
       "    <tr>\n",
       "      <th>5</th>\n",
       "      <td>11285</td>\n",
       "      <td>267</td>\n",
       "    </tr>\n",
       "    <tr>\n",
       "      <th>6</th>\n",
       "      <td>6277</td>\n",
       "      <td>70</td>\n",
       "    </tr>\n",
       "  </tbody>\n",
       "</table>\n",
       "</div>"
      ],
      "text/plain": [
       "Default     0.0   1.0\n",
       "bin_flag             \n",
       "1          7896  3655\n",
       "2         10352  1200\n",
       "3         10993   558\n",
       "4         11137   415\n",
       "5         11285   267\n",
       "6          6277    70"
      ]
     },
     "execution_count": 145,
     "metadata": {},
     "output_type": "execute_result"
    }
   ],
   "source": [
    "pd.crosstab(train8[\"bin_flag\"],train8[\"Default\"])"
   ]
  },
  {
   "cell_type": "code",
   "execution_count": null,
   "metadata": {},
   "outputs": [],
   "source": []
  }
 ],
 "metadata": {
  "kernelspec": {
   "display_name": "Python 3",
   "language": "python",
   "name": "python3"
  },
  "language_info": {
   "codemirror_mode": {
    "name": "ipython",
    "version": 3
   },
   "file_extension": ".py",
   "mimetype": "text/x-python",
   "name": "python",
   "nbconvert_exporter": "python",
   "pygments_lexer": "ipython3",
   "version": "3.7.5"
  }
 },
 "nbformat": 4,
 "nbformat_minor": 2
}
